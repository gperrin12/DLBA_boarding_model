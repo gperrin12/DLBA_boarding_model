{
 "cells": [
  {
   "cell_type": "markdown",
   "metadata": {},
   "source": [
    "# Detroit Land Bank Authority (DLBA) Boarding Model"
   ]
  },
  {
   "cell_type": "markdown",
   "metadata": {},
   "source": [
    "Geoff Perrin - 01.16.18\n",
    "\n",
    "- This notebook is to predict whether or not a (single family residential) house in Detroit should be boarded by the city or not, based on historical boarding decisions made by the city (i.e. labelled data I've receieved from the Detroit Land Bank Authority (DLBA) in the form of housing surveys, as well as the Motor City Mapping housing survey done in 2014-2016."
   ]
  },
  {
   "cell_type": "code",
   "execution_count": 1,
   "metadata": {
    "collapsed": true
   },
   "outputs": [],
   "source": [
    "#import data libraries\n",
    "import pandas as pd\n",
    "import numpy as np\n",
    "import matplotlib.pyplot as plt\n",
    "import seaborn as sns\n",
    "import re\n",
    "import datetime\n",
    "\n",
    "np.random.seed(222)\n",
    "%matplotlib inline"
   ]
  },
  {
   "cell_type": "code",
   "execution_count": 2,
   "metadata": {
    "collapsed": false
   },
   "outputs": [
    {
     "name": "stderr",
     "output_type": "stream",
     "text": [
      "/Users/geoffperrin/anaconda2/lib/python2.7/site-packages/sklearn/cross_validation.py:41: DeprecationWarning: This module was deprecated in version 0.18 in favor of the model_selection module into which all the refactored classes and functions are moved. Also note that the interface of the new CV iterators are different from that of this module. This module will be removed in 0.20.\n",
      "  \"This module will be removed in 0.20.\", DeprecationWarning)\n"
     ]
    }
   ],
   "source": [
    "#import machine learning / classification libraries\n",
    "from sklearn.cross_validation import train_test_split\n",
    "from sklearn import tree\n",
    "from sklearn.metrics import classification_report\n",
    "from sklearn.ensemble import RandomForestClassifier as RFC\n",
    "import graphviz\n",
    "from sklearn.model_selection import GridSearchCV\n",
    "from sklearn.feature_selection import RFE\n",
    "from sklearn.linear_model import LogisticRegression\n",
    "from sklearn.preprocessing import MinMaxScaler\n",
    "from sklearn.metrics import roc_auc_score, roc_curve, auc\n",
    "from sklearn.metrics import r2_score"
   ]
  },
  {
   "cell_type": "code",
   "execution_count": 3,
   "metadata": {
    "collapsed": true
   },
   "outputs": [],
   "source": [
    "#import machine learning / regression libraries\n",
    "from sklearn.ensemble import RandomForestRegressor\n",
    "from sklearn.linear_model import LinearRegression\n",
    "from sklearn.linear_model import LassoCV\n",
    "from sklearn.linear_model import RidgeCV\n",
    "from sklearn.metrics import mean_squared_error"
   ]
  },
  {
   "cell_type": "code",
   "execution_count": 4,
   "metadata": {
    "collapsed": true
   },
   "outputs": [],
   "source": [
    "rf_param_grid = {'max_depth': [20], 'n_estimators': np.arange(500,502,100)}\n",
    "#rf_param_grid = {'max_depth': [10, 20, 30], 'n_estimators': np.arange(401,602,100)}"
   ]
  },
  {
   "cell_type": "code",
   "execution_count": 5,
   "metadata": {
    "collapsed": false
   },
   "outputs": [
    {
     "name": "stderr",
     "output_type": "stream",
     "text": [
      "Using TensorFlow backend.\n"
     ]
    }
   ],
   "source": [
    "import tensorflow as tf\n",
    "from keras import models\n",
    "from keras import layers\n",
    "from keras import losses,optimizers,metrics,activations\n",
    "from keras.optimizers import SGD"
   ]
  },
  {
   "cell_type": "code",
   "execution_count": 6,
   "metadata": {
    "collapsed": false
   },
   "outputs": [],
   "source": [
    "from imblearn.over_sampling import RandomOverSampler\n",
    "from imblearn.over_sampling import SMOTE, ADASYN\n",
    "from collections import Counter"
   ]
  },
  {
   "cell_type": "code",
   "execution_count": 7,
   "metadata": {
    "collapsed": true
   },
   "outputs": [],
   "source": [
    "pd.options.display.max_columns = 120\n",
    "pd.options.display.max_rows = 120"
   ]
  },
  {
   "cell_type": "markdown",
   "metadata": {},
   "source": [
    "### Load Datasets"
   ]
  },
  {
   "cell_type": "code",
   "execution_count": 8,
   "metadata": {
    "collapsed": true
   },
   "outputs": [],
   "source": [
    "data = '../data/OccModelTrainingData_20170901/'\n",
    "data_gtj = '../data/'\n",
    "data_all = '../data/'"
   ]
  },
  {
   "cell_type": "markdown",
   "metadata": {},
   "source": [
    "#### GTJ Survey Data"
   ]
  },
  {
   "cell_type": "markdown",
   "metadata": {},
   "source": [
    "GTP Note 1-16-18: \n",
    "\n",
    "one strategy is to use GTJ data as labelled data - if \"GTJ Property Secure\" is \"No\", then boarding is needed."
   ]
  },
  {
   "cell_type": "code",
   "execution_count": 9,
   "metadata": {
    "collapsed": true
   },
   "outputs": [],
   "source": [
    "gtj_df_raw = pd.read_csv(data_gtj + 'MostRecentGTJSurvey_20180112.csv')"
   ]
  },
  {
   "cell_type": "code",
   "execution_count": 10,
   "metadata": {
    "collapsed": false
   },
   "outputs": [],
   "source": [
    "gtj_df = gtj_df_raw[['Parcel ID', 'Property: Property Class', 'Property: Program', 'Status', 'GTJ Survey Complete', 'GTJ Property Secure']]"
   ]
  },
  {
   "cell_type": "code",
   "execution_count": 11,
   "metadata": {
    "collapsed": true
   },
   "outputs": [],
   "source": [
    "gtj_df.columns = ['Ref_ID', 'property_class', 'program', 'status', 'survey_complete_date', 'boarding_needed']"
   ]
  },
  {
   "cell_type": "code",
   "execution_count": 12,
   "metadata": {
    "collapsed": false
   },
   "outputs": [
    {
     "name": "stderr",
     "output_type": "stream",
     "text": [
      "/Users/geoffperrin/anaconda2/lib/python2.7/site-packages/ipykernel/__main__.py:1: SettingWithCopyWarning: \n",
      "A value is trying to be set on a copy of a slice from a DataFrame.\n",
      "Try using .loc[row_indexer,col_indexer] = value instead\n",
      "\n",
      "See the caveats in the documentation: http://pandas.pydata.org/pandas-docs/stable/indexing.html#indexing-view-versus-copy\n",
      "  if __name__ == '__main__':\n"
     ]
    }
   ],
   "source": [
    "gtj_df['survey_complete_date'] = gtj_df['survey_complete_date'].apply(pd.to_datetime)"
   ]
  },
  {
   "cell_type": "code",
   "execution_count": 13,
   "metadata": {
    "collapsed": true
   },
   "outputs": [],
   "source": [
    "def year_date(x):\n",
    "    return x.year"
   ]
  },
  {
   "cell_type": "code",
   "execution_count": 14,
   "metadata": {
    "collapsed": false
   },
   "outputs": [
    {
     "name": "stderr",
     "output_type": "stream",
     "text": [
      "/Users/geoffperrin/anaconda2/lib/python2.7/site-packages/ipykernel/__main__.py:2: SettingWithCopyWarning: \n",
      "A value is trying to be set on a copy of a slice from a DataFrame.\n",
      "Try using .loc[row_indexer,col_indexer] = value instead\n",
      "\n",
      "See the caveats in the documentation: http://pandas.pydata.org/pandas-docs/stable/indexing.html#indexing-view-versus-copy\n",
      "  from ipykernel import kernelapp as app\n"
     ]
    }
   ],
   "source": [
    "#just subset to houses surveyed since beginning of 2016\n",
    "gtj_df['year'] = gtj_df['survey_complete_date'].apply(year_date)\n",
    "gtj_df = gtj_df[gtj_df.year >= 2016]"
   ]
  },
  {
   "cell_type": "code",
   "execution_count": 15,
   "metadata": {
    "collapsed": true
   },
   "outputs": [],
   "source": [
    "#subset to just residential-structures\n",
    "gtj_df = gtj_df[gtj_df['property_class'] == 'Residential-Structure']"
   ]
  },
  {
   "cell_type": "code",
   "execution_count": 16,
   "metadata": {
    "collapsed": false
   },
   "outputs": [
    {
     "data": {
      "text/html": [
       "<div>\n",
       "<style scoped>\n",
       "    .dataframe tbody tr th:only-of-type {\n",
       "        vertical-align: middle;\n",
       "    }\n",
       "\n",
       "    .dataframe tbody tr th {\n",
       "        vertical-align: top;\n",
       "    }\n",
       "\n",
       "    .dataframe thead th {\n",
       "        text-align: right;\n",
       "    }\n",
       "</style>\n",
       "<table border=\"1\" class=\"dataframe\">\n",
       "  <thead>\n",
       "    <tr style=\"text-align: right;\">\n",
       "      <th></th>\n",
       "      <th>year</th>\n",
       "      <th>Ref_ID</th>\n",
       "    </tr>\n",
       "  </thead>\n",
       "  <tbody>\n",
       "    <tr>\n",
       "      <th>0</th>\n",
       "      <td>2016.0</td>\n",
       "      <td>14677</td>\n",
       "    </tr>\n",
       "    <tr>\n",
       "      <th>1</th>\n",
       "      <td>2017.0</td>\n",
       "      <td>7161</td>\n",
       "    </tr>\n",
       "  </tbody>\n",
       "</table>\n",
       "</div>"
      ],
      "text/plain": [
       "     year  Ref_ID\n",
       "0  2016.0   14677\n",
       "1  2017.0    7161"
      ]
     },
     "execution_count": 16,
     "metadata": {},
     "output_type": "execute_result"
    }
   ],
   "source": [
    "gtj_df.groupby(['year'], as_index=False)['Ref_ID'].count()"
   ]
  },
  {
   "cell_type": "code",
   "execution_count": 17,
   "metadata": {
    "collapsed": true
   },
   "outputs": [],
   "source": [
    "def boarding_needed_flag(x):\n",
    "    if x=='Yes':\n",
    "        return 1\n",
    "    else:\n",
    "        return 0"
   ]
  },
  {
   "cell_type": "code",
   "execution_count": 18,
   "metadata": {
    "collapsed": true
   },
   "outputs": [],
   "source": [
    "gtj_df['boarding_needed_dummy'] = gtj_df['boarding_needed'].apply(boarding_needed_flag)"
   ]
  },
  {
   "cell_type": "code",
   "execution_count": 19,
   "metadata": {
    "collapsed": false
   },
   "outputs": [],
   "source": [
    "#final subset to just the columns we need\n",
    "gtj_df = gtj_df[['Ref_ID', 'boarding_needed_dummy']]"
   ]
  },
  {
   "cell_type": "markdown",
   "metadata": {},
   "source": [
    "### parcel points ownership Data"
   ]
  },
  {
   "cell_type": "code",
   "execution_count": 20,
   "metadata": {
    "collapsed": false
   },
   "outputs": [
    {
     "name": "stderr",
     "output_type": "stream",
     "text": [
      "/Users/geoffperrin/anaconda2/lib/python2.7/site-packages/IPython/core/interactiveshell.py:2723: DtypeWarning: Columns (3,4,23,24,27) have mixed types. Specify dtype option on import or set low_memory=False.\n",
      "  interactivity=interactivity, compiler=compiler, result=result)\n"
     ]
    }
   ],
   "source": [
    "ppo_df = pd.read_csv(data_all + 'Parcel_Points_Ownership.csv')"
   ]
  },
  {
   "cell_type": "code",
   "execution_count": 21,
   "metadata": {
    "collapsed": false
   },
   "outputs": [],
   "source": [
    "ppo_df = ppo_df[['Parcel Number', 'Owner', 'SaleDate', 'Last Sale Price', \\\n",
    "                 'Last Terms of Sale', 'Land Value', 'SqFt', 'Floor Area']]"
   ]
  },
  {
   "cell_type": "code",
   "execution_count": 22,
   "metadata": {
    "collapsed": false
   },
   "outputs": [],
   "source": [
    "ppo_df.columns = ['Ref_ID', 'Owner', 'SaleDate', 'SalePrice', 'TermsOfSale',\\\n",
    "                 'LandValue', 'SqFt', 'FloorArea']"
   ]
  },
  {
   "cell_type": "code",
   "execution_count": 23,
   "metadata": {
    "collapsed": true
   },
   "outputs": [],
   "source": [
    "gtj_addy_df = gtj_df_raw[['Parcel ID', 'Address', 'Property: Property Class']]\n",
    "gtj_addy_df.columns = ['Ref_ID', 'Address', 'property_class']"
   ]
  },
  {
   "cell_type": "code",
   "execution_count": 24,
   "metadata": {
    "collapsed": false
   },
   "outputs": [],
   "source": [
    "ppo_df = gtj_addy_df.merge(ppo_df, how='inner', on='Ref_ID')"
   ]
  },
  {
   "cell_type": "code",
   "execution_count": 25,
   "metadata": {
    "collapsed": true
   },
   "outputs": [],
   "source": [
    "### just keep residential-structures\n",
    "ppo_df = ppo_df[ppo_df['property_class']=='Residential-Structure']"
   ]
  },
  {
   "cell_type": "code",
   "execution_count": 26,
   "metadata": {
    "collapsed": false
   },
   "outputs": [],
   "source": [
    "def ownership_regex_dummy(name_of_owner):\n",
    "    try:\n",
    "        m = re.search(r\"LLC\",name_of_owner) \n",
    "        if m.group()[0] is not None:\n",
    "            return 1\n",
    "        else:\n",
    "            return 0\n",
    "    except:\n",
    "        return 0"
   ]
  },
  {
   "cell_type": "code",
   "execution_count": 27,
   "metadata": {
    "collapsed": false
   },
   "outputs": [],
   "source": [
    "ppo_df['LLC_Owner_dummy'] = ppo_df['Owner'].apply(ownership_regex_dummy)"
   ]
  },
  {
   "cell_type": "code",
   "execution_count": 28,
   "metadata": {
    "collapsed": false
   },
   "outputs": [],
   "source": [
    "def dollars_to_num(s):\n",
    "    try:\n",
    "        s = s.replace(',', '')\n",
    "        s = s.replace('$', '')\n",
    "        return pd.to_numeric(s, errors='coerce')\n",
    "    except:\n",
    "        return s"
   ]
  },
  {
   "cell_type": "code",
   "execution_count": 29,
   "metadata": {
    "collapsed": false
   },
   "outputs": [],
   "source": [
    "ppo_df['SalePrice'] = ppo_df['SalePrice'].apply(dollars_to_num)"
   ]
  },
  {
   "cell_type": "code",
   "execution_count": 30,
   "metadata": {
    "collapsed": false,
    "scrolled": false
   },
   "outputs": [],
   "source": [
    "def years_since_sale(date):\n",
    "    now = datetime.datetime.now()\n",
    "    return now.year - date.year"
   ]
  },
  {
   "cell_type": "code",
   "execution_count": 31,
   "metadata": {
    "collapsed": true
   },
   "outputs": [],
   "source": [
    "#convert saledate to datetime\n",
    "ppo_df['SaleDate'] = ppo_df['SaleDate'].apply(pd.to_datetime)"
   ]
  },
  {
   "cell_type": "code",
   "execution_count": 32,
   "metadata": {
    "collapsed": false,
    "scrolled": true
   },
   "outputs": [],
   "source": [
    "ppo_df['years_since_sale'] = ppo_df['SaleDate'].apply(years_since_sale)"
   ]
  },
  {
   "cell_type": "code",
   "execution_count": 33,
   "metadata": {
    "collapsed": false
   },
   "outputs": [],
   "source": [
    "ppo_df = ppo_df[['Ref_ID', 'SalePrice', 'LandValue', 'SqFt', 'LLC_Owner_dummy']]"
   ]
  },
  {
   "cell_type": "code",
   "execution_count": 34,
   "metadata": {
    "collapsed": true
   },
   "outputs": [],
   "source": [
    "def pandas_to_numeric2(s):\n",
    "    try:\n",
    "        s = s.replace(',', '')\n",
    "        return pd.to_numeric(s, errors='coerce')\n",
    "    except:\n",
    "        return s"
   ]
  },
  {
   "cell_type": "code",
   "execution_count": 35,
   "metadata": {
    "collapsed": true
   },
   "outputs": [],
   "source": [
    "def pandas_to_numeric(s):\n",
    "    try:\n",
    "        s = s.str.replace(',', '')\n",
    "        return pd.to_numeric(s, errors='coerce')\n",
    "    except:\n",
    "        return s"
   ]
  },
  {
   "cell_type": "code",
   "execution_count": 36,
   "metadata": {
    "collapsed": false
   },
   "outputs": [],
   "source": [
    "ppo_df['LandValue'] = ppo_df['LandValue'].apply(pandas_to_numeric2)"
   ]
  },
  {
   "cell_type": "markdown",
   "metadata": {},
   "source": [
    "#### Predict square footage based on sales price / landvalue"
   ]
  },
  {
   "cell_type": "code",
   "execution_count": 37,
   "metadata": {
    "collapsed": false
   },
   "outputs": [],
   "source": [
    "#drop rows where sqft is NaN or zero\n",
    "sqft_df = ppo_df[~pd.isnull(ppo_df['SqFt'])]"
   ]
  },
  {
   "cell_type": "code",
   "execution_count": 38,
   "metadata": {
    "collapsed": false
   },
   "outputs": [
    {
     "name": "stderr",
     "output_type": "stream",
     "text": [
      "/Users/geoffperrin/anaconda2/lib/python2.7/site-packages/ipykernel/__main__.py:1: SettingWithCopyWarning: \n",
      "A value is trying to be set on a copy of a slice from a DataFrame.\n",
      "Try using .loc[row_indexer,col_indexer] = value instead\n",
      "\n",
      "See the caveats in the documentation: http://pandas.pydata.org/pandas-docs/stable/indexing.html#indexing-view-versus-copy\n",
      "  if __name__ == '__main__':\n"
     ]
    }
   ],
   "source": [
    "sqft_df['SqFt'] = sqft_df['SqFt'].apply(pandas_to_numeric2)"
   ]
  },
  {
   "cell_type": "code",
   "execution_count": 39,
   "metadata": {
    "collapsed": true
   },
   "outputs": [],
   "source": [
    "#subset to non-zero values\n",
    "sqft_df = sqft_df[sqft_df['SqFt'] > 0]\n",
    "\n",
    "#subset to non-ridiculous values\n",
    "sqft_df = sqft_df[sqft_df['SqFt'] < 50000]"
   ]
  },
  {
   "cell_type": "code",
   "execution_count": 40,
   "metadata": {
    "collapsed": false
   },
   "outputs": [],
   "source": [
    "X = sqft_df.drop(['Ref_ID', 'SqFt'], axis=1)"
   ]
  },
  {
   "cell_type": "code",
   "execution_count": 41,
   "metadata": {
    "collapsed": true
   },
   "outputs": [],
   "source": [
    "y = sqft_df['SqFt']"
   ]
  },
  {
   "cell_type": "code",
   "execution_count": 42,
   "metadata": {
    "collapsed": true
   },
   "outputs": [],
   "source": [
    "X_train, X_test, y_train, y_test = train_test_split(X, y, test_size=0.3, random_state=42)"
   ]
  },
  {
   "cell_type": "code",
   "execution_count": 43,
   "metadata": {
    "collapsed": false
   },
   "outputs": [
    {
     "data": {
      "text/plain": [
       "GridSearchCV(cv=None, error_score='raise',\n",
       "       estimator=RandomForestRegressor(bootstrap=True, criterion='mse', max_depth=None,\n",
       "           max_features='auto', max_leaf_nodes=None,\n",
       "           min_impurity_decrease=0.0, min_impurity_split=None,\n",
       "           min_samples_leaf=1, min_samples_split=2,\n",
       "           min_weight_fraction_leaf=0.0, n_estimators=10, n_jobs=1,\n",
       "           oob_score=False, random_state=None, verbose=0, warm_start=False),\n",
       "       fit_params=None, iid=True, n_jobs=1,\n",
       "       param_grid={'n_estimators': array([500]), 'max_depth': [20]},\n",
       "       pre_dispatch='2*n_jobs', refit=True, return_train_score='warn',\n",
       "       scoring=None, verbose=0)"
      ]
     },
     "execution_count": 43,
     "metadata": {},
     "output_type": "execute_result"
    }
   ],
   "source": [
    "# use random forest to predict size_sqft\n",
    "r_tree = RandomForestRegressor()\n",
    "r_tree_tuned_sqft = GridSearchCV(r_tree, rf_param_grid)\n",
    "r_tree_tuned_sqft.fit(X_train, y_train)"
   ]
  },
  {
   "cell_type": "code",
   "execution_count": 44,
   "metadata": {
    "collapsed": false
   },
   "outputs": [
    {
     "data": {
      "text/html": [
       "<div>\n",
       "<style scoped>\n",
       "    .dataframe tbody tr th:only-of-type {\n",
       "        vertical-align: middle;\n",
       "    }\n",
       "\n",
       "    .dataframe tbody tr th {\n",
       "        vertical-align: top;\n",
       "    }\n",
       "\n",
       "    .dataframe thead th {\n",
       "        text-align: right;\n",
       "    }\n",
       "</style>\n",
       "<table border=\"1\" class=\"dataframe\">\n",
       "  <thead>\n",
       "    <tr style=\"text-align: right;\">\n",
       "      <th></th>\n",
       "      <th>variables</th>\n",
       "      <th>importance</th>\n",
       "    </tr>\n",
       "  </thead>\n",
       "  <tbody>\n",
       "    <tr>\n",
       "      <th>0</th>\n",
       "      <td>LandValue</td>\n",
       "      <td>0.789971</td>\n",
       "    </tr>\n",
       "    <tr>\n",
       "      <th>1</th>\n",
       "      <td>SalePrice</td>\n",
       "      <td>0.197223</td>\n",
       "    </tr>\n",
       "    <tr>\n",
       "      <th>2</th>\n",
       "      <td>LLC_Owner_dummy</td>\n",
       "      <td>0.0128063</td>\n",
       "    </tr>\n",
       "  </tbody>\n",
       "</table>\n",
       "</div>"
      ],
      "text/plain": [
       "         variables importance\n",
       "0        LandValue   0.789971\n",
       "1        SalePrice   0.197223\n",
       "2  LLC_Owner_dummy  0.0128063"
      ]
     },
     "execution_count": 44,
     "metadata": {},
     "output_type": "execute_result"
    }
   ],
   "source": [
    "#explore feature importance\n",
    "feature_importance = r_tree_tuned_sqft.best_estimator_.fit(X_train, y_train).feature_importances_\n",
    "Feature_importance_df = pd.DataFrame([list(X_train.columns), list(feature_importance)]).T\n",
    "Feature_importance_df.columns = [\"variables\", \"importance\"]\n",
    "Feature_importance_df.sort_values(by=\"importance\", ascending=False, inplace=True)\n",
    "Feature_importance_df.reset_index(inplace=True)\n",
    "Feature_importance_df.drop(u'index', axis=1, inplace=True)\n",
    "Feature_importance_df"
   ]
  },
  {
   "cell_type": "code",
   "execution_count": 45,
   "metadata": {
    "collapsed": false
   },
   "outputs": [
    {
     "data": {
      "text/plain": [
       "1080.1986848084653"
      ]
     },
     "execution_count": 45,
     "metadata": {},
     "output_type": "execute_result"
    }
   ],
   "source": [
    "#run accuracy metrics\n",
    "predictions = r_tree_tuned_sqft.predict(X_test)\n",
    "#RMSE\n",
    "mean_squared_error(y_test, predictions)**0.5"
   ]
  },
  {
   "cell_type": "code",
   "execution_count": 46,
   "metadata": {
    "collapsed": false
   },
   "outputs": [
    {
     "data": {
      "text/plain": [
       "1427.533821016304"
      ]
     },
     "execution_count": 46,
     "metadata": {},
     "output_type": "execute_result"
    }
   ],
   "source": [
    "y_test.std()"
   ]
  },
  {
   "cell_type": "code",
   "execution_count": 47,
   "metadata": {
    "collapsed": false
   },
   "outputs": [
    {
     "data": {
      "text/plain": [
       "0.4273429349045983"
      ]
     },
     "execution_count": 47,
     "metadata": {},
     "output_type": "execute_result"
    }
   ],
   "source": [
    "r2_score(y_test, predictions)"
   ]
  },
  {
   "cell_type": "code",
   "execution_count": 48,
   "metadata": {
    "collapsed": false
   },
   "outputs": [],
   "source": [
    "#apply model to full data\n",
    "sqft_predict = ppo_df.drop(['Ref_ID', 'SqFt'], axis=1)\n",
    "\n",
    "ppo_df['sqft_predict'] = r_tree_tuned_sqft.predict(sqft_predict)\n",
    "\n",
    "ppo_df['SqFt'] = ppo_df['SqFt'].apply(pandas_to_numeric2)"
   ]
  },
  {
   "cell_type": "code",
   "execution_count": 49,
   "metadata": {
    "collapsed": false
   },
   "outputs": [
    {
     "name": "stderr",
     "output_type": "stream",
     "text": [
      "/Users/geoffperrin/anaconda2/lib/python2.7/site-packages/ipykernel/__main__.py:2: SettingWithCopyWarning: \n",
      "A value is trying to be set on a copy of a slice from a DataFrame\n",
      "\n",
      "See the caveats in the documentation: http://pandas.pydata.org/pandas-docs/stable/indexing.html#indexing-view-versus-copy\n",
      "  from ipykernel import kernelapp as app\n"
     ]
    }
   ],
   "source": [
    "#if missing size_sqft (or if it's zero), replace with predicted value\n",
    "ppo_df['SqFt'][(pd.isnull(ppo_df['SqFt']) | (ppo_df['SqFt'] < 0.1))]\\\n",
    "= ppo_df['sqft_predict']\n",
    "        \n",
    "#drop predicted size_sqft\n",
    "ppo_df = ppo_df.drop(['sqft_predict'], axis=1)"
   ]
  },
  {
   "cell_type": "code",
   "execution_count": 50,
   "metadata": {
    "collapsed": false
   },
   "outputs": [
    {
     "data": {
      "text/html": [
       "<div>\n",
       "<style scoped>\n",
       "    .dataframe tbody tr th:only-of-type {\n",
       "        vertical-align: middle;\n",
       "    }\n",
       "\n",
       "    .dataframe tbody tr th {\n",
       "        vertical-align: top;\n",
       "    }\n",
       "\n",
       "    .dataframe thead th {\n",
       "        text-align: right;\n",
       "    }\n",
       "</style>\n",
       "<table border=\"1\" class=\"dataframe\">\n",
       "  <thead>\n",
       "    <tr style=\"text-align: right;\">\n",
       "      <th></th>\n",
       "      <th>Ref_ID</th>\n",
       "      <th>SalePrice</th>\n",
       "      <th>LandValue</th>\n",
       "      <th>SqFt</th>\n",
       "      <th>LLC_Owner_dummy</th>\n",
       "    </tr>\n",
       "  </thead>\n",
       "  <tbody>\n",
       "    <tr>\n",
       "      <th>0</th>\n",
       "      <td>22030396.</td>\n",
       "      <td>1500.0</td>\n",
       "      <td>659</td>\n",
       "      <td>4008.0</td>\n",
       "      <td>0</td>\n",
       "    </tr>\n",
       "    <tr>\n",
       "      <th>1</th>\n",
       "      <td>21019298-9</td>\n",
       "      <td>96478.0</td>\n",
       "      <td>1682</td>\n",
       "      <td>7928.0</td>\n",
       "      <td>0</td>\n",
       "    </tr>\n",
       "    <tr>\n",
       "      <th>2</th>\n",
       "      <td>01004952.</td>\n",
       "      <td>0.0</td>\n",
       "      <td>816</td>\n",
       "      <td>4879.0</td>\n",
       "      <td>0</td>\n",
       "    </tr>\n",
       "    <tr>\n",
       "      <th>3</th>\n",
       "      <td>16023426.</td>\n",
       "      <td>2900.0</td>\n",
       "      <td>823</td>\n",
       "      <td>3790.0</td>\n",
       "      <td>0</td>\n",
       "    </tr>\n",
       "    <tr>\n",
       "      <th>4</th>\n",
       "      <td>21019661.</td>\n",
       "      <td>65291.0</td>\n",
       "      <td>915</td>\n",
       "      <td>4421.0</td>\n",
       "      <td>0</td>\n",
       "    </tr>\n",
       "  </tbody>\n",
       "</table>\n",
       "</div>"
      ],
      "text/plain": [
       "       Ref_ID  SalePrice  LandValue    SqFt  LLC_Owner_dummy\n",
       "0   22030396.     1500.0        659  4008.0                0\n",
       "1  21019298-9    96478.0       1682  7928.0                0\n",
       "2   01004952.        0.0        816  4879.0                0\n",
       "3   16023426.     2900.0        823  3790.0                0\n",
       "4   21019661.    65291.0        915  4421.0                0"
      ]
     },
     "execution_count": 50,
     "metadata": {},
     "output_type": "execute_result"
    }
   ],
   "source": [
    "ppo_df.head()"
   ]
  },
  {
   "cell_type": "markdown",
   "metadata": {},
   "source": [
    "#### DTE data"
   ]
  },
  {
   "cell_type": "code",
   "execution_count": 51,
   "metadata": {
    "collapsed": false
   },
   "outputs": [],
   "source": [
    "dte_df = pd.read_csv(data + 'DTE_ActiveGasElectric_GeocoderMatches_20170920.txt')"
   ]
  },
  {
   "cell_type": "code",
   "execution_count": 52,
   "metadata": {
    "collapsed": false
   },
   "outputs": [],
   "source": [
    "dte_df = dte_df[['Ref_ID', 'DS_SER_PRODUCT_TYPE']]"
   ]
  },
  {
   "cell_type": "code",
   "execution_count": 53,
   "metadata": {
    "collapsed": true
   },
   "outputs": [],
   "source": [
    "### Deduplicate data\n",
    "dte_df = dte_df.drop_duplicates()"
   ]
  },
  {
   "cell_type": "code",
   "execution_count": 54,
   "metadata": {
    "collapsed": false
   },
   "outputs": [],
   "source": [
    "### long to wide reshape on DS_SER_PRODUCT_TYPE\n",
    "dte_df['gas_dummy'] = [1 if x=='GAS' else 0 for x in dte_df['DS_SER_PRODUCT_TYPE']]\n",
    "dte_df['electric_dummy'] = [1 if x=='ELC' else 0 for x in dte_df['DS_SER_PRODUCT_TYPE']]\n",
    "dte_df = dte_df.groupby(['Ref_ID'], as_index=False)['gas_dummy', 'electric_dummy'].sum()"
   ]
  },
  {
   "cell_type": "markdown",
   "metadata": {},
   "source": [
    "#### DWSD (Water Department) data"
   ]
  },
  {
   "cell_type": "code",
   "execution_count": 55,
   "metadata": {
    "collapsed": true
   },
   "outputs": [],
   "source": [
    "dwsd_df = pd.read_csv(data + 'DWSD_12Mo_20170825.csv')"
   ]
  },
  {
   "cell_type": "code",
   "execution_count": 56,
   "metadata": {
    "collapsed": false
   },
   "outputs": [],
   "source": [
    "dwsd_df = dwsd_df[[u'REPAIREDPARCELID',\n",
    "                   u'NINE', u'TEN', u'ELEVEN',\n",
    "                   u'TWELVE', u'ONE', u'TWO', u'THREE', u'FOUR', u'FIVE', u'SIX', u'SEVEN',\n",
    "                   u'EIGHT']]"
   ]
  },
  {
   "cell_type": "code",
   "execution_count": 57,
   "metadata": {
    "collapsed": true
   },
   "outputs": [],
   "source": [
    "dwsd_df[[u'NINE', u'TEN', u'ELEVEN', u'TWELVE', u'ONE', u'TWO', u'THREE', \\\n",
    "              u'FOUR', u'FIVE', u'SIX', u'SEVEN',u'EIGHT']] \\\n",
    "            = dwsd_df[[u'NINE', u'TEN', u'ELEVEN', u'TWELVE', u'ONE', \\\n",
    "                            u'TWO', u'THREE', u'FOUR', u'FIVE', u'SIX', u'SEVEN',\\\n",
    "                            u'EIGHT']].apply(pandas_to_numeric)"
   ]
  },
  {
   "cell_type": "code",
   "execution_count": 58,
   "metadata": {
    "collapsed": false
   },
   "outputs": [],
   "source": [
    "dwsd_df['year_total'] = dwsd_df.ONE + dwsd_df.TWO + dwsd_df.THREE + dwsd_df.FOUR +\\\n",
    "                        dwsd_df.FIVE + dwsd_df.SIX +dwsd_df.SEVEN + dwsd_df.EIGHT + dwsd_df.NINE +\\\n",
    "                        dwsd_df.TEN + dwsd_df.ELEVEN + dwsd_df.TWELVE"
   ]
  },
  {
   "cell_type": "code",
   "execution_count": 59,
   "metadata": {
    "collapsed": true
   },
   "outputs": [],
   "source": [
    "### sum water amounts of duplicate properties \n",
    "dwsd_df = dwsd_df.groupby(['REPAIREDPARCELID'], as_index=False)[ \n",
    "        u'NINE', u'TEN', u'ELEVEN', u'TWELVE', u'ONE', \n",
    "        u'TWO', u'THREE', u'FOUR', u'FIVE', u'SIX', \n",
    "        u'SEVEN', u'EIGHT', u'year_total'].sum()"
   ]
  },
  {
   "cell_type": "code",
   "execution_count": 60,
   "metadata": {
    "collapsed": true
   },
   "outputs": [],
   "source": [
    "dwsd_df = dwsd_df.rename(columns={'REPAIREDPARCELID': 'Ref_ID'})"
   ]
  },
  {
   "cell_type": "markdown",
   "metadata": {},
   "source": [
    "#### USPS / DFD (Fire Department) data"
   ]
  },
  {
   "cell_type": "code",
   "execution_count": 61,
   "metadata": {
    "collapsed": false
   },
   "outputs": [
    {
     "name": "stderr",
     "output_type": "stream",
     "text": [
      "/Users/geoffperrin/anaconda2/lib/python2.7/site-packages/IPython/core/interactiveshell.py:2723: DtypeWarning: Columns (5) have mixed types. Specify dtype option on import or set low_memory=False.\n",
      "  interactivity=interactivity, compiler=compiler, result=result)\n"
     ]
    }
   ],
   "source": [
    "usps_df = pd.read_csv(data + 'DFD_USPS_20170829.csv')"
   ]
  },
  {
   "cell_type": "code",
   "execution_count": 62,
   "metadata": {
    "collapsed": false
   },
   "outputs": [
    {
     "data": {
      "text/html": [
       "<div>\n",
       "<style scoped>\n",
       "    .dataframe tbody tr th:only-of-type {\n",
       "        vertical-align: middle;\n",
       "    }\n",
       "\n",
       "    .dataframe tbody tr th {\n",
       "        vertical-align: top;\n",
       "    }\n",
       "\n",
       "    .dataframe thead th {\n",
       "        text-align: right;\n",
       "    }\n",
       "</style>\n",
       "<table border=\"1\" class=\"dataframe\">\n",
       "  <thead>\n",
       "    <tr style=\"text-align: right;\">\n",
       "      <th></th>\n",
       "      <th>Account Name</th>\n",
       "      <th>Parcel ID</th>\n",
       "      <th>Property Class</th>\n",
       "      <th>USPS: Last Update</th>\n",
       "      <th>USPS: Vacancy Indicated</th>\n",
       "      <th>DFD Fire: Occurrence Date</th>\n",
       "    </tr>\n",
       "  </thead>\n",
       "  <tbody>\n",
       "    <tr>\n",
       "      <th>0</th>\n",
       "      <td>2411 Wendell</td>\n",
       "      <td>20007595.</td>\n",
       "      <td>Residential-Structure</td>\n",
       "      <td>8/1/2017</td>\n",
       "      <td>No</td>\n",
       "      <td>8/19/2017</td>\n",
       "    </tr>\n",
       "    <tr>\n",
       "      <th>1</th>\n",
       "      <td>17208 Ohio</td>\n",
       "      <td>16033858.</td>\n",
       "      <td>Residential-Structure</td>\n",
       "      <td>8/1/2017</td>\n",
       "      <td>No</td>\n",
       "      <td>8/19/2017</td>\n",
       "    </tr>\n",
       "    <tr>\n",
       "      <th>2</th>\n",
       "      <td>60 E Euclid</td>\n",
       "      <td>01002534.</td>\n",
       "      <td>Residential-Structure</td>\n",
       "      <td>8/1/2017</td>\n",
       "      <td>No</td>\n",
       "      <td>8/19/2017</td>\n",
       "    </tr>\n",
       "    <tr>\n",
       "      <th>3</th>\n",
       "      <td>8154 W Lafayette</td>\n",
       "      <td>20002305.</td>\n",
       "      <td>Residential-Structure</td>\n",
       "      <td>8/1/2017</td>\n",
       "      <td>Yes</td>\n",
       "      <td>8/19/2017</td>\n",
       "    </tr>\n",
       "    <tr>\n",
       "      <th>4</th>\n",
       "      <td>16691 Fairmount Dr</td>\n",
       "      <td>21025509.001</td>\n",
       "      <td>Residential-Structure</td>\n",
       "      <td>8/1/2017</td>\n",
       "      <td>No</td>\n",
       "      <td>8/18/2017</td>\n",
       "    </tr>\n",
       "  </tbody>\n",
       "</table>\n",
       "</div>"
      ],
      "text/plain": [
       "         Account Name     Parcel ID         Property Class USPS: Last Update  \\\n",
       "0        2411 Wendell     20007595.  Residential-Structure          8/1/2017   \n",
       "1          17208 Ohio     16033858.  Residential-Structure          8/1/2017   \n",
       "2         60 E Euclid     01002534.  Residential-Structure          8/1/2017   \n",
       "3    8154 W Lafayette     20002305.  Residential-Structure          8/1/2017   \n",
       "4  16691 Fairmount Dr  21025509.001  Residential-Structure          8/1/2017   \n",
       "\n",
       "  USPS: Vacancy Indicated DFD Fire: Occurrence Date  \n",
       "0                      No                 8/19/2017  \n",
       "1                      No                 8/19/2017  \n",
       "2                      No                 8/19/2017  \n",
       "3                     Yes                 8/19/2017  \n",
       "4                      No                 8/18/2017  "
      ]
     },
     "execution_count": 62,
     "metadata": {},
     "output_type": "execute_result"
    }
   ],
   "source": [
    "usps_df.head()"
   ]
  },
  {
   "cell_type": "code",
   "execution_count": 63,
   "metadata": {
    "collapsed": false
   },
   "outputs": [],
   "source": [
    "usps_df.columns = [u'Account Name', u'Ref_ID', u'Property Class', u'USPS: Last Update',\n",
    "       u'USPS: Vacancy Indicated', u'DFD Fire: Occurrence Date']"
   ]
  },
  {
   "cell_type": "code",
   "execution_count": 64,
   "metadata": {
    "collapsed": false
   },
   "outputs": [],
   "source": [
    "### subset to residential data\n",
    "usps_df = usps_df[usps_df['Property Class'] == 'Residential-Structure']"
   ]
  },
  {
   "cell_type": "code",
   "execution_count": 65,
   "metadata": {
    "collapsed": false
   },
   "outputs": [],
   "source": [
    "### create DFD fire dummy\n",
    "usps_df['fire_occured_dummy'] = [0 if pd.isnull(x) else 1 for x in usps_df['DFD Fire: Occurrence Date']]"
   ]
  },
  {
   "cell_type": "code",
   "execution_count": 66,
   "metadata": {
    "collapsed": true
   },
   "outputs": [],
   "source": [
    "### create USPS occupied dummy\n",
    "usps_df['usps_occupied_dummy'] = [1 if x == \"No\" else 0 for x in usps_df['USPS: Vacancy Indicated']]"
   ]
  },
  {
   "cell_type": "code",
   "execution_count": 67,
   "metadata": {
    "collapsed": true
   },
   "outputs": [],
   "source": [
    "### Just keep variables we need\n",
    "usps_df = usps_df[[u'Ref_ID', u'fire_occured_dummy',\n",
    "                   u'usps_occupied_dummy']]"
   ]
  },
  {
   "cell_type": "markdown",
   "metadata": {},
   "source": [
    "#### QVF (voter registration) data"
   ]
  },
  {
   "cell_type": "code",
   "execution_count": 68,
   "metadata": {
    "collapsed": false
   },
   "outputs": [
    {
     "name": "stderr",
     "output_type": "stream",
     "text": [
      "/Users/geoffperrin/anaconda2/lib/python2.7/site-packages/IPython/core/interactiveshell.py:2723: DtypeWarning: Columns (24) have mixed types. Specify dtype option on import or set low_memory=False.\n",
      "  interactivity=interactivity, compiler=compiler, result=result)\n"
     ]
    }
   ],
   "source": [
    "vote_df = pd.read_csv(data + 'QVF_Detroit_Geo_20170717.txt')"
   ]
  },
  {
   "cell_type": "code",
   "execution_count": 69,
   "metadata": {
    "collapsed": false
   },
   "outputs": [],
   "source": [
    "vote_df = vote_df[['Ref_ID']]\n",
    "vote_df['vote_dummy'] = 1"
   ]
  },
  {
   "cell_type": "code",
   "execution_count": 70,
   "metadata": {
    "collapsed": true
   },
   "outputs": [],
   "source": [
    "vote_df = vote_df.drop_duplicates()"
   ]
  },
  {
   "cell_type": "markdown",
   "metadata": {},
   "source": [
    "#### Blext data (Motor City Mapping data)\n",
    "- https://motorcitymapping.org/#t=overview&s=detroit&f=all"
   ]
  },
  {
   "cell_type": "code",
   "execution_count": 71,
   "metadata": {
    "collapsed": false
   },
   "outputs": [],
   "source": [
    "mcm_df = pd.read_csv(data + 'Recent_Blexts_8_18_16_v2.csv')"
   ]
  },
  {
   "cell_type": "code",
   "execution_count": 72,
   "metadata": {
    "collapsed": false
   },
   "outputs": [],
   "source": [
    "mcm_df = mcm_df[[u'Account Name', u'Parcel ID', u'MCM Structure',\n",
    "       u'Property Class', u'MCM Occupancy', u'MCM Blext Created At']]"
   ]
  },
  {
   "cell_type": "code",
   "execution_count": 73,
   "metadata": {
    "collapsed": false
   },
   "outputs": [],
   "source": [
    "mcm_df.columns = [u'Account Name', u'Ref_ID', u'MCM Structure',\n",
    "       u'Property Class', u'MCM Occupancy', u'MCM Blext Created At']"
   ]
  },
  {
   "cell_type": "code",
   "execution_count": 74,
   "metadata": {
    "collapsed": true
   },
   "outputs": [],
   "source": [
    "### subset to residential data\n",
    "mcm_df = mcm_df[mcm_df['Property Class'] == 'Residential-Structure']"
   ]
  },
  {
   "cell_type": "code",
   "execution_count": 75,
   "metadata": {
    "collapsed": true
   },
   "outputs": [],
   "source": [
    "### subset to non-lot properties\n",
    "mcm_df = mcm_df[mcm_df['MCM Structure'] == 'Yes']"
   ]
  },
  {
   "cell_type": "markdown",
   "metadata": {},
   "source": [
    "#### Note from Alice Hargreaves:"
   ]
  },
  {
   "cell_type": "markdown",
   "metadata": {},
   "source": [
    "NOTE: code \"maybe\" or \"partial\" occupied houses as occupied... Ive googled a lot of the \"maybes\" and theyre nearly all structually sound --- i.e., someone could occupy it, but someone might not be sleeping there every night - GP line of thinking about 3k rows are \"maybe\" or \"partial\" \n",
    "\n",
    "(R-code below):"
   ]
  },
  {
   "cell_type": "raw",
   "metadata": {},
   "source": [
    "blext_unknown<-subset(blext, (!(blext$MCM.Occupancy==\"Occupied\") & !(blext$MCM.Occupancy==\"Unoccupied\")))"
   ]
  },
  {
   "cell_type": "code",
   "execution_count": 76,
   "metadata": {
    "collapsed": true
   },
   "outputs": [],
   "source": [
    "def occupancy_binary(x):\n",
    "    if (x == \"Occupied\") | (x == \"Unoccupied\"):\n",
    "        return x\n",
    "    else:\n",
    "        return \"Occupied\""
   ]
  },
  {
   "cell_type": "code",
   "execution_count": 77,
   "metadata": {
    "collapsed": false
   },
   "outputs": [],
   "source": [
    "mcm_df['MCM Occupancy'] = mcm_df['MCM Occupancy'].apply(occupancy_binary)"
   ]
  },
  {
   "cell_type": "code",
   "execution_count": 78,
   "metadata": {
    "collapsed": true
   },
   "outputs": [],
   "source": [
    "### create DFD fire dummy\n",
    "mcm_df['mcm_occupancy_dummy'] = [1 if x == 'Occupied' else 0 for x in mcm_df['MCM Occupancy']]"
   ]
  },
  {
   "cell_type": "markdown",
   "metadata": {},
   "source": [
    "#### Blight Violations Data"
   ]
  },
  {
   "cell_type": "code",
   "execution_count": 79,
   "metadata": {
    "collapsed": false
   },
   "outputs": [
    {
     "name": "stderr",
     "output_type": "stream",
     "text": [
      "/Users/geoffperrin/anaconda2/lib/python2.7/site-packages/IPython/core/interactiveshell.py:2723: DtypeWarning: Columns (8) have mixed types. Specify dtype option on import or set low_memory=False.\n",
      "  interactivity=interactivity, compiler=compiler, result=result)\n"
     ]
    }
   ],
   "source": [
    "blight_df_raw = pd.read_csv(data_all + 'Blight_Violations.csv')"
   ]
  },
  {
   "cell_type": "code",
   "execution_count": 80,
   "metadata": {
    "collapsed": false
   },
   "outputs": [
    {
     "data": {
      "text/html": [
       "<div>\n",
       "<style scoped>\n",
       "    .dataframe tbody tr th:only-of-type {\n",
       "        vertical-align: middle;\n",
       "    }\n",
       "\n",
       "    .dataframe tbody tr th {\n",
       "        vertical-align: top;\n",
       "    }\n",
       "\n",
       "    .dataframe thead th {\n",
       "        text-align: right;\n",
       "    }\n",
       "</style>\n",
       "<table border=\"1\" class=\"dataframe\">\n",
       "  <thead>\n",
       "    <tr style=\"text-align: right;\">\n",
       "      <th></th>\n",
       "      <th>Ticket ID</th>\n",
       "      <th>Ticket Number</th>\n",
       "      <th>Agency Name</th>\n",
       "      <th>Inspector Name</th>\n",
       "      <th>Violator Name</th>\n",
       "      <th>Violator ID</th>\n",
       "      <th>Violation Street Number</th>\n",
       "      <th>Violation Street Name</th>\n",
       "      <th>Violation Zip Code</th>\n",
       "      <th>Mailing Address Street Number</th>\n",
       "      <th>Mailing Address Street Name</th>\n",
       "      <th>Mailing Address City</th>\n",
       "      <th>Mailing Address State</th>\n",
       "      <th>Mailing Address Zip Code</th>\n",
       "      <th>Mailing Address Non-USA Code</th>\n",
       "      <th>Mailing Address Country</th>\n",
       "      <th>Violation Date</th>\n",
       "      <th>Ticket Issued Time</th>\n",
       "      <th>Hearing Date</th>\n",
       "      <th>Hearing Time</th>\n",
       "      <th>Violation Code</th>\n",
       "      <th>Violation Description</th>\n",
       "      <th>Disposition</th>\n",
       "      <th>Fine Amount</th>\n",
       "      <th>Admin Fee</th>\n",
       "      <th>State Fee</th>\n",
       "      <th>Late Fee</th>\n",
       "      <th>Discount Amount</th>\n",
       "      <th>Clean Up Cost</th>\n",
       "      <th>Judgment Amount (Total Due)</th>\n",
       "      <th>Payment Amount (Sum of All Payments)</th>\n",
       "      <th>Balance Due</th>\n",
       "      <th>Payment Date (Most Recent)</th>\n",
       "      <th>Payment Status</th>\n",
       "      <th>Collection Status</th>\n",
       "      <th>Violation Address</th>\n",
       "      <th>Violation Parcel ID</th>\n",
       "      <th>Violation Latitude</th>\n",
       "      <th>Violation Longitude</th>\n",
       "      <th>Violation Location</th>\n",
       "    </tr>\n",
       "  </thead>\n",
       "  <tbody>\n",
       "    <tr>\n",
       "      <th>0</th>\n",
       "      <td>287802</td>\n",
       "      <td>12044442DAH</td>\n",
       "      <td>Department of Public Works</td>\n",
       "      <td>Leah Jones</td>\n",
       "      <td>RICHARD ROSS</td>\n",
       "      <td>254088</td>\n",
       "      <td>8561</td>\n",
       "      <td>SUSSEX</td>\n",
       "      <td>NaN</td>\n",
       "      <td>340</td>\n",
       "      <td>W. 21ST AVE.</td>\n",
       "      <td>APACHE JUNCTION</td>\n",
       "      <td>AZ</td>\n",
       "      <td>85220</td>\n",
       "      <td>NaN</td>\n",
       "      <td>NaN</td>\n",
       "      <td>03/13/2012</td>\n",
       "      <td>1900-01-01T10:15:00</td>\n",
       "      <td>04/11/2012</td>\n",
       "      <td>9:00 AM</td>\n",
       "      <td>22-2-88(b)</td>\n",
       "      <td>Allowing bulk solid waste to lie or accumulate...</td>\n",
       "      <td>Responsible by Default</td>\n",
       "      <td>$500.00</td>\n",
       "      <td>$20.00</td>\n",
       "      <td>$10.00</td>\n",
       "      <td>$0.00</td>\n",
       "      <td>$0.00</td>\n",
       "      <td>NaN</td>\n",
       "      <td>$530.00</td>\n",
       "      <td>NaN</td>\n",
       "      <td>$530.00</td>\n",
       "      <td>NaN</td>\n",
       "      <td>NaN</td>\n",
       "      <td>In collections</td>\n",
       "      <td>8561 SUSSEX</td>\n",
       "      <td>22047069.</td>\n",
       "      <td>42.356743</td>\n",
       "      <td>-83.194154</td>\n",
       "      <td>location\\n(42.356742685, -83.19415431)</td>\n",
       "    </tr>\n",
       "  </tbody>\n",
       "</table>\n",
       "</div>"
      ],
      "text/plain": [
       "   Ticket ID Ticket Number                 Agency Name Inspector Name  \\\n",
       "0     287802   12044442DAH  Department of Public Works     Leah Jones   \n",
       "\n",
       "  Violator Name  Violator ID  Violation Street Number Violation Street Name  \\\n",
       "0  RICHARD ROSS       254088                     8561                SUSSEX   \n",
       "\n",
       "  Violation Zip Code Mailing Address Street Number  \\\n",
       "0                NaN                           340   \n",
       "\n",
       "  Mailing Address Street Name Mailing Address City Mailing Address State  \\\n",
       "0                W. 21ST AVE.      APACHE JUNCTION                    AZ   \n",
       "\n",
       "  Mailing Address Zip Code Mailing Address Non-USA Code  \\\n",
       "0                    85220                          NaN   \n",
       "\n",
       "  Mailing Address Country Violation Date   Ticket Issued Time Hearing Date  \\\n",
       "0                     NaN     03/13/2012  1900-01-01T10:15:00   04/11/2012   \n",
       "\n",
       "  Hearing Time Violation Code  \\\n",
       "0      9:00 AM     22-2-88(b)   \n",
       "\n",
       "                               Violation Description             Disposition  \\\n",
       "0  Allowing bulk solid waste to lie or accumulate...  Responsible by Default   \n",
       "\n",
       "  Fine Amount Admin Fee State Fee Late Fee Discount Amount Clean Up Cost  \\\n",
       "0     $500.00    $20.00    $10.00    $0.00           $0.00           NaN   \n",
       "\n",
       "  Judgment Amount (Total Due) Payment Amount (Sum of All Payments)  \\\n",
       "0                     $530.00                                  NaN   \n",
       "\n",
       "  Balance Due Payment Date (Most Recent) Payment Status Collection Status  \\\n",
       "0     $530.00                        NaN            NaN    In collections   \n",
       "\n",
       "  Violation Address Violation Parcel ID  Violation Latitude  \\\n",
       "0       8561 SUSSEX           22047069.           42.356743   \n",
       "\n",
       "   Violation Longitude                      Violation Location  \n",
       "0           -83.194154  location\\n(42.356742685, -83.19415431)  "
      ]
     },
     "execution_count": 80,
     "metadata": {},
     "output_type": "execute_result"
    }
   ],
   "source": [
    "blight_df_raw.head(1)"
   ]
  },
  {
   "cell_type": "code",
   "execution_count": 81,
   "metadata": {
    "collapsed": true
   },
   "outputs": [],
   "source": [
    "blight_df = blight_df_raw[['Fine Amount', 'Violation Description', 'Violation Parcel ID']]"
   ]
  },
  {
   "cell_type": "code",
   "execution_count": 82,
   "metadata": {
    "collapsed": false
   },
   "outputs": [
    {
     "name": "stderr",
     "output_type": "stream",
     "text": [
      "/Users/geoffperrin/anaconda2/lib/python2.7/site-packages/ipykernel/__main__.py:1: SettingWithCopyWarning: \n",
      "A value is trying to be set on a copy of a slice from a DataFrame.\n",
      "Try using .loc[row_indexer,col_indexer] = value instead\n",
      "\n",
      "See the caveats in the documentation: http://pandas.pydata.org/pandas-docs/stable/indexing.html#indexing-view-versus-copy\n",
      "  if __name__ == '__main__':\n"
     ]
    }
   ],
   "source": [
    "blight_df['Fine Amount'] = blight_df['Fine Amount'].apply(dollars_to_num)"
   ]
  },
  {
   "cell_type": "code",
   "execution_count": 145,
   "metadata": {
    "collapsed": false
   },
   "outputs": [],
   "source": [
    "violation_df = blight_df.groupby(['Violation Description'], as_index=False)['Fine Amount'].count()\n",
    "violation_df.columns = ['Violation Description', 'violation_count']"
   ]
  },
  {
   "cell_type": "code",
   "execution_count": 146,
   "metadata": {
    "collapsed": true
   },
   "outputs": [],
   "source": [
    "blight_df = blight_df.merge(violation_df, how='left', on='Violation Description')"
   ]
  },
  {
   "cell_type": "code",
   "execution_count": 173,
   "metadata": {
    "collapsed": false
   },
   "outputs": [
    {
     "data": {
      "text/html": [
       "<div>\n",
       "<style scoped>\n",
       "    .dataframe tbody tr th:only-of-type {\n",
       "        vertical-align: middle;\n",
       "    }\n",
       "\n",
       "    .dataframe tbody tr th {\n",
       "        vertical-align: top;\n",
       "    }\n",
       "\n",
       "    .dataframe thead th {\n",
       "        text-align: right;\n",
       "    }\n",
       "</style>\n",
       "<table border=\"1\" class=\"dataframe\">\n",
       "  <thead>\n",
       "    <tr style=\"text-align: right;\">\n",
       "      <th></th>\n",
       "      <th>fine_amount</th>\n",
       "      <th>Violation Description</th>\n",
       "      <th>Ref_ID</th>\n",
       "      <th>violation_count</th>\n",
       "    </tr>\n",
       "  </thead>\n",
       "  <tbody>\n",
       "    <tr>\n",
       "      <th>0</th>\n",
       "      <td>500.0</td>\n",
       "      <td>Allowing bulk solid waste to lie or accumulate...</td>\n",
       "      <td>22047069.</td>\n",
       "      <td>34696.0</td>\n",
       "    </tr>\n",
       "    <tr>\n",
       "      <th>1</th>\n",
       "      <td>50.0</td>\n",
       "      <td>Excessive weeds or plant growth one- or two-fa...</td>\n",
       "      <td>15002111.</td>\n",
       "      <td>47907.0</td>\n",
       "    </tr>\n",
       "    <tr>\n",
       "      <th>2</th>\n",
       "      <td>50.0</td>\n",
       "      <td>Inoperable motor vehicle(s) one- or two-family...</td>\n",
       "      <td>18007081.</td>\n",
       "      <td>8776.0</td>\n",
       "    </tr>\n",
       "    <tr>\n",
       "      <th>3</th>\n",
       "      <td>50.0</td>\n",
       "      <td>Inoperable motor vehicle(s) one- or two-family...</td>\n",
       "      <td>22063920.</td>\n",
       "      <td>8776.0</td>\n",
       "    </tr>\n",
       "    <tr>\n",
       "      <th>4</th>\n",
       "      <td>50.0</td>\n",
       "      <td>Excessive weeds or plant growth one- or two-fa...</td>\n",
       "      <td>21061261.</td>\n",
       "      <td>47907.0</td>\n",
       "    </tr>\n",
       "  </tbody>\n",
       "</table>\n",
       "</div>"
      ],
      "text/plain": [
       "   fine_amount                              Violation Description     Ref_ID  \\\n",
       "0        500.0  Allowing bulk solid waste to lie or accumulate...  22047069.   \n",
       "1         50.0  Excessive weeds or plant growth one- or two-fa...  15002111.   \n",
       "2         50.0  Inoperable motor vehicle(s) one- or two-family...  18007081.   \n",
       "3         50.0  Inoperable motor vehicle(s) one- or two-family...  22063920.   \n",
       "4         50.0  Excessive weeds or plant growth one- or two-fa...  21061261.   \n",
       "\n",
       "   violation_count  \n",
       "0          34696.0  \n",
       "1          47907.0  \n",
       "2           8776.0  \n",
       "3           8776.0  \n",
       "4          47907.0  "
      ]
     },
     "execution_count": 173,
     "metadata": {},
     "output_type": "execute_result"
    }
   ],
   "source": [
    "#DROP ROWS WITH VIOLATIONS OF LESS THAN 200 violations total\n",
    "blight_df = blight_df[blight_df.violation_count > 200]\n",
    "blight_df.columns = ['fine_amount', 'Violation Description', 'Ref_ID', 'violation_count']\n",
    "blight_df.head()"
   ]
  },
  {
   "cell_type": "code",
   "execution_count": 174,
   "metadata": {
    "collapsed": true
   },
   "outputs": [],
   "source": [
    "### Dummy for Violation\n",
    "blight_df_w_dummies = pd.get_dummies(blight_df, prefix='violation_', columns=['Violation Description'], drop_first=False)"
   ]
  },
  {
   "cell_type": "code",
   "execution_count": 175,
   "metadata": {
    "collapsed": true
   },
   "outputs": [],
   "source": [
    "blight_df_w_dummies = blight_df_w_dummies.drop(['violation_count'], axis=1)"
   ]
  },
  {
   "cell_type": "code",
   "execution_count": 178,
   "metadata": {
    "collapsed": false
   },
   "outputs": [],
   "source": [
    "blight_df_w_dummies_sum = blight_df_w_dummies.groupby(['Ref_ID'], as_index=False).sum()"
   ]
  },
  {
   "cell_type": "code",
   "execution_count": 179,
   "metadata": {
    "collapsed": false
   },
   "outputs": [
    {
     "data": {
      "text/html": [
       "<div>\n",
       "<style scoped>\n",
       "    .dataframe tbody tr th:only-of-type {\n",
       "        vertical-align: middle;\n",
       "    }\n",
       "\n",
       "    .dataframe tbody tr th {\n",
       "        vertical-align: top;\n",
       "    }\n",
       "\n",
       "    .dataframe thead th {\n",
       "        text-align: right;\n",
       "    }\n",
       "</style>\n",
       "<table border=\"1\" class=\"dataframe\">\n",
       "  <thead>\n",
       "    <tr style=\"text-align: right;\">\n",
       "      <th></th>\n",
       "      <th>Ref_ID</th>\n",
       "      <th>fine_amount</th>\n",
       "      <th>violation__Allowing bulk solid waste to lie or accumulate on or about the premises</th>\n",
       "      <th>violation__Bulk solid waste deposited more than 24 hours before designated time</th>\n",
       "      <th>violation__Defective exterior wall(s) one- or two-family dwelling or commercial building</th>\n",
       "      <th>violation__Defective roof or drainage one- or two-family dwelling or commercial building</th>\n",
       "      <th>violation__Depositing domestic or commercial solid waste in containers owned, assigned to, or contracted for, by other persons or premises</th>\n",
       "      <th>violation__Dumping,  or deposting solid waste of five (5) cubic feet or more from any motor vehicle upon any public or private property or street</th>\n",
       "      <th>violation__Dumping, storing or depositing solid waste 5 or more cubic yards on any publicly-owned property, or private property or water, without a permit</th>\n",
       "      <th>violation__Dumping, storing or depositing solid waste on any publicly-owned property, or private property or water, without a permit</th>\n",
       "      <th>violation__Excessive weeds or plant growth one- or two-family dwelling or commercial Building</th>\n",
       "      <th>violation__Fail to comply with an Emergency or imminent danger order concerining an unsafe or unsanitary structure or unlawful occupancy (1 or 2 family dwelling)</th>\n",
       "      <th>violation__Fail to comply with an Emergency or imminent danger order concerining an unsafe or unsanitary structure or unlawful occupancy (Buildings with five (5) or more stories)</th>\n",
       "      <th>violation__Fail to comply with an Emergency or imminent danger order concerining an unsafe or unsanitary structure or unlawful occupancy (all other structures, except buildings with five (5) or more stories)</th>\n",
       "      <th>violation__Failed to comply with other land use or procedural requirements - Unlawful Sign, Banner or antenna</th>\n",
       "      <th>violation__Failed to obtain the required Certificate of registration for Vacant Building</th>\n",
       "      <th>violation__Failing to secure City or Private solid waste collection containers and services</th>\n",
       "      <th>violation__Failure of owner of a building with five (5) or more stories to comply with an emergency or imminent danger order concerning an unsafe or unsanitary structure or unlawful occupancy</th>\n",
       "      <th>violation__Failure of owner of any other structure, except buildings with five (5) or more stories, to comply with an emergency or imminent danger order concerning an unsafe or unsanitary structure or unlawful occupancy</th>\n",
       "      <th>violation__Failure of owner of one- or two-family dwelling to comply with an emergency or imminent danger order concerining an unsafe or unsanitary structure or unlawful occupancy</th>\n",
       "      <th>violation__Failure of owner to comply with an emergency or imminent danger order of one- or two-family dwelling or building</th>\n",
       "      <th>violation__Failure of owner to keep property, its sidewalks, or adjoining public property free from solid waste</th>\n",
       "      <th>violation__Failure of owner to keep property, its sidewalks, or adjoining public property free from solid, medical or hazardous waste</th>\n",
       "      <th>violation__Failure of owner to obtain certificate of compliance</th>\n",
       "      <th>violation__Failure of owner to remove graffiti or maintain or restore property free of graffiti.</th>\n",
       "      <th>violation__Failure to maintain a vacant building or structure in accordance with the requirements of Section 9-1-113 of the Detroit City Code: (1) - (12) (All structures except 1 or 2 family dwellings and buildings with 5 or more stories)</th>\n",
       "      <th>violation__Failure to maintain a vacant building or structure in accordance with the requirements of Section 9-1-113 of the Detroit City Code: (1) - (12) (One or Two Family dwelling)</th>\n",
       "      <th>violation__Failure to maintain accessory structure(s) one-or two- family dwelling or commercial building</th>\n",
       "      <th>violation__Failure to maintain balcony, deck, porch, or stairway one- or two-family dwelling or commercial building</th>\n",
       "      <th>violation__Failure to maintain exterior of one- or two-family dwelling, building, premises or commercial structure in good repair, structurally sound or in a sanitary condition to prevent threat to the public health, safety or welfare</th>\n",
       "      <th>violation__Failure to maintain vacant one- or two- family dwelling or building</th>\n",
       "      <th>violation__Failure to obtain Certificate of Compliance for rental property</th>\n",
       "      <th>violation__Failure to obtain a lead clearance for rental property - one or two-family dwelling</th>\n",
       "      <th>violation__Failure to obtain a permit for large movable or stationary container prior to the installation on any public right-of-way</th>\n",
       "      <th>violation__Failure to obtain certificate of registration for rental property</th>\n",
       "      <th>violation__Failure to obtain the certificate of Compliance for Vacant Building</th>\n",
       "      <th>violation__Failure to remove animal waste on public/private property</th>\n",
       "      <th>violation__Failure to secure City or Private solid waste collection containers and services</th>\n",
       "      <th>violation__Improper placement of Courville container between collections</th>\n",
       "      <th>violation__Improper storage and separation of solid waste for collection day</th>\n",
       "      <th>violation__Inoperable motor vehicle(s) one- or two-family dwelling or commercial building</th>\n",
       "      <th>violation__Open Storage/ Residential/ Inoperable Vehicles (R1)</th>\n",
       "      <th>violation__Removal of snow and ice from sidewalks</th>\n",
       "      <th>violation__Rodent harborage one-or two-family dwelling or commercial building</th>\n",
       "      <th>violation__Unlawful accumulation of solid waste one- or two-family dwelling or commercial building</th>\n",
       "      <th>violation__Unlawful change of use of building or land</th>\n",
       "      <th>violation__Unlawful occupation of rental property without lead clearance -  all other structures, except buildings with five (5) or more stories</th>\n",
       "      <th>violation__Unlawful occupation of rental property without lead clearance - one or two-family dwelling</th>\n",
       "      <th>violation__Violation of time limit for approved containers to remain at curbside - early or late</th>\n",
       "    </tr>\n",
       "  </thead>\n",
       "  <tbody>\n",
       "    <tr>\n",
       "      <th>0</th>\n",
       "      <td>\\n</td>\n",
       "      <td>3050.0</td>\n",
       "      <td>0.0</td>\n",
       "      <td>0.0</td>\n",
       "      <td>0.0</td>\n",
       "      <td>0.0</td>\n",
       "      <td>0.0</td>\n",
       "      <td>0.0</td>\n",
       "      <td>1.0</td>\n",
       "      <td>0.0</td>\n",
       "      <td>1.0</td>\n",
       "      <td>0.0</td>\n",
       "      <td>0.0</td>\n",
       "      <td>0.0</td>\n",
       "      <td>0.0</td>\n",
       "      <td>0.0</td>\n",
       "      <td>0.0</td>\n",
       "      <td>0.0</td>\n",
       "      <td>0.0</td>\n",
       "      <td>0.0</td>\n",
       "      <td>0.0</td>\n",
       "      <td>1.0</td>\n",
       "      <td>0.0</td>\n",
       "      <td>2.0</td>\n",
       "      <td>0.0</td>\n",
       "      <td>0.0</td>\n",
       "      <td>0.0</td>\n",
       "      <td>0.0</td>\n",
       "      <td>0.0</td>\n",
       "      <td>0.0</td>\n",
       "      <td>0.0</td>\n",
       "      <td>0.0</td>\n",
       "      <td>1.0</td>\n",
       "      <td>0.0</td>\n",
       "      <td>0.0</td>\n",
       "      <td>0.0</td>\n",
       "      <td>0.0</td>\n",
       "      <td>0.0</td>\n",
       "      <td>0.0</td>\n",
       "      <td>0.0</td>\n",
       "      <td>0.0</td>\n",
       "      <td>0.0</td>\n",
       "      <td>0.0</td>\n",
       "      <td>0.0</td>\n",
       "      <td>0.0</td>\n",
       "      <td>0.0</td>\n",
       "      <td>0.0</td>\n",
       "      <td>0.0</td>\n",
       "      <td>0.0</td>\n",
       "    </tr>\n",
       "    <tr>\n",
       "      <th>1</th>\n",
       "      <td>01000001.</td>\n",
       "      <td>5250.0</td>\n",
       "      <td>0.0</td>\n",
       "      <td>0.0</td>\n",
       "      <td>0.0</td>\n",
       "      <td>0.0</td>\n",
       "      <td>0.0</td>\n",
       "      <td>0.0</td>\n",
       "      <td>0.0</td>\n",
       "      <td>0.0</td>\n",
       "      <td>0.0</td>\n",
       "      <td>0.0</td>\n",
       "      <td>3.0</td>\n",
       "      <td>0.0</td>\n",
       "      <td>0.0</td>\n",
       "      <td>0.0</td>\n",
       "      <td>0.0</td>\n",
       "      <td>0.0</td>\n",
       "      <td>0.0</td>\n",
       "      <td>0.0</td>\n",
       "      <td>0.0</td>\n",
       "      <td>0.0</td>\n",
       "      <td>0.0</td>\n",
       "      <td>2.0</td>\n",
       "      <td>0.0</td>\n",
       "      <td>0.0</td>\n",
       "      <td>0.0</td>\n",
       "      <td>0.0</td>\n",
       "      <td>0.0</td>\n",
       "      <td>0.0</td>\n",
       "      <td>0.0</td>\n",
       "      <td>0.0</td>\n",
       "      <td>0.0</td>\n",
       "      <td>0.0</td>\n",
       "      <td>1.0</td>\n",
       "      <td>0.0</td>\n",
       "      <td>0.0</td>\n",
       "      <td>0.0</td>\n",
       "      <td>0.0</td>\n",
       "      <td>0.0</td>\n",
       "      <td>0.0</td>\n",
       "      <td>0.0</td>\n",
       "      <td>0.0</td>\n",
       "      <td>0.0</td>\n",
       "      <td>0.0</td>\n",
       "      <td>0.0</td>\n",
       "      <td>0.0</td>\n",
       "      <td>0.0</td>\n",
       "      <td>0.0</td>\n",
       "    </tr>\n",
       "    <tr>\n",
       "      <th>2</th>\n",
       "      <td>01000122.</td>\n",
       "      <td>1400.0</td>\n",
       "      <td>0.0</td>\n",
       "      <td>0.0</td>\n",
       "      <td>0.0</td>\n",
       "      <td>0.0</td>\n",
       "      <td>0.0</td>\n",
       "      <td>0.0</td>\n",
       "      <td>0.0</td>\n",
       "      <td>0.0</td>\n",
       "      <td>0.0</td>\n",
       "      <td>0.0</td>\n",
       "      <td>0.0</td>\n",
       "      <td>0.0</td>\n",
       "      <td>0.0</td>\n",
       "      <td>0.0</td>\n",
       "      <td>0.0</td>\n",
       "      <td>0.0</td>\n",
       "      <td>0.0</td>\n",
       "      <td>0.0</td>\n",
       "      <td>0.0</td>\n",
       "      <td>0.0</td>\n",
       "      <td>0.0</td>\n",
       "      <td>3.0</td>\n",
       "      <td>0.0</td>\n",
       "      <td>0.0</td>\n",
       "      <td>0.0</td>\n",
       "      <td>0.0</td>\n",
       "      <td>0.0</td>\n",
       "      <td>0.0</td>\n",
       "      <td>0.0</td>\n",
       "      <td>0.0</td>\n",
       "      <td>0.0</td>\n",
       "      <td>2.0</td>\n",
       "      <td>0.0</td>\n",
       "      <td>0.0</td>\n",
       "      <td>0.0</td>\n",
       "      <td>0.0</td>\n",
       "      <td>0.0</td>\n",
       "      <td>0.0</td>\n",
       "      <td>0.0</td>\n",
       "      <td>0.0</td>\n",
       "      <td>0.0</td>\n",
       "      <td>0.0</td>\n",
       "      <td>0.0</td>\n",
       "      <td>0.0</td>\n",
       "      <td>0.0</td>\n",
       "      <td>0.0</td>\n",
       "      <td>0.0</td>\n",
       "    </tr>\n",
       "    <tr>\n",
       "      <th>3</th>\n",
       "      <td>01000125-35</td>\n",
       "      <td>1450.0</td>\n",
       "      <td>0.0</td>\n",
       "      <td>0.0</td>\n",
       "      <td>0.0</td>\n",
       "      <td>0.0</td>\n",
       "      <td>0.0</td>\n",
       "      <td>0.0</td>\n",
       "      <td>0.0</td>\n",
       "      <td>0.0</td>\n",
       "      <td>0.0</td>\n",
       "      <td>0.0</td>\n",
       "      <td>0.0</td>\n",
       "      <td>0.0</td>\n",
       "      <td>2.0</td>\n",
       "      <td>0.0</td>\n",
       "      <td>0.0</td>\n",
       "      <td>0.0</td>\n",
       "      <td>0.0</td>\n",
       "      <td>0.0</td>\n",
       "      <td>0.0</td>\n",
       "      <td>0.0</td>\n",
       "      <td>0.0</td>\n",
       "      <td>3.0</td>\n",
       "      <td>1.0</td>\n",
       "      <td>0.0</td>\n",
       "      <td>0.0</td>\n",
       "      <td>0.0</td>\n",
       "      <td>0.0</td>\n",
       "      <td>0.0</td>\n",
       "      <td>0.0</td>\n",
       "      <td>0.0</td>\n",
       "      <td>0.0</td>\n",
       "      <td>1.0</td>\n",
       "      <td>0.0</td>\n",
       "      <td>0.0</td>\n",
       "      <td>0.0</td>\n",
       "      <td>0.0</td>\n",
       "      <td>0.0</td>\n",
       "      <td>0.0</td>\n",
       "      <td>0.0</td>\n",
       "      <td>0.0</td>\n",
       "      <td>0.0</td>\n",
       "      <td>0.0</td>\n",
       "      <td>0.0</td>\n",
       "      <td>0.0</td>\n",
       "      <td>0.0</td>\n",
       "      <td>0.0</td>\n",
       "      <td>0.0</td>\n",
       "    </tr>\n",
       "    <tr>\n",
       "      <th>4</th>\n",
       "      <td>01000137.</td>\n",
       "      <td>1500.0</td>\n",
       "      <td>0.0</td>\n",
       "      <td>0.0</td>\n",
       "      <td>2.0</td>\n",
       "      <td>0.0</td>\n",
       "      <td>0.0</td>\n",
       "      <td>0.0</td>\n",
       "      <td>0.0</td>\n",
       "      <td>0.0</td>\n",
       "      <td>0.0</td>\n",
       "      <td>0.0</td>\n",
       "      <td>0.0</td>\n",
       "      <td>0.0</td>\n",
       "      <td>0.0</td>\n",
       "      <td>0.0</td>\n",
       "      <td>0.0</td>\n",
       "      <td>0.0</td>\n",
       "      <td>0.0</td>\n",
       "      <td>0.0</td>\n",
       "      <td>0.0</td>\n",
       "      <td>0.0</td>\n",
       "      <td>0.0</td>\n",
       "      <td>4.0</td>\n",
       "      <td>0.0</td>\n",
       "      <td>0.0</td>\n",
       "      <td>0.0</td>\n",
       "      <td>0.0</td>\n",
       "      <td>0.0</td>\n",
       "      <td>0.0</td>\n",
       "      <td>0.0</td>\n",
       "      <td>0.0</td>\n",
       "      <td>0.0</td>\n",
       "      <td>0.0</td>\n",
       "      <td>0.0</td>\n",
       "      <td>0.0</td>\n",
       "      <td>0.0</td>\n",
       "      <td>0.0</td>\n",
       "      <td>0.0</td>\n",
       "      <td>0.0</td>\n",
       "      <td>0.0</td>\n",
       "      <td>0.0</td>\n",
       "      <td>0.0</td>\n",
       "      <td>0.0</td>\n",
       "      <td>0.0</td>\n",
       "      <td>0.0</td>\n",
       "      <td>0.0</td>\n",
       "      <td>0.0</td>\n",
       "      <td>0.0</td>\n",
       "    </tr>\n",
       "  </tbody>\n",
       "</table>\n",
       "</div>"
      ],
      "text/plain": [
       "        Ref_ID  fine_amount  \\\n",
       "0           \\n       3050.0   \n",
       "1    01000001.       5250.0   \n",
       "2    01000122.       1400.0   \n",
       "3  01000125-35       1450.0   \n",
       "4    01000137.       1500.0   \n",
       "\n",
       "   violation__Allowing bulk solid waste to lie or accumulate on or about the premises  \\\n",
       "0                                                0.0                                    \n",
       "1                                                0.0                                    \n",
       "2                                                0.0                                    \n",
       "3                                                0.0                                    \n",
       "4                                                0.0                                    \n",
       "\n",
       "   violation__Bulk solid waste deposited more than 24 hours before designated time  \\\n",
       "0                                                0.0                                 \n",
       "1                                                0.0                                 \n",
       "2                                                0.0                                 \n",
       "3                                                0.0                                 \n",
       "4                                                0.0                                 \n",
       "\n",
       "   violation__Defective exterior wall(s) one- or two-family dwelling or commercial building  \\\n",
       "0                                                0.0                                          \n",
       "1                                                0.0                                          \n",
       "2                                                0.0                                          \n",
       "3                                                0.0                                          \n",
       "4                                                2.0                                          \n",
       "\n",
       "   violation__Defective roof or drainage one- or two-family dwelling or commercial building  \\\n",
       "0                                                0.0                                          \n",
       "1                                                0.0                                          \n",
       "2                                                0.0                                          \n",
       "3                                                0.0                                          \n",
       "4                                                0.0                                          \n",
       "\n",
       "   violation__Depositing domestic or commercial solid waste in containers owned, assigned to, or contracted for, by other persons or premises  \\\n",
       "0                                                0.0                                                                                            \n",
       "1                                                0.0                                                                                            \n",
       "2                                                0.0                                                                                            \n",
       "3                                                0.0                                                                                            \n",
       "4                                                0.0                                                                                            \n",
       "\n",
       "   violation__Dumping,  or deposting solid waste of five (5) cubic feet or more from any motor vehicle upon any public or private property or street  \\\n",
       "0                                                0.0                                                                                                   \n",
       "1                                                0.0                                                                                                   \n",
       "2                                                0.0                                                                                                   \n",
       "3                                                0.0                                                                                                   \n",
       "4                                                0.0                                                                                                   \n",
       "\n",
       "   violation__Dumping, storing or depositing solid waste 5 or more cubic yards on any publicly-owned property, or private property or water, without a permit   \\\n",
       "0                                                1.0                                                                                                             \n",
       "1                                                0.0                                                                                                             \n",
       "2                                                0.0                                                                                                             \n",
       "3                                                0.0                                                                                                             \n",
       "4                                                0.0                                                                                                             \n",
       "\n",
       "   violation__Dumping, storing or depositing solid waste on any publicly-owned property, or private property or water, without a permit  \\\n",
       "0                                                0.0                                                                                      \n",
       "1                                                0.0                                                                                      \n",
       "2                                                0.0                                                                                      \n",
       "3                                                0.0                                                                                      \n",
       "4                                                0.0                                                                                      \n",
       "\n",
       "   violation__Excessive weeds or plant growth one- or two-family dwelling or commercial Building  \\\n",
       "0                                                1.0                                               \n",
       "1                                                0.0                                               \n",
       "2                                                0.0                                               \n",
       "3                                                0.0                                               \n",
       "4                                                0.0                                               \n",
       "\n",
       "   violation__Fail to comply with an Emergency or imminent danger order concerining an unsafe or unsanitary structure or unlawful occupancy (1 or 2 family dwelling)  \\\n",
       "0                                                0.0                                                                                                                   \n",
       "1                                                0.0                                                                                                                   \n",
       "2                                                0.0                                                                                                                   \n",
       "3                                                0.0                                                                                                                   \n",
       "4                                                0.0                                                                                                                   \n",
       "\n",
       "   violation__Fail to comply with an Emergency or imminent danger order concerining an unsafe or unsanitary structure or unlawful occupancy (Buildings with five (5) or more stories)  \\\n",
       "0                                                0.0                                                                                                                                    \n",
       "1                                                3.0                                                                                                                                    \n",
       "2                                                0.0                                                                                                                                    \n",
       "3                                                0.0                                                                                                                                    \n",
       "4                                                0.0                                                                                                                                    \n",
       "\n",
       "   violation__Fail to comply with an Emergency or imminent danger order concerining an unsafe or unsanitary structure or unlawful occupancy (all other structures, except buildings with five (5) or more stories)  \\\n",
       "0                                                0.0                                                                                                                                                                 \n",
       "1                                                0.0                                                                                                                                                                 \n",
       "2                                                0.0                                                                                                                                                                 \n",
       "3                                                0.0                                                                                                                                                                 \n",
       "4                                                0.0                                                                                                                                                                 \n",
       "\n",
       "   violation__Failed to comply with other land use or procedural requirements - Unlawful Sign, Banner or antenna  \\\n",
       "0                                                0.0                                                               \n",
       "1                                                0.0                                                               \n",
       "2                                                0.0                                                               \n",
       "3                                                2.0                                                               \n",
       "4                                                0.0                                                               \n",
       "\n",
       "   violation__Failed to obtain the required Certificate of registration for Vacant Building  \\\n",
       "0                                                0.0                                          \n",
       "1                                                0.0                                          \n",
       "2                                                0.0                                          \n",
       "3                                                0.0                                          \n",
       "4                                                0.0                                          \n",
       "\n",
       "   violation__Failing to secure City or Private solid waste collection containers and services  \\\n",
       "0                                                0.0                                             \n",
       "1                                                0.0                                             \n",
       "2                                                0.0                                             \n",
       "3                                                0.0                                             \n",
       "4                                                0.0                                             \n",
       "\n",
       "   violation__Failure of owner of a building with five (5) or more stories to comply with an emergency or imminent danger order concerning an unsafe or unsanitary structure or unlawful occupancy  \\\n",
       "0                                                0.0                                                                                                                                                 \n",
       "1                                                0.0                                                                                                                                                 \n",
       "2                                                0.0                                                                                                                                                 \n",
       "3                                                0.0                                                                                                                                                 \n",
       "4                                                0.0                                                                                                                                                 \n",
       "\n",
       "   violation__Failure of owner of any other structure, except buildings with five (5) or more stories, to comply with an emergency or imminent danger order concerning an unsafe or unsanitary structure or unlawful occupancy  \\\n",
       "0                                                0.0                                                                                                                                                                             \n",
       "1                                                0.0                                                                                                                                                                             \n",
       "2                                                0.0                                                                                                                                                                             \n",
       "3                                                0.0                                                                                                                                                                             \n",
       "4                                                0.0                                                                                                                                                                             \n",
       "\n",
       "   violation__Failure of owner of one- or two-family dwelling to comply with an emergency or imminent danger order concerining an unsafe or unsanitary structure or unlawful occupancy  \\\n",
       "0                                                0.0                                                                                                                                     \n",
       "1                                                0.0                                                                                                                                     \n",
       "2                                                0.0                                                                                                                                     \n",
       "3                                                0.0                                                                                                                                     \n",
       "4                                                0.0                                                                                                                                     \n",
       "\n",
       "   violation__Failure of owner to comply with an emergency or imminent danger order of one- or two-family dwelling or building  \\\n",
       "0                                                0.0                                                                             \n",
       "1                                                0.0                                                                             \n",
       "2                                                0.0                                                                             \n",
       "3                                                0.0                                                                             \n",
       "4                                                0.0                                                                             \n",
       "\n",
       "   violation__Failure of owner to keep property, its sidewalks, or adjoining public property free from solid waste  \\\n",
       "0                                                1.0                                                                 \n",
       "1                                                0.0                                                                 \n",
       "2                                                0.0                                                                 \n",
       "3                                                0.0                                                                 \n",
       "4                                                0.0                                                                 \n",
       "\n",
       "   violation__Failure of owner to keep property, its sidewalks, or adjoining public property free from solid, medical or hazardous waste  \\\n",
       "0                                                0.0                                                                                       \n",
       "1                                                0.0                                                                                       \n",
       "2                                                0.0                                                                                       \n",
       "3                                                0.0                                                                                       \n",
       "4                                                0.0                                                                                       \n",
       "\n",
       "   violation__Failure of owner to obtain certificate of compliance  \\\n",
       "0                                                2.0                 \n",
       "1                                                2.0                 \n",
       "2                                                3.0                 \n",
       "3                                                3.0                 \n",
       "4                                                4.0                 \n",
       "\n",
       "   violation__Failure of owner to remove graffiti or maintain or restore property free of graffiti.  \\\n",
       "0                                                0.0                                                  \n",
       "1                                                0.0                                                  \n",
       "2                                                0.0                                                  \n",
       "3                                                1.0                                                  \n",
       "4                                                0.0                                                  \n",
       "\n",
       "   violation__Failure to maintain a vacant building or structure in accordance with the requirements of Section 9-1-113 of the Detroit City Code: (1) - (12) (All structures except 1 or 2 family dwellings and buildings with 5 or more stories)  \\\n",
       "0                                                0.0                                                                                                                                                                                                \n",
       "1                                                0.0                                                                                                                                                                                                \n",
       "2                                                0.0                                                                                                                                                                                                \n",
       "3                                                0.0                                                                                                                                                                                                \n",
       "4                                                0.0                                                                                                                                                                                                \n",
       "\n",
       "   violation__Failure to maintain a vacant building or structure in accordance with the requirements of Section 9-1-113 of the Detroit City Code: (1) - (12) (One or Two Family dwelling)  \\\n",
       "0                                                0.0                                                                                                                                        \n",
       "1                                                0.0                                                                                                                                        \n",
       "2                                                0.0                                                                                                                                        \n",
       "3                                                0.0                                                                                                                                        \n",
       "4                                                0.0                                                                                                                                        \n",
       "\n",
       "   violation__Failure to maintain accessory structure(s) one-or two- family dwelling or commercial building  \\\n",
       "0                                                0.0                                                          \n",
       "1                                                0.0                                                          \n",
       "2                                                0.0                                                          \n",
       "3                                                0.0                                                          \n",
       "4                                                0.0                                                          \n",
       "\n",
       "   violation__Failure to maintain balcony, deck, porch, or stairway one- or two-family dwelling or commercial building  \\\n",
       "0                                                0.0                                                                     \n",
       "1                                                0.0                                                                     \n",
       "2                                                0.0                                                                     \n",
       "3                                                0.0                                                                     \n",
       "4                                                0.0                                                                     \n",
       "\n",
       "   violation__Failure to maintain exterior of one- or two-family dwelling, building, premises or commercial structure in good repair, structurally sound or in a sanitary condition to prevent threat to the public health, safety or welfare  \\\n",
       "0                                                0.0                                                                                                                                                                                            \n",
       "1                                                0.0                                                                                                                                                                                            \n",
       "2                                                0.0                                                                                                                                                                                            \n",
       "3                                                0.0                                                                                                                                                                                            \n",
       "4                                                0.0                                                                                                                                                                                            \n",
       "\n",
       "   violation__Failure to maintain vacant one- or two- family dwelling or building  \\\n",
       "0                                                0.0                                \n",
       "1                                                0.0                                \n",
       "2                                                0.0                                \n",
       "3                                                0.0                                \n",
       "4                                                0.0                                \n",
       "\n",
       "   violation__Failure to obtain Certificate of Compliance for rental property  \\\n",
       "0                                                0.0                            \n",
       "1                                                0.0                            \n",
       "2                                                0.0                            \n",
       "3                                                0.0                            \n",
       "4                                                0.0                            \n",
       "\n",
       "   violation__Failure to obtain a lead clearance for rental property - one or two-family dwelling  \\\n",
       "0                                                1.0                                                \n",
       "1                                                0.0                                                \n",
       "2                                                0.0                                                \n",
       "3                                                0.0                                                \n",
       "4                                                0.0                                                \n",
       "\n",
       "   violation__Failure to obtain a permit for large movable or stationary container prior to the installation on any public right-of-way  \\\n",
       "0                                                0.0                                                                                      \n",
       "1                                                0.0                                                                                      \n",
       "2                                                2.0                                                                                      \n",
       "3                                                1.0                                                                                      \n",
       "4                                                0.0                                                                                      \n",
       "\n",
       "   violation__Failure to obtain certificate of registration for rental property  \\\n",
       "0                                                0.0                              \n",
       "1                                                1.0                              \n",
       "2                                                0.0                              \n",
       "3                                                0.0                              \n",
       "4                                                0.0                              \n",
       "\n",
       "   violation__Failure to obtain the certificate of Compliance for Vacant Building  \\\n",
       "0                                                0.0                                \n",
       "1                                                0.0                                \n",
       "2                                                0.0                                \n",
       "3                                                0.0                                \n",
       "4                                                0.0                                \n",
       "\n",
       "   violation__Failure to remove animal waste on public/private property  \\\n",
       "0                                                0.0                      \n",
       "1                                                0.0                      \n",
       "2                                                0.0                      \n",
       "3                                                0.0                      \n",
       "4                                                0.0                      \n",
       "\n",
       "   violation__Failure to secure City or Private solid waste collection containers and services  \\\n",
       "0                                                0.0                                             \n",
       "1                                                0.0                                             \n",
       "2                                                0.0                                             \n",
       "3                                                0.0                                             \n",
       "4                                                0.0                                             \n",
       "\n",
       "   violation__Improper placement of Courville container between collections  \\\n",
       "0                                                0.0                          \n",
       "1                                                0.0                          \n",
       "2                                                0.0                          \n",
       "3                                                0.0                          \n",
       "4                                                0.0                          \n",
       "\n",
       "   violation__Improper storage and separation of solid waste for collection day  \\\n",
       "0                                                0.0                              \n",
       "1                                                0.0                              \n",
       "2                                                0.0                              \n",
       "3                                                0.0                              \n",
       "4                                                0.0                              \n",
       "\n",
       "   violation__Inoperable motor vehicle(s) one- or two-family dwelling or commercial building  \\\n",
       "0                                                0.0                                           \n",
       "1                                                0.0                                           \n",
       "2                                                0.0                                           \n",
       "3                                                0.0                                           \n",
       "4                                                0.0                                           \n",
       "\n",
       "   violation__Open Storage/ Residential/ Inoperable Vehicles (R1)  \\\n",
       "0                                                0.0                \n",
       "1                                                0.0                \n",
       "2                                                0.0                \n",
       "3                                                0.0                \n",
       "4                                                0.0                \n",
       "\n",
       "   violation__Removal of snow and ice from sidewalks  \\\n",
       "0                                                0.0   \n",
       "1                                                0.0   \n",
       "2                                                0.0   \n",
       "3                                                0.0   \n",
       "4                                                0.0   \n",
       "\n",
       "   violation__Rodent harborage one-or two-family dwelling or commercial building  \\\n",
       "0                                                0.0                               \n",
       "1                                                0.0                               \n",
       "2                                                0.0                               \n",
       "3                                                0.0                               \n",
       "4                                                0.0                               \n",
       "\n",
       "   violation__Unlawful accumulation of solid waste one- or two-family dwelling or commercial building  \\\n",
       "0                                                0.0                                                    \n",
       "1                                                0.0                                                    \n",
       "2                                                0.0                                                    \n",
       "3                                                0.0                                                    \n",
       "4                                                0.0                                                    \n",
       "\n",
       "   violation__Unlawful change of use of building or land  \\\n",
       "0                                                0.0       \n",
       "1                                                0.0       \n",
       "2                                                0.0       \n",
       "3                                                0.0       \n",
       "4                                                0.0       \n",
       "\n",
       "   violation__Unlawful occupation of rental property without lead clearance -  all other structures, except buildings with five (5) or more stories  \\\n",
       "0                                                0.0                                                                                                  \n",
       "1                                                0.0                                                                                                  \n",
       "2                                                0.0                                                                                                  \n",
       "3                                                0.0                                                                                                  \n",
       "4                                                0.0                                                                                                  \n",
       "\n",
       "   violation__Unlawful occupation of rental property without lead clearance - one or two-family dwelling  \\\n",
       "0                                                0.0                                                       \n",
       "1                                                0.0                                                       \n",
       "2                                                0.0                                                       \n",
       "3                                                0.0                                                       \n",
       "4                                                0.0                                                       \n",
       "\n",
       "   violation__Violation of time limit for approved containers to remain at curbside - early or late  \n",
       "0                                                0.0                                                 \n",
       "1                                                0.0                                                 \n",
       "2                                                0.0                                                 \n",
       "3                                                0.0                                                 \n",
       "4                                                0.0                                                 "
      ]
     },
     "execution_count": 179,
     "metadata": {},
     "output_type": "execute_result"
    }
   ],
   "source": [
    "blight_df_w_dummies_sum.head()"
   ]
  },
  {
   "cell_type": "markdown",
   "metadata": {},
   "source": [
    "### Merge Datasets together"
   ]
  },
  {
   "cell_type": "code",
   "execution_count": 180,
   "metadata": {
    "collapsed": true
   },
   "outputs": [],
   "source": [
    "# merge gtj data with usps / dfd data\n",
    "merged_train = gtj_df.merge(usps_df, how='left', on='Ref_ID')"
   ]
  },
  {
   "cell_type": "code",
   "execution_count": 181,
   "metadata": {
    "collapsed": false
   },
   "outputs": [],
   "source": [
    "#merge on voter (qvf) data\n",
    "merged_train2 = merged_train.merge(vote_df, how='left', on='Ref_ID')"
   ]
  },
  {
   "cell_type": "code",
   "execution_count": 182,
   "metadata": {
    "collapsed": true
   },
   "outputs": [],
   "source": [
    "#fill in NaNs for vote_dummy\n",
    "merged_train2['vote_dummy'] = [0 if pd.isnull(x) else 1 for x in merged_train2['vote_dummy']]"
   ]
  },
  {
   "cell_type": "code",
   "execution_count": 183,
   "metadata": {
    "collapsed": false,
    "scrolled": false
   },
   "outputs": [],
   "source": [
    "#merge on dwsd data\n",
    "merged_train3 = merged_train2.merge(dwsd_df, how='left', on='Ref_ID')\n",
    "#fill in 0s for properties w/ no water\n",
    "merged_train3.fillna(value=0,inplace=True)"
   ]
  },
  {
   "cell_type": "code",
   "execution_count": 184,
   "metadata": {
    "collapsed": true
   },
   "outputs": [],
   "source": [
    "#merge on parcel points ownership data\n",
    "merged_train4 = merged_train3.merge(ppo_df, how='left', on='Ref_ID')"
   ]
  },
  {
   "cell_type": "code",
   "execution_count": 185,
   "metadata": {
    "collapsed": false
   },
   "outputs": [],
   "source": [
    "#merge on dte data\n",
    "merged_train5 = merged_train4.merge(dte_df, how='left', on='Ref_ID')"
   ]
  },
  {
   "cell_type": "code",
   "execution_count": 186,
   "metadata": {
    "collapsed": false
   },
   "outputs": [],
   "source": [
    "#merge on blight fine data\n",
    "merged_train_final = merged_train5.merge(blight_df_w_dummies_sum, how='left', on='Ref_ID')\n",
    "merged_train_final.fillna(value=0,inplace=True)"
   ]
  },
  {
   "cell_type": "code",
   "execution_count": 187,
   "metadata": {
    "collapsed": false
   },
   "outputs": [
    {
     "data": {
      "text/html": [
       "<div>\n",
       "<style scoped>\n",
       "    .dataframe tbody tr th:only-of-type {\n",
       "        vertical-align: middle;\n",
       "    }\n",
       "\n",
       "    .dataframe tbody tr th {\n",
       "        vertical-align: top;\n",
       "    }\n",
       "\n",
       "    .dataframe thead th {\n",
       "        text-align: right;\n",
       "    }\n",
       "</style>\n",
       "<table border=\"1\" class=\"dataframe\">\n",
       "  <thead>\n",
       "    <tr style=\"text-align: right;\">\n",
       "      <th></th>\n",
       "      <th>Ref_ID</th>\n",
       "      <th>boarding_needed_dummy</th>\n",
       "      <th>fire_occured_dummy</th>\n",
       "      <th>usps_occupied_dummy</th>\n",
       "      <th>vote_dummy</th>\n",
       "      <th>NINE</th>\n",
       "      <th>TEN</th>\n",
       "      <th>ELEVEN</th>\n",
       "      <th>TWELVE</th>\n",
       "      <th>ONE</th>\n",
       "      <th>TWO</th>\n",
       "      <th>THREE</th>\n",
       "      <th>FOUR</th>\n",
       "      <th>FIVE</th>\n",
       "      <th>SIX</th>\n",
       "      <th>SEVEN</th>\n",
       "      <th>EIGHT</th>\n",
       "      <th>year_total</th>\n",
       "      <th>SalePrice</th>\n",
       "      <th>LandValue</th>\n",
       "      <th>SqFt</th>\n",
       "      <th>LLC_Owner_dummy</th>\n",
       "      <th>gas_dummy</th>\n",
       "      <th>electric_dummy</th>\n",
       "      <th>fine_amount</th>\n",
       "      <th>violation__Allowing bulk solid waste to lie or accumulate on or about the premises</th>\n",
       "      <th>violation__Bulk solid waste deposited more than 24 hours before designated time</th>\n",
       "      <th>violation__Defective exterior wall(s) one- or two-family dwelling or commercial building</th>\n",
       "      <th>violation__Defective roof or drainage one- or two-family dwelling or commercial building</th>\n",
       "      <th>violation__Depositing domestic or commercial solid waste in containers owned, assigned to, or contracted for, by other persons or premises</th>\n",
       "      <th>violation__Dumping,  or deposting solid waste of five (5) cubic feet or more from any motor vehicle upon any public or private property or street</th>\n",
       "      <th>violation__Dumping, storing or depositing solid waste 5 or more cubic yards on any publicly-owned property, or private property or water, without a permit</th>\n",
       "      <th>violation__Dumping, storing or depositing solid waste on any publicly-owned property, or private property or water, without a permit</th>\n",
       "      <th>violation__Excessive weeds or plant growth one- or two-family dwelling or commercial Building</th>\n",
       "      <th>violation__Fail to comply with an Emergency or imminent danger order concerining an unsafe or unsanitary structure or unlawful occupancy (1 or 2 family dwelling)</th>\n",
       "      <th>violation__Fail to comply with an Emergency or imminent danger order concerining an unsafe or unsanitary structure or unlawful occupancy (Buildings with five (5) or more stories)</th>\n",
       "      <th>violation__Fail to comply with an Emergency or imminent danger order concerining an unsafe or unsanitary structure or unlawful occupancy (all other structures, except buildings with five (5) or more stories)</th>\n",
       "      <th>violation__Failed to comply with other land use or procedural requirements - Unlawful Sign, Banner or antenna</th>\n",
       "      <th>violation__Failed to obtain the required Certificate of registration for Vacant Building</th>\n",
       "      <th>violation__Failing to secure City or Private solid waste collection containers and services</th>\n",
       "      <th>violation__Failure of owner of a building with five (5) or more stories to comply with an emergency or imminent danger order concerning an unsafe or unsanitary structure or unlawful occupancy</th>\n",
       "      <th>violation__Failure of owner of any other structure, except buildings with five (5) or more stories, to comply with an emergency or imminent danger order concerning an unsafe or unsanitary structure or unlawful occupancy</th>\n",
       "      <th>violation__Failure of owner of one- or two-family dwelling to comply with an emergency or imminent danger order concerining an unsafe or unsanitary structure or unlawful occupancy</th>\n",
       "      <th>violation__Failure of owner to comply with an emergency or imminent danger order of one- or two-family dwelling or building</th>\n",
       "      <th>violation__Failure of owner to keep property, its sidewalks, or adjoining public property free from solid waste</th>\n",
       "      <th>violation__Failure of owner to keep property, its sidewalks, or adjoining public property free from solid, medical or hazardous waste</th>\n",
       "      <th>violation__Failure of owner to obtain certificate of compliance</th>\n",
       "      <th>violation__Failure of owner to remove graffiti or maintain or restore property free of graffiti.</th>\n",
       "      <th>violation__Failure to maintain a vacant building or structure in accordance with the requirements of Section 9-1-113 of the Detroit City Code: (1) - (12) (All structures except 1 or 2 family dwellings and buildings with 5 or more stories)</th>\n",
       "      <th>violation__Failure to maintain a vacant building or structure in accordance with the requirements of Section 9-1-113 of the Detroit City Code: (1) - (12) (One or Two Family dwelling)</th>\n",
       "      <th>violation__Failure to maintain accessory structure(s) one-or two- family dwelling or commercial building</th>\n",
       "      <th>violation__Failure to maintain balcony, deck, porch, or stairway one- or two-family dwelling or commercial building</th>\n",
       "      <th>violation__Failure to maintain exterior of one- or two-family dwelling, building, premises or commercial structure in good repair, structurally sound or in a sanitary condition to prevent threat to the public health, safety or welfare</th>\n",
       "      <th>violation__Failure to maintain vacant one- or two- family dwelling or building</th>\n",
       "      <th>violation__Failure to obtain Certificate of Compliance for rental property</th>\n",
       "      <th>violation__Failure to obtain a lead clearance for rental property - one or two-family dwelling</th>\n",
       "      <th>violation__Failure to obtain a permit for large movable or stationary container prior to the installation on any public right-of-way</th>\n",
       "      <th>violation__Failure to obtain certificate of registration for rental property</th>\n",
       "      <th>violation__Failure to obtain the certificate of Compliance for Vacant Building</th>\n",
       "      <th>violation__Failure to remove animal waste on public/private property</th>\n",
       "      <th>violation__Failure to secure City or Private solid waste collection containers and services</th>\n",
       "      <th>violation__Improper placement of Courville container between collections</th>\n",
       "      <th>violation__Improper storage and separation of solid waste for collection day</th>\n",
       "      <th>violation__Inoperable motor vehicle(s) one- or two-family dwelling or commercial building</th>\n",
       "      <th>violation__Open Storage/ Residential/ Inoperable Vehicles (R1)</th>\n",
       "      <th>violation__Removal of snow and ice from sidewalks</th>\n",
       "      <th>violation__Rodent harborage one-or two-family dwelling or commercial building</th>\n",
       "      <th>violation__Unlawful accumulation of solid waste one- or two-family dwelling or commercial building</th>\n",
       "      <th>violation__Unlawful change of use of building or land</th>\n",
       "      <th>violation__Unlawful occupation of rental property without lead clearance -  all other structures, except buildings with five (5) or more stories</th>\n",
       "      <th>violation__Unlawful occupation of rental property without lead clearance - one or two-family dwelling</th>\n",
       "      <th>violation__Violation of time limit for approved containers to remain at curbside - early or late</th>\n",
       "    </tr>\n",
       "  </thead>\n",
       "  <tbody>\n",
       "    <tr>\n",
       "      <th>0</th>\n",
       "      <td>22030396.</td>\n",
       "      <td>1</td>\n",
       "      <td>0.0</td>\n",
       "      <td>0.0</td>\n",
       "      <td>0</td>\n",
       "      <td>0.0</td>\n",
       "      <td>0.0</td>\n",
       "      <td>0.0</td>\n",
       "      <td>0.0</td>\n",
       "      <td>0.0</td>\n",
       "      <td>0.0</td>\n",
       "      <td>0.0</td>\n",
       "      <td>0.0</td>\n",
       "      <td>0.0</td>\n",
       "      <td>0.0</td>\n",
       "      <td>0.0</td>\n",
       "      <td>0.0</td>\n",
       "      <td>0.0</td>\n",
       "      <td>1500.0</td>\n",
       "      <td>659.0</td>\n",
       "      <td>4008.0</td>\n",
       "      <td>0.0</td>\n",
       "      <td>0.0</td>\n",
       "      <td>0.0</td>\n",
       "      <td>0.0</td>\n",
       "      <td>0.0</td>\n",
       "      <td>0.0</td>\n",
       "      <td>0.0</td>\n",
       "      <td>0.0</td>\n",
       "      <td>0.0</td>\n",
       "      <td>0.0</td>\n",
       "      <td>0.0</td>\n",
       "      <td>0.0</td>\n",
       "      <td>0.0</td>\n",
       "      <td>0.0</td>\n",
       "      <td>0.0</td>\n",
       "      <td>0.0</td>\n",
       "      <td>0.0</td>\n",
       "      <td>0.0</td>\n",
       "      <td>0.0</td>\n",
       "      <td>0.0</td>\n",
       "      <td>0.0</td>\n",
       "      <td>0.0</td>\n",
       "      <td>0.0</td>\n",
       "      <td>0.0</td>\n",
       "      <td>0.0</td>\n",
       "      <td>0.0</td>\n",
       "      <td>0.0</td>\n",
       "      <td>0.0</td>\n",
       "      <td>0.0</td>\n",
       "      <td>0.0</td>\n",
       "      <td>0.0</td>\n",
       "      <td>0.0</td>\n",
       "      <td>0.0</td>\n",
       "      <td>0.0</td>\n",
       "      <td>0.0</td>\n",
       "      <td>0.0</td>\n",
       "      <td>0.0</td>\n",
       "      <td>0.0</td>\n",
       "      <td>0.0</td>\n",
       "      <td>0.0</td>\n",
       "      <td>0.0</td>\n",
       "      <td>0.0</td>\n",
       "      <td>0.0</td>\n",
       "      <td>0.0</td>\n",
       "      <td>0.0</td>\n",
       "      <td>0.0</td>\n",
       "      <td>0.0</td>\n",
       "      <td>0.0</td>\n",
       "      <td>0.0</td>\n",
       "      <td>0.0</td>\n",
       "      <td>0.0</td>\n",
       "    </tr>\n",
       "    <tr>\n",
       "      <th>1</th>\n",
       "      <td>01004952.</td>\n",
       "      <td>1</td>\n",
       "      <td>0.0</td>\n",
       "      <td>1.0</td>\n",
       "      <td>1</td>\n",
       "      <td>0.0</td>\n",
       "      <td>0.0</td>\n",
       "      <td>0.0</td>\n",
       "      <td>0.0</td>\n",
       "      <td>0.0</td>\n",
       "      <td>0.0</td>\n",
       "      <td>0.0</td>\n",
       "      <td>0.0</td>\n",
       "      <td>0.0</td>\n",
       "      <td>0.0</td>\n",
       "      <td>0.0</td>\n",
       "      <td>0.0</td>\n",
       "      <td>0.0</td>\n",
       "      <td>0.0</td>\n",
       "      <td>816.0</td>\n",
       "      <td>4879.0</td>\n",
       "      <td>0.0</td>\n",
       "      <td>0.0</td>\n",
       "      <td>0.0</td>\n",
       "      <td>0.0</td>\n",
       "      <td>0.0</td>\n",
       "      <td>0.0</td>\n",
       "      <td>0.0</td>\n",
       "      <td>0.0</td>\n",
       "      <td>0.0</td>\n",
       "      <td>0.0</td>\n",
       "      <td>0.0</td>\n",
       "      <td>0.0</td>\n",
       "      <td>0.0</td>\n",
       "      <td>0.0</td>\n",
       "      <td>0.0</td>\n",
       "      <td>0.0</td>\n",
       "      <td>0.0</td>\n",
       "      <td>0.0</td>\n",
       "      <td>0.0</td>\n",
       "      <td>0.0</td>\n",
       "      <td>0.0</td>\n",
       "      <td>0.0</td>\n",
       "      <td>0.0</td>\n",
       "      <td>0.0</td>\n",
       "      <td>0.0</td>\n",
       "      <td>0.0</td>\n",
       "      <td>0.0</td>\n",
       "      <td>0.0</td>\n",
       "      <td>0.0</td>\n",
       "      <td>0.0</td>\n",
       "      <td>0.0</td>\n",
       "      <td>0.0</td>\n",
       "      <td>0.0</td>\n",
       "      <td>0.0</td>\n",
       "      <td>0.0</td>\n",
       "      <td>0.0</td>\n",
       "      <td>0.0</td>\n",
       "      <td>0.0</td>\n",
       "      <td>0.0</td>\n",
       "      <td>0.0</td>\n",
       "      <td>0.0</td>\n",
       "      <td>0.0</td>\n",
       "      <td>0.0</td>\n",
       "      <td>0.0</td>\n",
       "      <td>0.0</td>\n",
       "      <td>0.0</td>\n",
       "      <td>0.0</td>\n",
       "      <td>0.0</td>\n",
       "      <td>0.0</td>\n",
       "      <td>0.0</td>\n",
       "      <td>0.0</td>\n",
       "    </tr>\n",
       "    <tr>\n",
       "      <th>2</th>\n",
       "      <td>16023426.</td>\n",
       "      <td>0</td>\n",
       "      <td>1.0</td>\n",
       "      <td>0.0</td>\n",
       "      <td>1</td>\n",
       "      <td>1000.0</td>\n",
       "      <td>1000.0</td>\n",
       "      <td>1000.0</td>\n",
       "      <td>1000.0</td>\n",
       "      <td>900.0</td>\n",
       "      <td>1100.0</td>\n",
       "      <td>1100.0</td>\n",
       "      <td>900.0</td>\n",
       "      <td>1000.0</td>\n",
       "      <td>900.0</td>\n",
       "      <td>900.0</td>\n",
       "      <td>1100.0</td>\n",
       "      <td>11900.0</td>\n",
       "      <td>2900.0</td>\n",
       "      <td>823.0</td>\n",
       "      <td>3790.0</td>\n",
       "      <td>0.0</td>\n",
       "      <td>0.0</td>\n",
       "      <td>0.0</td>\n",
       "      <td>0.0</td>\n",
       "      <td>0.0</td>\n",
       "      <td>0.0</td>\n",
       "      <td>0.0</td>\n",
       "      <td>0.0</td>\n",
       "      <td>0.0</td>\n",
       "      <td>0.0</td>\n",
       "      <td>0.0</td>\n",
       "      <td>0.0</td>\n",
       "      <td>0.0</td>\n",
       "      <td>0.0</td>\n",
       "      <td>0.0</td>\n",
       "      <td>0.0</td>\n",
       "      <td>0.0</td>\n",
       "      <td>0.0</td>\n",
       "      <td>0.0</td>\n",
       "      <td>0.0</td>\n",
       "      <td>0.0</td>\n",
       "      <td>0.0</td>\n",
       "      <td>0.0</td>\n",
       "      <td>0.0</td>\n",
       "      <td>0.0</td>\n",
       "      <td>0.0</td>\n",
       "      <td>0.0</td>\n",
       "      <td>0.0</td>\n",
       "      <td>0.0</td>\n",
       "      <td>0.0</td>\n",
       "      <td>0.0</td>\n",
       "      <td>0.0</td>\n",
       "      <td>0.0</td>\n",
       "      <td>0.0</td>\n",
       "      <td>0.0</td>\n",
       "      <td>0.0</td>\n",
       "      <td>0.0</td>\n",
       "      <td>0.0</td>\n",
       "      <td>0.0</td>\n",
       "      <td>0.0</td>\n",
       "      <td>0.0</td>\n",
       "      <td>0.0</td>\n",
       "      <td>0.0</td>\n",
       "      <td>0.0</td>\n",
       "      <td>0.0</td>\n",
       "      <td>0.0</td>\n",
       "      <td>0.0</td>\n",
       "      <td>0.0</td>\n",
       "      <td>0.0</td>\n",
       "      <td>0.0</td>\n",
       "      <td>0.0</td>\n",
       "    </tr>\n",
       "    <tr>\n",
       "      <th>3</th>\n",
       "      <td>21019661.</td>\n",
       "      <td>1</td>\n",
       "      <td>0.0</td>\n",
       "      <td>0.0</td>\n",
       "      <td>0</td>\n",
       "      <td>0.0</td>\n",
       "      <td>0.0</td>\n",
       "      <td>0.0</td>\n",
       "      <td>0.0</td>\n",
       "      <td>0.0</td>\n",
       "      <td>0.0</td>\n",
       "      <td>0.0</td>\n",
       "      <td>0.0</td>\n",
       "      <td>0.0</td>\n",
       "      <td>0.0</td>\n",
       "      <td>0.0</td>\n",
       "      <td>0.0</td>\n",
       "      <td>0.0</td>\n",
       "      <td>65291.0</td>\n",
       "      <td>915.0</td>\n",
       "      <td>4421.0</td>\n",
       "      <td>0.0</td>\n",
       "      <td>1.0</td>\n",
       "      <td>1.0</td>\n",
       "      <td>1550.0</td>\n",
       "      <td>1.0</td>\n",
       "      <td>0.0</td>\n",
       "      <td>0.0</td>\n",
       "      <td>0.0</td>\n",
       "      <td>0.0</td>\n",
       "      <td>0.0</td>\n",
       "      <td>0.0</td>\n",
       "      <td>0.0</td>\n",
       "      <td>1.0</td>\n",
       "      <td>0.0</td>\n",
       "      <td>0.0</td>\n",
       "      <td>0.0</td>\n",
       "      <td>0.0</td>\n",
       "      <td>0.0</td>\n",
       "      <td>0.0</td>\n",
       "      <td>0.0</td>\n",
       "      <td>0.0</td>\n",
       "      <td>0.0</td>\n",
       "      <td>0.0</td>\n",
       "      <td>0.0</td>\n",
       "      <td>0.0</td>\n",
       "      <td>0.0</td>\n",
       "      <td>0.0</td>\n",
       "      <td>0.0</td>\n",
       "      <td>1.0</td>\n",
       "      <td>0.0</td>\n",
       "      <td>0.0</td>\n",
       "      <td>0.0</td>\n",
       "      <td>0.0</td>\n",
       "      <td>0.0</td>\n",
       "      <td>0.0</td>\n",
       "      <td>0.0</td>\n",
       "      <td>0.0</td>\n",
       "      <td>0.0</td>\n",
       "      <td>0.0</td>\n",
       "      <td>0.0</td>\n",
       "      <td>0.0</td>\n",
       "      <td>0.0</td>\n",
       "      <td>0.0</td>\n",
       "      <td>0.0</td>\n",
       "      <td>0.0</td>\n",
       "      <td>0.0</td>\n",
       "      <td>0.0</td>\n",
       "      <td>0.0</td>\n",
       "      <td>0.0</td>\n",
       "      <td>0.0</td>\n",
       "      <td>0.0</td>\n",
       "    </tr>\n",
       "    <tr>\n",
       "      <th>4</th>\n",
       "      <td>22033549.</td>\n",
       "      <td>0</td>\n",
       "      <td>0.0</td>\n",
       "      <td>0.0</td>\n",
       "      <td>1</td>\n",
       "      <td>0.0</td>\n",
       "      <td>0.0</td>\n",
       "      <td>0.0</td>\n",
       "      <td>0.0</td>\n",
       "      <td>0.0</td>\n",
       "      <td>0.0</td>\n",
       "      <td>0.0</td>\n",
       "      <td>0.0</td>\n",
       "      <td>0.0</td>\n",
       "      <td>0.0</td>\n",
       "      <td>0.0</td>\n",
       "      <td>0.0</td>\n",
       "      <td>0.0</td>\n",
       "      <td>82901.0</td>\n",
       "      <td>1341.0</td>\n",
       "      <td>5140.0</td>\n",
       "      <td>0.0</td>\n",
       "      <td>1.0</td>\n",
       "      <td>1.0</td>\n",
       "      <td>0.0</td>\n",
       "      <td>0.0</td>\n",
       "      <td>0.0</td>\n",
       "      <td>0.0</td>\n",
       "      <td>0.0</td>\n",
       "      <td>0.0</td>\n",
       "      <td>0.0</td>\n",
       "      <td>0.0</td>\n",
       "      <td>0.0</td>\n",
       "      <td>0.0</td>\n",
       "      <td>0.0</td>\n",
       "      <td>0.0</td>\n",
       "      <td>0.0</td>\n",
       "      <td>0.0</td>\n",
       "      <td>0.0</td>\n",
       "      <td>0.0</td>\n",
       "      <td>0.0</td>\n",
       "      <td>0.0</td>\n",
       "      <td>0.0</td>\n",
       "      <td>0.0</td>\n",
       "      <td>0.0</td>\n",
       "      <td>0.0</td>\n",
       "      <td>0.0</td>\n",
       "      <td>0.0</td>\n",
       "      <td>0.0</td>\n",
       "      <td>0.0</td>\n",
       "      <td>0.0</td>\n",
       "      <td>0.0</td>\n",
       "      <td>0.0</td>\n",
       "      <td>0.0</td>\n",
       "      <td>0.0</td>\n",
       "      <td>0.0</td>\n",
       "      <td>0.0</td>\n",
       "      <td>0.0</td>\n",
       "      <td>0.0</td>\n",
       "      <td>0.0</td>\n",
       "      <td>0.0</td>\n",
       "      <td>0.0</td>\n",
       "      <td>0.0</td>\n",
       "      <td>0.0</td>\n",
       "      <td>0.0</td>\n",
       "      <td>0.0</td>\n",
       "      <td>0.0</td>\n",
       "      <td>0.0</td>\n",
       "      <td>0.0</td>\n",
       "      <td>0.0</td>\n",
       "      <td>0.0</td>\n",
       "      <td>0.0</td>\n",
       "    </tr>\n",
       "  </tbody>\n",
       "</table>\n",
       "</div>"
      ],
      "text/plain": [
       "      Ref_ID  boarding_needed_dummy  fire_occured_dummy  usps_occupied_dummy  \\\n",
       "0  22030396.                      1                 0.0                  0.0   \n",
       "1  01004952.                      1                 0.0                  1.0   \n",
       "2  16023426.                      0                 1.0                  0.0   \n",
       "3  21019661.                      1                 0.0                  0.0   \n",
       "4  22033549.                      0                 0.0                  0.0   \n",
       "\n",
       "   vote_dummy    NINE     TEN  ELEVEN  TWELVE    ONE     TWO   THREE   FOUR  \\\n",
       "0           0     0.0     0.0     0.0     0.0    0.0     0.0     0.0    0.0   \n",
       "1           1     0.0     0.0     0.0     0.0    0.0     0.0     0.0    0.0   \n",
       "2           1  1000.0  1000.0  1000.0  1000.0  900.0  1100.0  1100.0  900.0   \n",
       "3           0     0.0     0.0     0.0     0.0    0.0     0.0     0.0    0.0   \n",
       "4           1     0.0     0.0     0.0     0.0    0.0     0.0     0.0    0.0   \n",
       "\n",
       "     FIVE    SIX  SEVEN   EIGHT  year_total  SalePrice  LandValue    SqFt  \\\n",
       "0     0.0    0.0    0.0     0.0         0.0     1500.0      659.0  4008.0   \n",
       "1     0.0    0.0    0.0     0.0         0.0        0.0      816.0  4879.0   \n",
       "2  1000.0  900.0  900.0  1100.0     11900.0     2900.0      823.0  3790.0   \n",
       "3     0.0    0.0    0.0     0.0         0.0    65291.0      915.0  4421.0   \n",
       "4     0.0    0.0    0.0     0.0         0.0    82901.0     1341.0  5140.0   \n",
       "\n",
       "   LLC_Owner_dummy  gas_dummy  electric_dummy  fine_amount  \\\n",
       "0              0.0        0.0             0.0          0.0   \n",
       "1              0.0        0.0             0.0          0.0   \n",
       "2              0.0        0.0             0.0          0.0   \n",
       "3              0.0        1.0             1.0       1550.0   \n",
       "4              0.0        1.0             1.0          0.0   \n",
       "\n",
       "   violation__Allowing bulk solid waste to lie or accumulate on or about the premises  \\\n",
       "0                                                0.0                                    \n",
       "1                                                0.0                                    \n",
       "2                                                0.0                                    \n",
       "3                                                1.0                                    \n",
       "4                                                0.0                                    \n",
       "\n",
       "   violation__Bulk solid waste deposited more than 24 hours before designated time  \\\n",
       "0                                                0.0                                 \n",
       "1                                                0.0                                 \n",
       "2                                                0.0                                 \n",
       "3                                                0.0                                 \n",
       "4                                                0.0                                 \n",
       "\n",
       "   violation__Defective exterior wall(s) one- or two-family dwelling or commercial building  \\\n",
       "0                                                0.0                                          \n",
       "1                                                0.0                                          \n",
       "2                                                0.0                                          \n",
       "3                                                0.0                                          \n",
       "4                                                0.0                                          \n",
       "\n",
       "   violation__Defective roof or drainage one- or two-family dwelling or commercial building  \\\n",
       "0                                                0.0                                          \n",
       "1                                                0.0                                          \n",
       "2                                                0.0                                          \n",
       "3                                                0.0                                          \n",
       "4                                                0.0                                          \n",
       "\n",
       "   violation__Depositing domestic or commercial solid waste in containers owned, assigned to, or contracted for, by other persons or premises  \\\n",
       "0                                                0.0                                                                                            \n",
       "1                                                0.0                                                                                            \n",
       "2                                                0.0                                                                                            \n",
       "3                                                0.0                                                                                            \n",
       "4                                                0.0                                                                                            \n",
       "\n",
       "   violation__Dumping,  or deposting solid waste of five (5) cubic feet or more from any motor vehicle upon any public or private property or street  \\\n",
       "0                                                0.0                                                                                                   \n",
       "1                                                0.0                                                                                                   \n",
       "2                                                0.0                                                                                                   \n",
       "3                                                0.0                                                                                                   \n",
       "4                                                0.0                                                                                                   \n",
       "\n",
       "   violation__Dumping, storing or depositing solid waste 5 or more cubic yards on any publicly-owned property, or private property or water, without a permit   \\\n",
       "0                                                0.0                                                                                                             \n",
       "1                                                0.0                                                                                                             \n",
       "2                                                0.0                                                                                                             \n",
       "3                                                0.0                                                                                                             \n",
       "4                                                0.0                                                                                                             \n",
       "\n",
       "   violation__Dumping, storing or depositing solid waste on any publicly-owned property, or private property or water, without a permit  \\\n",
       "0                                                0.0                                                                                      \n",
       "1                                                0.0                                                                                      \n",
       "2                                                0.0                                                                                      \n",
       "3                                                0.0                                                                                      \n",
       "4                                                0.0                                                                                      \n",
       "\n",
       "   violation__Excessive weeds or plant growth one- or two-family dwelling or commercial Building  \\\n",
       "0                                                0.0                                               \n",
       "1                                                0.0                                               \n",
       "2                                                0.0                                               \n",
       "3                                                1.0                                               \n",
       "4                                                0.0                                               \n",
       "\n",
       "   violation__Fail to comply with an Emergency or imminent danger order concerining an unsafe or unsanitary structure or unlawful occupancy (1 or 2 family dwelling)  \\\n",
       "0                                                0.0                                                                                                                   \n",
       "1                                                0.0                                                                                                                   \n",
       "2                                                0.0                                                                                                                   \n",
       "3                                                0.0                                                                                                                   \n",
       "4                                                0.0                                                                                                                   \n",
       "\n",
       "   violation__Fail to comply with an Emergency or imminent danger order concerining an unsafe or unsanitary structure or unlawful occupancy (Buildings with five (5) or more stories)  \\\n",
       "0                                                0.0                                                                                                                                    \n",
       "1                                                0.0                                                                                                                                    \n",
       "2                                                0.0                                                                                                                                    \n",
       "3                                                0.0                                                                                                                                    \n",
       "4                                                0.0                                                                                                                                    \n",
       "\n",
       "   violation__Fail to comply with an Emergency or imminent danger order concerining an unsafe or unsanitary structure or unlawful occupancy (all other structures, except buildings with five (5) or more stories)  \\\n",
       "0                                                0.0                                                                                                                                                                 \n",
       "1                                                0.0                                                                                                                                                                 \n",
       "2                                                0.0                                                                                                                                                                 \n",
       "3                                                0.0                                                                                                                                                                 \n",
       "4                                                0.0                                                                                                                                                                 \n",
       "\n",
       "   violation__Failed to comply with other land use or procedural requirements - Unlawful Sign, Banner or antenna  \\\n",
       "0                                                0.0                                                               \n",
       "1                                                0.0                                                               \n",
       "2                                                0.0                                                               \n",
       "3                                                0.0                                                               \n",
       "4                                                0.0                                                               \n",
       "\n",
       "   violation__Failed to obtain the required Certificate of registration for Vacant Building  \\\n",
       "0                                                0.0                                          \n",
       "1                                                0.0                                          \n",
       "2                                                0.0                                          \n",
       "3                                                0.0                                          \n",
       "4                                                0.0                                          \n",
       "\n",
       "   violation__Failing to secure City or Private solid waste collection containers and services  \\\n",
       "0                                                0.0                                             \n",
       "1                                                0.0                                             \n",
       "2                                                0.0                                             \n",
       "3                                                0.0                                             \n",
       "4                                                0.0                                             \n",
       "\n",
       "   violation__Failure of owner of a building with five (5) or more stories to comply with an emergency or imminent danger order concerning an unsafe or unsanitary structure or unlawful occupancy  \\\n",
       "0                                                0.0                                                                                                                                                 \n",
       "1                                                0.0                                                                                                                                                 \n",
       "2                                                0.0                                                                                                                                                 \n",
       "3                                                0.0                                                                                                                                                 \n",
       "4                                                0.0                                                                                                                                                 \n",
       "\n",
       "   violation__Failure of owner of any other structure, except buildings with five (5) or more stories, to comply with an emergency or imminent danger order concerning an unsafe or unsanitary structure or unlawful occupancy  \\\n",
       "0                                                0.0                                                                                                                                                                             \n",
       "1                                                0.0                                                                                                                                                                             \n",
       "2                                                0.0                                                                                                                                                                             \n",
       "3                                                0.0                                                                                                                                                                             \n",
       "4                                                0.0                                                                                                                                                                             \n",
       "\n",
       "   violation__Failure of owner of one- or two-family dwelling to comply with an emergency or imminent danger order concerining an unsafe or unsanitary structure or unlawful occupancy  \\\n",
       "0                                                0.0                                                                                                                                     \n",
       "1                                                0.0                                                                                                                                     \n",
       "2                                                0.0                                                                                                                                     \n",
       "3                                                0.0                                                                                                                                     \n",
       "4                                                0.0                                                                                                                                     \n",
       "\n",
       "   violation__Failure of owner to comply with an emergency or imminent danger order of one- or two-family dwelling or building  \\\n",
       "0                                                0.0                                                                             \n",
       "1                                                0.0                                                                             \n",
       "2                                                0.0                                                                             \n",
       "3                                                0.0                                                                             \n",
       "4                                                0.0                                                                             \n",
       "\n",
       "   violation__Failure of owner to keep property, its sidewalks, or adjoining public property free from solid waste  \\\n",
       "0                                                0.0                                                                 \n",
       "1                                                0.0                                                                 \n",
       "2                                                0.0                                                                 \n",
       "3                                                0.0                                                                 \n",
       "4                                                0.0                                                                 \n",
       "\n",
       "   violation__Failure of owner to keep property, its sidewalks, or adjoining public property free from solid, medical or hazardous waste  \\\n",
       "0                                                0.0                                                                                       \n",
       "1                                                0.0                                                                                       \n",
       "2                                                0.0                                                                                       \n",
       "3                                                0.0                                                                                       \n",
       "4                                                0.0                                                                                       \n",
       "\n",
       "   violation__Failure of owner to obtain certificate of compliance  \\\n",
       "0                                                0.0                 \n",
       "1                                                0.0                 \n",
       "2                                                0.0                 \n",
       "3                                                0.0                 \n",
       "4                                                0.0                 \n",
       "\n",
       "   violation__Failure of owner to remove graffiti or maintain or restore property free of graffiti.  \\\n",
       "0                                                0.0                                                  \n",
       "1                                                0.0                                                  \n",
       "2                                                0.0                                                  \n",
       "3                                                0.0                                                  \n",
       "4                                                0.0                                                  \n",
       "\n",
       "   violation__Failure to maintain a vacant building or structure in accordance with the requirements of Section 9-1-113 of the Detroit City Code: (1) - (12) (All structures except 1 or 2 family dwellings and buildings with 5 or more stories)  \\\n",
       "0                                                0.0                                                                                                                                                                                                \n",
       "1                                                0.0                                                                                                                                                                                                \n",
       "2                                                0.0                                                                                                                                                                                                \n",
       "3                                                0.0                                                                                                                                                                                                \n",
       "4                                                0.0                                                                                                                                                                                                \n",
       "\n",
       "   violation__Failure to maintain a vacant building or structure in accordance with the requirements of Section 9-1-113 of the Detroit City Code: (1) - (12) (One or Two Family dwelling)  \\\n",
       "0                                                0.0                                                                                                                                        \n",
       "1                                                0.0                                                                                                                                        \n",
       "2                                                0.0                                                                                                                                        \n",
       "3                                                1.0                                                                                                                                        \n",
       "4                                                0.0                                                                                                                                        \n",
       "\n",
       "   violation__Failure to maintain accessory structure(s) one-or two- family dwelling or commercial building  \\\n",
       "0                                                0.0                                                          \n",
       "1                                                0.0                                                          \n",
       "2                                                0.0                                                          \n",
       "3                                                0.0                                                          \n",
       "4                                                0.0                                                          \n",
       "\n",
       "   violation__Failure to maintain balcony, deck, porch, or stairway one- or two-family dwelling or commercial building  \\\n",
       "0                                                0.0                                                                     \n",
       "1                                                0.0                                                                     \n",
       "2                                                0.0                                                                     \n",
       "3                                                0.0                                                                     \n",
       "4                                                0.0                                                                     \n",
       "\n",
       "   violation__Failure to maintain exterior of one- or two-family dwelling, building, premises or commercial structure in good repair, structurally sound or in a sanitary condition to prevent threat to the public health, safety or welfare  \\\n",
       "0                                                0.0                                                                                                                                                                                            \n",
       "1                                                0.0                                                                                                                                                                                            \n",
       "2                                                0.0                                                                                                                                                                                            \n",
       "3                                                0.0                                                                                                                                                                                            \n",
       "4                                                0.0                                                                                                                                                                                            \n",
       "\n",
       "   violation__Failure to maintain vacant one- or two- family dwelling or building  \\\n",
       "0                                                0.0                                \n",
       "1                                                0.0                                \n",
       "2                                                0.0                                \n",
       "3                                                0.0                                \n",
       "4                                                0.0                                \n",
       "\n",
       "   violation__Failure to obtain Certificate of Compliance for rental property  \\\n",
       "0                                                0.0                            \n",
       "1                                                0.0                            \n",
       "2                                                0.0                            \n",
       "3                                                0.0                            \n",
       "4                                                0.0                            \n",
       "\n",
       "   violation__Failure to obtain a lead clearance for rental property - one or two-family dwelling  \\\n",
       "0                                                0.0                                                \n",
       "1                                                0.0                                                \n",
       "2                                                0.0                                                \n",
       "3                                                0.0                                                \n",
       "4                                                0.0                                                \n",
       "\n",
       "   violation__Failure to obtain a permit for large movable or stationary container prior to the installation on any public right-of-way  \\\n",
       "0                                                0.0                                                                                      \n",
       "1                                                0.0                                                                                      \n",
       "2                                                0.0                                                                                      \n",
       "3                                                0.0                                                                                      \n",
       "4                                                0.0                                                                                      \n",
       "\n",
       "   violation__Failure to obtain certificate of registration for rental property  \\\n",
       "0                                                0.0                              \n",
       "1                                                0.0                              \n",
       "2                                                0.0                              \n",
       "3                                                0.0                              \n",
       "4                                                0.0                              \n",
       "\n",
       "   violation__Failure to obtain the certificate of Compliance for Vacant Building  \\\n",
       "0                                                0.0                                \n",
       "1                                                0.0                                \n",
       "2                                                0.0                                \n",
       "3                                                0.0                                \n",
       "4                                                0.0                                \n",
       "\n",
       "   violation__Failure to remove animal waste on public/private property  \\\n",
       "0                                                0.0                      \n",
       "1                                                0.0                      \n",
       "2                                                0.0                      \n",
       "3                                                0.0                      \n",
       "4                                                0.0                      \n",
       "\n",
       "   violation__Failure to secure City or Private solid waste collection containers and services  \\\n",
       "0                                                0.0                                             \n",
       "1                                                0.0                                             \n",
       "2                                                0.0                                             \n",
       "3                                                0.0                                             \n",
       "4                                                0.0                                             \n",
       "\n",
       "   violation__Improper placement of Courville container between collections  \\\n",
       "0                                                0.0                          \n",
       "1                                                0.0                          \n",
       "2                                                0.0                          \n",
       "3                                                0.0                          \n",
       "4                                                0.0                          \n",
       "\n",
       "   violation__Improper storage and separation of solid waste for collection day  \\\n",
       "0                                                0.0                              \n",
       "1                                                0.0                              \n",
       "2                                                0.0                              \n",
       "3                                                0.0                              \n",
       "4                                                0.0                              \n",
       "\n",
       "   violation__Inoperable motor vehicle(s) one- or two-family dwelling or commercial building  \\\n",
       "0                                                0.0                                           \n",
       "1                                                0.0                                           \n",
       "2                                                0.0                                           \n",
       "3                                                0.0                                           \n",
       "4                                                0.0                                           \n",
       "\n",
       "   violation__Open Storage/ Residential/ Inoperable Vehicles (R1)  \\\n",
       "0                                                0.0                \n",
       "1                                                0.0                \n",
       "2                                                0.0                \n",
       "3                                                0.0                \n",
       "4                                                0.0                \n",
       "\n",
       "   violation__Removal of snow and ice from sidewalks  \\\n",
       "0                                                0.0   \n",
       "1                                                0.0   \n",
       "2                                                0.0   \n",
       "3                                                0.0   \n",
       "4                                                0.0   \n",
       "\n",
       "   violation__Rodent harborage one-or two-family dwelling or commercial building  \\\n",
       "0                                                0.0                               \n",
       "1                                                0.0                               \n",
       "2                                                0.0                               \n",
       "3                                                0.0                               \n",
       "4                                                0.0                               \n",
       "\n",
       "   violation__Unlawful accumulation of solid waste one- or two-family dwelling or commercial building  \\\n",
       "0                                                0.0                                                    \n",
       "1                                                0.0                                                    \n",
       "2                                                0.0                                                    \n",
       "3                                                0.0                                                    \n",
       "4                                                0.0                                                    \n",
       "\n",
       "   violation__Unlawful change of use of building or land  \\\n",
       "0                                                0.0       \n",
       "1                                                0.0       \n",
       "2                                                0.0       \n",
       "3                                                0.0       \n",
       "4                                                0.0       \n",
       "\n",
       "   violation__Unlawful occupation of rental property without lead clearance -  all other structures, except buildings with five (5) or more stories  \\\n",
       "0                                                0.0                                                                                                  \n",
       "1                                                0.0                                                                                                  \n",
       "2                                                0.0                                                                                                  \n",
       "3                                                0.0                                                                                                  \n",
       "4                                                0.0                                                                                                  \n",
       "\n",
       "   violation__Unlawful occupation of rental property without lead clearance - one or two-family dwelling  \\\n",
       "0                                                0.0                                                       \n",
       "1                                                0.0                                                       \n",
       "2                                                0.0                                                       \n",
       "3                                                0.0                                                       \n",
       "4                                                0.0                                                       \n",
       "\n",
       "   violation__Violation of time limit for approved containers to remain at curbside - early or late  \n",
       "0                                                0.0                                                 \n",
       "1                                                0.0                                                 \n",
       "2                                                0.0                                                 \n",
       "3                                                0.0                                                 \n",
       "4                                                0.0                                                 "
      ]
     },
     "execution_count": 187,
     "metadata": {},
     "output_type": "execute_result"
    }
   ],
   "source": [
    "merged_train_final.head()"
   ]
  },
  {
   "cell_type": "code",
   "execution_count": 198,
   "metadata": {
    "collapsed": false,
    "scrolled": false
   },
   "outputs": [
    {
     "data": {
      "text/plain": [
       "Index([                                                                                                                                                                                                                                        u'Ref_ID',\n",
       "                                                                                                                                                                                                                                u'boarding_needed_dummy',\n",
       "                                                                                                                                                                                                                                   u'fire_occured_dummy',\n",
       "                                                                                                                                                                                                                                  u'usps_occupied_dummy',\n",
       "                                                                                                                                                                                                                                           u'vote_dummy',\n",
       "                                                                                                                                                                                                                                                 u'NINE',\n",
       "                                                                                                                                                                                                                                                  u'TEN',\n",
       "                                                                                                                                                                                                                                               u'ELEVEN',\n",
       "                                                                                                                                                                                                                                               u'TWELVE',\n",
       "                                                                                                                                                                                                                                                  u'ONE',\n",
       "                                                                                                                                                                                                                                                  u'TWO',\n",
       "                                                                                                                                                                                                                                                u'THREE',\n",
       "                                                                                                                                                                                                                                                 u'FOUR',\n",
       "                                                                                                                                                                                                                                                 u'FIVE',\n",
       "                                                                                                                                                                                                                                                  u'SIX',\n",
       "                                                                                                                                                                                                                                                u'SEVEN',\n",
       "                                                                                                                                                                                                                                                u'EIGHT',\n",
       "                                                                                                                                                                                                                                           u'year_total',\n",
       "                                                                                                                                                                                                                                            u'SalePrice',\n",
       "                                                                                                                                                                                                                                            u'LandValue',\n",
       "                                                                                                                                                                                                                                                 u'SqFt',\n",
       "                                                                                                                                                                                                                                      u'LLC_Owner_dummy',\n",
       "                                                                                                                                                                                                                                            u'gas_dummy',\n",
       "                                                                                                                                                                                                                                       u'electric_dummy',\n",
       "                                                                                                                                                                                                                                          u'fine_amount',\n",
       "                                                                                                                                                                   u'violation__Allowing bulk solid waste to lie or accumulate on or about the premises',\n",
       "                                                                                                                                                                      u'violation__Bulk solid waste deposited more than 24 hours before designated time',\n",
       "                                                                                                                                                             u'violation__Defective exterior wall(s) one- or two-family dwelling or commercial building',\n",
       "                                                                                                                                                             u'violation__Defective roof or drainage one- or two-family dwelling or commercial building',\n",
       "                                                                                                           u'violation__Depositing domestic or commercial solid waste in containers owned, assigned to, or contracted for, by other persons or premises',\n",
       "                                                                                                    u'violation__Dumping,  or deposting solid waste of five (5) cubic feet or more from any motor vehicle upon any public or private property or street',\n",
       "                                                                                          u'violation__Dumping, storing or depositing solid waste 5 or more cubic yards on any publicly-owned property, or private property or water, without a permit ',\n",
       "                                                                                                                 u'violation__Dumping, storing or depositing solid waste on any publicly-owned property, or private property or water, without a permit',\n",
       "                                                                                                                                                        u'violation__Excessive weeds or plant growth one- or two-family dwelling or commercial Building',\n",
       "                                                                                    u'violation__Fail to comply with an Emergency or imminent danger order concerining an unsafe or unsanitary structure or unlawful occupancy (1 or 2 family dwelling)',\n",
       "                                                                   u'violation__Fail to comply with an Emergency or imminent danger order concerining an unsafe or unsanitary structure or unlawful occupancy (Buildings with five (5) or more stories)',\n",
       "                                      u'violation__Fail to comply with an Emergency or imminent danger order concerining an unsafe or unsanitary structure or unlawful occupancy (all other structures, except buildings with five (5) or more stories)',\n",
       "                                                                                                                                        u'violation__Failed to comply with other land use or procedural requirements - Unlawful Sign, Banner or antenna',\n",
       "                                                                                                                                                             u'violation__Failed to obtain the required Certificate of registration for Vacant Building',\n",
       "                                                                                                                                                          u'violation__Failing to secure City or Private solid waste collection containers and services',\n",
       "                                                      u'violation__Failure of owner of a building with five (5) or more stories to comply with an emergency or imminent danger order concerning an unsafe or unsanitary structure or unlawful occupancy',\n",
       "                          u'violation__Failure of owner of any other structure, except buildings with five (5) or more stories, to comply with an emergency or imminent danger order concerning an unsafe or unsanitary structure or unlawful occupancy',\n",
       "                                                                  u'violation__Failure of owner of one- or two-family dwelling to comply with an emergency or imminent danger order concerining an unsafe or unsanitary structure or unlawful occupancy',\n",
       "                                                                                                                          u'violation__Failure of owner to comply with an emergency or imminent danger order of one- or two-family dwelling or building',\n",
       "                                                                                                                                      u'violation__Failure of owner to keep property, its sidewalks, or adjoining public property free from solid waste',\n",
       "                                                                                                                u'violation__Failure of owner to keep property, its sidewalks, or adjoining public property free from solid, medical or hazardous waste',\n",
       "                                                                                                                                                                                      u'violation__Failure of owner to obtain certificate of compliance',\n",
       "                                                                                                                                                     u'violation__Failure of owner to remove graffiti or maintain or restore property free of graffiti.',\n",
       "       u'violation__Failure to maintain a vacant building or structure in accordance with the requirements of Section 9-1-113 of the Detroit City Code: (1) - (12) (All structures except 1 or 2 family dwellings and buildings with 5 or more stories)',\n",
       "                                                               u'violation__Failure to maintain a vacant building or structure in accordance with the requirements of Section 9-1-113 of the Detroit City Code: (1) - (12) (One or Two Family dwelling)',\n",
       "                                                                                                                                             u'violation__Failure to maintain accessory structure(s) one-or two- family dwelling or commercial building',\n",
       "                                                                                                                                  u'violation__Failure to maintain balcony, deck, porch, or stairway one- or two-family dwelling or commercial building',\n",
       "           u'violation__Failure to maintain exterior of one- or two-family dwelling, building, premises or commercial structure in good repair, structurally sound or in a sanitary condition to prevent threat to the public health, safety or welfare',\n",
       "                                                                                                                                                                       u'violation__Failure to maintain vacant one- or two- family dwelling or building',\n",
       "                                                                                                                                                                           u'violation__Failure to obtain Certificate of Compliance for rental property',\n",
       "                                                                                                                                                       u'violation__Failure to obtain a lead clearance for rental property - one or two-family dwelling',\n",
       "                                                                                                                 u'violation__Failure to obtain a permit for large movable or stationary container prior to the installation on any public right-of-way',\n",
       "                                                                                                                                                                         u'violation__Failure to obtain certificate of registration for rental property',\n",
       "                                                                                                                                                                       u'violation__Failure to obtain the certificate of Compliance for Vacant Building',\n",
       "                                                                                                                                                                                 u'violation__Failure to remove animal waste on public/private property',\n",
       "                                                                                                                                                          u'violation__Failure to secure City or Private solid waste collection containers and services',\n",
       "                                                                                                                                                                             u'violation__Improper placement of Courville container between collections',\n",
       "                                                                                                                                                                         u'violation__Improper storage and separation of solid waste for collection day',\n",
       "                                                                                                                                                            u'violation__Inoperable motor vehicle(s) one- or two-family dwelling or commercial building',\n",
       "                                                                                                                                                                                       u'violation__Open Storage/ Residential/ Inoperable Vehicles (R1)',\n",
       "                                                                                                                                                                                                    u'violation__Removal of snow and ice from sidewalks',\n",
       "                                                                                                                                                                        u'violation__Rodent harborage one-or two-family dwelling or commercial building',\n",
       "                                                                                                                                                   u'violation__Unlawful accumulation of solid waste one- or two-family dwelling or commercial building',\n",
       "                                                                                                                                                                                                u'violation__Unlawful change of use of building or land',\n",
       "                                                                                                     u'violation__Unlawful occupation of rental property without lead clearance -  all other structures, except buildings with five (5) or more stories',\n",
       "                                                                                                                                                u'violation__Unlawful occupation of rental property without lead clearance - one or two-family dwelling',\n",
       "                                                                                                                                                     u'violation__Violation of time limit for approved containers to remain at curbside - early or late'],\n",
       "      dtype='object')"
      ]
     },
     "execution_count": 198,
     "metadata": {},
     "output_type": "execute_result"
    }
   ],
   "source": [
    "merged_train_final.columns"
   ]
  },
  {
   "cell_type": "code",
   "execution_count": 189,
   "metadata": {
    "collapsed": false
   },
   "outputs": [
    {
     "data": {
      "text/plain": [
       "21871"
      ]
     },
     "execution_count": 189,
     "metadata": {},
     "output_type": "execute_result"
    }
   ],
   "source": [
    "len(merged_train_final)"
   ]
  },
  {
   "cell_type": "markdown",
   "metadata": {
    "collapsed": true
   },
   "source": [
    "### Visualize Data"
   ]
  },
  {
   "cell_type": "code",
   "execution_count": 192,
   "metadata": {
    "collapsed": false
   },
   "outputs": [],
   "source": [
    "data_corr = merged_train_final[['boarding_needed_dummy', u'fire_occured_dummy', \n",
    "                                u'usps_occupied_dummy',\n",
    "                                u'vote_dummy',  u'NINE',                  u'TEN',\n",
    "                     u'ELEVEN',               u'TWELVE',\n",
    "                        u'ONE',                  u'TWO',\n",
    "                      u'THREE',                 u'FOUR',\n",
    "                       u'FIVE',                  u'SIX',\n",
    "                      u'SEVEN',                u'EIGHT', u'year_total', u'gas_dummy', u'electric_dummy',\n",
    "                    u'SalePrice', u'LandValue', u'SqFt', u'LLC_Owner_dummy', u'fine_amount']]"
   ]
  },
  {
   "cell_type": "code",
   "execution_count": 193,
   "metadata": {
    "collapsed": false
   },
   "outputs": [
    {
     "data": {
      "text/plain": [
       "<matplotlib.axes._subplots.AxesSubplot at 0x13cb82f90>"
      ]
     },
     "execution_count": 193,
     "metadata": {},
     "output_type": "execute_result"
    },
    {
     "data": {
      "image/png": "[encoded data removed]",
      "text/plain": [
       "<matplotlib.figure.Figure at 0x13caf3b10>"
      ]
     },
     "metadata": {},
     "output_type": "display_data"
    }
   ],
   "source": [
    "sns.heatmap(data_corr.corr(), annot=False)"
   ]
  },
  {
   "cell_type": "code",
   "execution_count": 196,
   "metadata": {
    "collapsed": false
   },
   "outputs": [],
   "source": [
    "data_corr2 = merged_train_final[['boarding_needed_dummy', \n",
    "                                 u'fire_occured_dummy', u'usps_occupied_dummy',\n",
    "                                u'vote_dummy', u'year_total', u'electric_dummy',\n",
    "                                u'SalePrice', u'LandValue', \n",
    "                                u'fine_amount', 'SqFt']]"
   ]
  },
  {
   "cell_type": "code",
   "execution_count": 197,
   "metadata": {
    "collapsed": false
   },
   "outputs": [
    {
     "data": {
      "text/plain": [
       "<matplotlib.axes._subplots.AxesSubplot at 0x16f681c10>"
      ]
     },
     "execution_count": 197,
     "metadata": {},
     "output_type": "execute_result"
    },
    {
     "data": {
      "image/png": "[encoded data removed]",
      "text/plain": [
       "<matplotlib.figure.Figure at 0x16f68b850>"
      ]
     },
     "metadata": {},
     "output_type": "display_data"
    }
   ],
   "source": [
    "sns.heatmap(data_corr2.corr(), annot=True)"
   ]
  },
  {
   "cell_type": "code",
   "execution_count": 199,
   "metadata": {
    "collapsed": true
   },
   "outputs": [],
   "source": [
    "data_corr3 = merged_train_final[['boarding_needed_dummy', u'violation__Allowing bulk solid waste to lie or accumulate on or about the premises',\n",
    "                                                                                                                                                                      u'violation__Bulk solid waste deposited more than 24 hours before designated time',\n",
    "                                                                                                                                                             u'violation__Defective exterior wall(s) one- or two-family dwelling or commercial building',\n",
    "                                                                                                                                                             u'violation__Defective roof or drainage one- or two-family dwelling or commercial building',\n",
    "                                                                                                           u'violation__Depositing domestic or commercial solid waste in containers owned, assigned to, or contracted for, by other persons or premises',\n",
    "                                                                                                    u'violation__Dumping,  or deposting solid waste of five (5) cubic feet or more from any motor vehicle upon any public or private property or street',\n",
    "                                                                                          u'violation__Dumping, storing or depositing solid waste 5 or more cubic yards on any publicly-owned property, or private property or water, without a permit ',\n",
    "                                                                                                                 u'violation__Dumping, storing or depositing solid waste on any publicly-owned property, or private property or water, without a permit',\n",
    "                                                                                                                                                        u'violation__Excessive weeds or plant growth one- or two-family dwelling or commercial Building',\n",
    "                                                                                    u'violation__Fail to comply with an Emergency or imminent danger order concerining an unsafe or unsanitary structure or unlawful occupancy (1 or 2 family dwelling)',\n",
    "                                                                   u'violation__Fail to comply with an Emergency or imminent danger order concerining an unsafe or unsanitary structure or unlawful occupancy (Buildings with five (5) or more stories)',\n",
    "                                      u'violation__Fail to comply with an Emergency or imminent danger order concerining an unsafe or unsanitary structure or unlawful occupancy (all other structures, except buildings with five (5) or more stories)',\n",
    "                                                                                                                                        u'violation__Failed to comply with other land use or procedural requirements - Unlawful Sign, Banner or antenna',\n",
    "                                                                                                                                                             u'violation__Failed to obtain the required Certificate of registration for Vacant Building',\n",
    "                                                                                                                                                          u'violation__Failing to secure City or Private solid waste collection containers and services',\n",
    "                                                      u'violation__Failure of owner of a building with five (5) or more stories to comply with an emergency or imminent danger order concerning an unsafe or unsanitary structure or unlawful occupancy',\n",
    "                          u'violation__Failure of owner of any other structure, except buildings with five (5) or more stories, to comply with an emergency or imminent danger order concerning an unsafe or unsanitary structure or unlawful occupancy',\n",
    "                                                                  u'violation__Failure of owner of one- or two-family dwelling to comply with an emergency or imminent danger order concerining an unsafe or unsanitary structure or unlawful occupancy',\n",
    "                                                                                                                          u'violation__Failure of owner to comply with an emergency or imminent danger order of one- or two-family dwelling or building',\n",
    "                                                                                                                                      u'violation__Failure of owner to keep property, its sidewalks, or adjoining public property free from solid waste',\n",
    "                                                                                                                u'violation__Failure of owner to keep property, its sidewalks, or adjoining public property free from solid, medical or hazardous waste',\n",
    "                                                                                                                                                                                      u'violation__Failure of owner to obtain certificate of compliance',\n",
    "                                                                                                                                                     u'violation__Failure of owner to remove graffiti or maintain or restore property free of graffiti.',\n",
    "       u'violation__Failure to maintain a vacant building or structure in accordance with the requirements of Section 9-1-113 of the Detroit City Code: (1) - (12) (All structures except 1 or 2 family dwellings and buildings with 5 or more stories)',\n",
    "                                                               u'violation__Failure to maintain a vacant building or structure in accordance with the requirements of Section 9-1-113 of the Detroit City Code: (1) - (12) (One or Two Family dwelling)',\n",
    "                                                                                                                                             u'violation__Failure to maintain accessory structure(s) one-or two- family dwelling or commercial building',\n",
    "                                                                                                                                  u'violation__Failure to maintain balcony, deck, porch, or stairway one- or two-family dwelling or commercial building',\n",
    "           u'violation__Failure to maintain exterior of one- or two-family dwelling, building, premises or commercial structure in good repair, structurally sound or in a sanitary condition to prevent threat to the public health, safety or welfare',\n",
    "                                                                                                                                                                       u'violation__Failure to maintain vacant one- or two- family dwelling or building',\n",
    "                                                                                                                                                                           u'violation__Failure to obtain Certificate of Compliance for rental property',\n",
    "                                                                                                                                                       u'violation__Failure to obtain a lead clearance for rental property - one or two-family dwelling',\n",
    "                                                                                                                 u'violation__Failure to obtain a permit for large movable or stationary container prior to the installation on any public right-of-way',\n",
    "                                                                                                                                                                         u'violation__Failure to obtain certificate of registration for rental property',\n",
    "                                                                                                                                                                       u'violation__Failure to obtain the certificate of Compliance for Vacant Building',\n",
    "                                                                                                                                                                                 u'violation__Failure to remove animal waste on public/private property',\n",
    "                                                                                                                                                          u'violation__Failure to secure City or Private solid waste collection containers and services',\n",
    "                                                                                                                                                                             u'violation__Improper placement of Courville container between collections',\n",
    "                                                                                                                                                                         u'violation__Improper storage and separation of solid waste for collection day',\n",
    "                                                                                                                                                            u'violation__Inoperable motor vehicle(s) one- or two-family dwelling or commercial building',\n",
    "                                                                                                                                                                                       u'violation__Open Storage/ Residential/ Inoperable Vehicles (R1)',\n",
    "                                                                                                                                                                                                    u'violation__Removal of snow and ice from sidewalks',\n",
    "                                                                                                                                                                        u'violation__Rodent harborage one-or two-family dwelling or commercial building',\n",
    "                                                                                                                                                   u'violation__Unlawful accumulation of solid waste one- or two-family dwelling or commercial building',\n",
    "                                                                                                                                                                                                u'violation__Unlawful change of use of building or land',\n",
    "                                                                                                     u'violation__Unlawful occupation of rental property without lead clearance -  all other structures, except buildings with five (5) or more stories',\n",
    "                                                                                                                                                u'violation__Unlawful occupation of rental property without lead clearance - one or two-family dwelling',\n",
    "                                                                                                                                                     u'violation__Violation of time limit for approved containers to remain at curbside - early or late']]"
   ]
  },
  {
   "cell_type": "code",
   "execution_count": 201,
   "metadata": {
    "collapsed": false
   },
   "outputs": [
    {
     "data": {
      "text/plain": [
       "<matplotlib.axes._subplots.AxesSubplot at 0x1717a1490>"
      ]
     },
     "execution_count": 201,
     "metadata": {},
     "output_type": "execute_result"
    },
    {
     "data": {
      "image/png": "[encoded data removed]",
      "text/plain": [
       "<matplotlib.figure.Figure at 0x171c45050>"
      ]
     },
     "metadata": {},
     "output_type": "display_data"
    }
   ],
   "source": [
    "sns.heatmap(data_corr3.corr(), annot=False)"
   ]
  },
  {
   "cell_type": "markdown",
   "metadata": {},
   "source": [
    "## Classification"
   ]
  },
  {
   "cell_type": "code",
   "execution_count": 202,
   "metadata": {
    "collapsed": false
   },
   "outputs": [
    {
     "data": {
      "text/plain": [
       "Index([                                                                                                                                                                                                                                        u'Ref_ID',\n",
       "                                                                                                                                                                                                                                u'boarding_needed_dummy',\n",
       "                                                                                                                                                                                                                                   u'fire_occured_dummy',\n",
       "                                                                                                                                                                                                                                  u'usps_occupied_dummy',\n",
       "                                                                                                                                                                                                                                           u'vote_dummy',\n",
       "                                                                                                                                                                                                                                                 u'NINE',\n",
       "                                                                                                                                                                                                                                                  u'TEN',\n",
       "                                                                                                                                                                                                                                               u'ELEVEN',\n",
       "                                                                                                                                                                                                                                               u'TWELVE',\n",
       "                                                                                                                                                                                                                                                  u'ONE',\n",
       "                                                                                                                                                                                                                                                  u'TWO',\n",
       "                                                                                                                                                                                                                                                u'THREE',\n",
       "                                                                                                                                                                                                                                                 u'FOUR',\n",
       "                                                                                                                                                                                                                                                 u'FIVE',\n",
       "                                                                                                                                                                                                                                                  u'SIX',\n",
       "                                                                                                                                                                                                                                                u'SEVEN',\n",
       "                                                                                                                                                                                                                                                u'EIGHT',\n",
       "                                                                                                                                                                                                                                           u'year_total',\n",
       "                                                                                                                                                                                                                                            u'SalePrice',\n",
       "                                                                                                                                                                                                                                            u'LandValue',\n",
       "                                                                                                                                                                                                                                                 u'SqFt',\n",
       "                                                                                                                                                                                                                                      u'LLC_Owner_dummy',\n",
       "                                                                                                                                                                                                                                            u'gas_dummy',\n",
       "                                                                                                                                                                                                                                       u'electric_dummy',\n",
       "                                                                                                                                                                                                                                          u'fine_amount',\n",
       "                                                                                                                                                                   u'violation__Allowing bulk solid waste to lie or accumulate on or about the premises',\n",
       "                                                                                                                                                                      u'violation__Bulk solid waste deposited more than 24 hours before designated time',\n",
       "                                                                                                                                                             u'violation__Defective exterior wall(s) one- or two-family dwelling or commercial building',\n",
       "                                                                                                                                                             u'violation__Defective roof or drainage one- or two-family dwelling or commercial building',\n",
       "                                                                                                           u'violation__Depositing domestic or commercial solid waste in containers owned, assigned to, or contracted for, by other persons or premises',\n",
       "                                                                                                    u'violation__Dumping,  or deposting solid waste of five (5) cubic feet or more from any motor vehicle upon any public or private property or street',\n",
       "                                                                                          u'violation__Dumping, storing or depositing solid waste 5 or more cubic yards on any publicly-owned property, or private property or water, without a permit ',\n",
       "                                                                                                                 u'violation__Dumping, storing or depositing solid waste on any publicly-owned property, or private property or water, without a permit',\n",
       "                                                                                                                                                        u'violation__Excessive weeds or plant growth one- or two-family dwelling or commercial Building',\n",
       "                                                                                    u'violation__Fail to comply with an Emergency or imminent danger order concerining an unsafe or unsanitary structure or unlawful occupancy (1 or 2 family dwelling)',\n",
       "                                                                   u'violation__Fail to comply with an Emergency or imminent danger order concerining an unsafe or unsanitary structure or unlawful occupancy (Buildings with five (5) or more stories)',\n",
       "                                      u'violation__Fail to comply with an Emergency or imminent danger order concerining an unsafe or unsanitary structure or unlawful occupancy (all other structures, except buildings with five (5) or more stories)',\n",
       "                                                                                                                                        u'violation__Failed to comply with other land use or procedural requirements - Unlawful Sign, Banner or antenna',\n",
       "                                                                                                                                                             u'violation__Failed to obtain the required Certificate of registration for Vacant Building',\n",
       "                                                                                                                                                          u'violation__Failing to secure City or Private solid waste collection containers and services',\n",
       "                                                      u'violation__Failure of owner of a building with five (5) or more stories to comply with an emergency or imminent danger order concerning an unsafe or unsanitary structure or unlawful occupancy',\n",
       "                          u'violation__Failure of owner of any other structure, except buildings with five (5) or more stories, to comply with an emergency or imminent danger order concerning an unsafe or unsanitary structure or unlawful occupancy',\n",
       "                                                                  u'violation__Failure of owner of one- or two-family dwelling to comply with an emergency or imminent danger order concerining an unsafe or unsanitary structure or unlawful occupancy',\n",
       "                                                                                                                          u'violation__Failure of owner to comply with an emergency or imminent danger order of one- or two-family dwelling or building',\n",
       "                                                                                                                                      u'violation__Failure of owner to keep property, its sidewalks, or adjoining public property free from solid waste',\n",
       "                                                                                                                u'violation__Failure of owner to keep property, its sidewalks, or adjoining public property free from solid, medical or hazardous waste',\n",
       "                                                                                                                                                                                      u'violation__Failure of owner to obtain certificate of compliance',\n",
       "                                                                                                                                                     u'violation__Failure of owner to remove graffiti or maintain or restore property free of graffiti.',\n",
       "       u'violation__Failure to maintain a vacant building or structure in accordance with the requirements of Section 9-1-113 of the Detroit City Code: (1) - (12) (All structures except 1 or 2 family dwellings and buildings with 5 or more stories)',\n",
       "                                                               u'violation__Failure to maintain a vacant building or structure in accordance with the requirements of Section 9-1-113 of the Detroit City Code: (1) - (12) (One or Two Family dwelling)',\n",
       "                                                                                                                                             u'violation__Failure to maintain accessory structure(s) one-or two- family dwelling or commercial building',\n",
       "                                                                                                                                  u'violation__Failure to maintain balcony, deck, porch, or stairway one- or two-family dwelling or commercial building',\n",
       "           u'violation__Failure to maintain exterior of one- or two-family dwelling, building, premises or commercial structure in good repair, structurally sound or in a sanitary condition to prevent threat to the public health, safety or welfare',\n",
       "                                                                                                                                                                       u'violation__Failure to maintain vacant one- or two- family dwelling or building',\n",
       "                                                                                                                                                                           u'violation__Failure to obtain Certificate of Compliance for rental property',\n",
       "                                                                                                                                                       u'violation__Failure to obtain a lead clearance for rental property - one or two-family dwelling',\n",
       "                                                                                                                 u'violation__Failure to obtain a permit for large movable or stationary container prior to the installation on any public right-of-way',\n",
       "                                                                                                                                                                         u'violation__Failure to obtain certificate of registration for rental property',\n",
       "                                                                                                                                                                       u'violation__Failure to obtain the certificate of Compliance for Vacant Building',\n",
       "                                                                                                                                                                                 u'violation__Failure to remove animal waste on public/private property',\n",
       "                                                                                                                                                          u'violation__Failure to secure City or Private solid waste collection containers and services',\n",
       "                                                                                                                                                                             u'violation__Improper placement of Courville container between collections',\n",
       "                                                                                                                                                                         u'violation__Improper storage and separation of solid waste for collection day',\n",
       "                                                                                                                                                            u'violation__Inoperable motor vehicle(s) one- or two-family dwelling or commercial building',\n",
       "                                                                                                                                                                                       u'violation__Open Storage/ Residential/ Inoperable Vehicles (R1)',\n",
       "                                                                                                                                                                                                    u'violation__Removal of snow and ice from sidewalks',\n",
       "                                                                                                                                                                        u'violation__Rodent harborage one-or two-family dwelling or commercial building',\n",
       "                                                                                                                                                   u'violation__Unlawful accumulation of solid waste one- or two-family dwelling or commercial building',\n",
       "                                                                                                                                                                                                u'violation__Unlawful change of use of building or land',\n",
       "                                                                                                     u'violation__Unlawful occupation of rental property without lead clearance -  all other structures, except buildings with five (5) or more stories',\n",
       "                                                                                                                                                u'violation__Unlawful occupation of rental property without lead clearance - one or two-family dwelling',\n",
       "                                                                                                                                                     u'violation__Violation of time limit for approved containers to remain at curbside - early or late'],\n",
       "      dtype='object')"
      ]
     },
     "execution_count": 202,
     "metadata": {},
     "output_type": "execute_result"
    }
   ],
   "source": [
    "merged_train_final.columns"
   ]
  },
  {
   "cell_type": "code",
   "execution_count": 203,
   "metadata": {
    "collapsed": true
   },
   "outputs": [],
   "source": [
    "X = merged_train_final[[u'fire_occured_dummy', u'usps_occupied_dummy',\n",
    "                                u'vote_dummy', u'year_total', u'electric_dummy',\n",
    "                                u'SalePrice', u'LandValue', \n",
    "                                u'fine_amount', 'SqFt',\n",
    "                        u'violation__Allowing bulk solid waste to lie or accumulate on or about the premises',\n",
    "                                                                                                                                                                      u'violation__Bulk solid waste deposited more than 24 hours before designated time',\n",
    "                                                                                                                                                             u'violation__Defective exterior wall(s) one- or two-family dwelling or commercial building',\n",
    "                                                                                                                                                             u'violation__Defective roof or drainage one- or two-family dwelling or commercial building',\n",
    "                                                                                                           u'violation__Depositing domestic or commercial solid waste in containers owned, assigned to, or contracted for, by other persons or premises',\n",
    "                                                                                                    u'violation__Dumping,  or deposting solid waste of five (5) cubic feet or more from any motor vehicle upon any public or private property or street',\n",
    "                                                                                          u'violation__Dumping, storing or depositing solid waste 5 or more cubic yards on any publicly-owned property, or private property or water, without a permit ',\n",
    "                                                                                                                 u'violation__Dumping, storing or depositing solid waste on any publicly-owned property, or private property or water, without a permit',\n",
    "                                                                                                                                                        u'violation__Excessive weeds or plant growth one- or two-family dwelling or commercial Building',\n",
    "                                                                                    u'violation__Fail to comply with an Emergency or imminent danger order concerining an unsafe or unsanitary structure or unlawful occupancy (1 or 2 family dwelling)',\n",
    "                                                                   u'violation__Fail to comply with an Emergency or imminent danger order concerining an unsafe or unsanitary structure or unlawful occupancy (Buildings with five (5) or more stories)',\n",
    "                                      u'violation__Fail to comply with an Emergency or imminent danger order concerining an unsafe or unsanitary structure or unlawful occupancy (all other structures, except buildings with five (5) or more stories)',\n",
    "                                                                                                                                        u'violation__Failed to comply with other land use or procedural requirements - Unlawful Sign, Banner or antenna',\n",
    "                                                                                                                                                             u'violation__Failed to obtain the required Certificate of registration for Vacant Building',\n",
    "                                                                                                                                                          u'violation__Failing to secure City or Private solid waste collection containers and services',\n",
    "                                                      u'violation__Failure of owner of a building with five (5) or more stories to comply with an emergency or imminent danger order concerning an unsafe or unsanitary structure or unlawful occupancy',\n",
    "                          u'violation__Failure of owner of any other structure, except buildings with five (5) or more stories, to comply with an emergency or imminent danger order concerning an unsafe or unsanitary structure or unlawful occupancy',\n",
    "                                                                  u'violation__Failure of owner of one- or two-family dwelling to comply with an emergency or imminent danger order concerining an unsafe or unsanitary structure or unlawful occupancy',\n",
    "                                                                                                                          u'violation__Failure of owner to comply with an emergency or imminent danger order of one- or two-family dwelling or building',\n",
    "                                                                                                                                      u'violation__Failure of owner to keep property, its sidewalks, or adjoining public property free from solid waste',\n",
    "                                                                                                                u'violation__Failure of owner to keep property, its sidewalks, or adjoining public property free from solid, medical or hazardous waste',\n",
    "                                                                                                                                                                                      u'violation__Failure of owner to obtain certificate of compliance',\n",
    "                                                                                                                                                     u'violation__Failure of owner to remove graffiti or maintain or restore property free of graffiti.',\n",
    "       u'violation__Failure to maintain a vacant building or structure in accordance with the requirements of Section 9-1-113 of the Detroit City Code: (1) - (12) (All structures except 1 or 2 family dwellings and buildings with 5 or more stories)',\n",
    "                                                               u'violation__Failure to maintain a vacant building or structure in accordance with the requirements of Section 9-1-113 of the Detroit City Code: (1) - (12) (One or Two Family dwelling)',\n",
    "                                                                                                                                             u'violation__Failure to maintain accessory structure(s) one-or two- family dwelling or commercial building',\n",
    "                                                                                                                                  u'violation__Failure to maintain balcony, deck, porch, or stairway one- or two-family dwelling or commercial building',\n",
    "           u'violation__Failure to maintain exterior of one- or two-family dwelling, building, premises or commercial structure in good repair, structurally sound or in a sanitary condition to prevent threat to the public health, safety or welfare',\n",
    "                                                                                                                                                                       u'violation__Failure to maintain vacant one- or two- family dwelling or building',\n",
    "                                                                                                                                                                           u'violation__Failure to obtain Certificate of Compliance for rental property',\n",
    "                                                                                                                                                       u'violation__Failure to obtain a lead clearance for rental property - one or two-family dwelling',\n",
    "                                                                                                                 u'violation__Failure to obtain a permit for large movable or stationary container prior to the installation on any public right-of-way',\n",
    "                                                                                                                                                                         u'violation__Failure to obtain certificate of registration for rental property',\n",
    "                                                                                                                                                                       u'violation__Failure to obtain the certificate of Compliance for Vacant Building',\n",
    "                                                                                                                                                                                 u'violation__Failure to remove animal waste on public/private property',\n",
    "                                                                                                                                                          u'violation__Failure to secure City or Private solid waste collection containers and services',\n",
    "                                                                                                                                                                             u'violation__Improper placement of Courville container between collections',\n",
    "                                                                                                                                                                         u'violation__Improper storage and separation of solid waste for collection day',\n",
    "                                                                                                                                                            u'violation__Inoperable motor vehicle(s) one- or two-family dwelling or commercial building',\n",
    "                                                                                                                                                                                       u'violation__Open Storage/ Residential/ Inoperable Vehicles (R1)',\n",
    "                                                                                                                                                                                                    u'violation__Removal of snow and ice from sidewalks',\n",
    "                                                                                                                                                                        u'violation__Rodent harborage one-or two-family dwelling or commercial building',\n",
    "                                                                                                                                                   u'violation__Unlawful accumulation of solid waste one- or two-family dwelling or commercial building',\n",
    "                                                                                                                                                                                                u'violation__Unlawful change of use of building or land',\n",
    "                                                                                                     u'violation__Unlawful occupation of rental property without lead clearance -  all other structures, except buildings with five (5) or more stories',\n",
    "                                                                                                                                                u'violation__Unlawful occupation of rental property without lead clearance - one or two-family dwelling',\n",
    "                                                                                                                                                     u'violation__Violation of time limit for approved containers to remain at curbside - early or late']]\n",
    "y = merged_train_final.boarding_needed_dummy"
   ]
  },
  {
   "cell_type": "code",
   "execution_count": 204,
   "metadata": {
    "collapsed": true
   },
   "outputs": [],
   "source": [
    "X_train, X_test, y_train, y_test = train_test_split(X, y, test_size=0.3, random_state=123)"
   ]
  },
  {
   "cell_type": "code",
   "execution_count": 205,
   "metadata": {
    "collapsed": false
   },
   "outputs": [
    {
     "data": {
      "text/plain": [
       "15309"
      ]
     },
     "execution_count": 205,
     "metadata": {},
     "output_type": "execute_result"
    }
   ],
   "source": [
    "len(X_train)"
   ]
  },
  {
   "cell_type": "markdown",
   "metadata": {},
   "source": [
    "### Class imbalance correction"
   ]
  },
  {
   "cell_type": "code",
   "execution_count": 206,
   "metadata": {
    "collapsed": false
   },
   "outputs": [
    {
     "data": {
      "text/html": [
       "<div>\n",
       "<style scoped>\n",
       "    .dataframe tbody tr th:only-of-type {\n",
       "        vertical-align: middle;\n",
       "    }\n",
       "\n",
       "    .dataframe tbody tr th {\n",
       "        vertical-align: top;\n",
       "    }\n",
       "\n",
       "    .dataframe thead th {\n",
       "        text-align: right;\n",
       "    }\n",
       "</style>\n",
       "<table border=\"1\" class=\"dataframe\">\n",
       "  <thead>\n",
       "    <tr style=\"text-align: right;\">\n",
       "      <th></th>\n",
       "      <th>boarding_needed_dummy</th>\n",
       "      <th>fire_occured_dummy</th>\n",
       "    </tr>\n",
       "  </thead>\n",
       "  <tbody>\n",
       "    <tr>\n",
       "      <th>0</th>\n",
       "      <td>0</td>\n",
       "      <td>15340</td>\n",
       "    </tr>\n",
       "    <tr>\n",
       "      <th>1</th>\n",
       "      <td>1</td>\n",
       "      <td>6531</td>\n",
       "    </tr>\n",
       "  </tbody>\n",
       "</table>\n",
       "</div>"
      ],
      "text/plain": [
       "   boarding_needed_dummy  fire_occured_dummy\n",
       "0                      0               15340\n",
       "1                      1                6531"
      ]
     },
     "execution_count": 206,
     "metadata": {},
     "output_type": "execute_result"
    }
   ],
   "source": [
    "merged_train_final.groupby(['boarding_needed_dummy'], as_index=False)['fire_occured_dummy'].count()"
   ]
  },
  {
   "cell_type": "markdown",
   "metadata": {},
   "source": [
    "### Logistic Classification"
   ]
  },
  {
   "cell_type": "code",
   "execution_count": 207,
   "metadata": {
    "collapsed": false
   },
   "outputs": [
    {
     "data": {
      "text/plain": [
       "LogisticRegression(C=1.0, class_weight=None, dual=False, fit_intercept=True,\n",
       "          intercept_scaling=1, max_iter=100, multi_class='ovr', n_jobs=1,\n",
       "          penalty='l2', random_state=None, solver='liblinear', tol=0.0001,\n",
       "          verbose=0, warm_start=False)"
      ]
     },
     "execution_count": 207,
     "metadata": {},
     "output_type": "execute_result"
    }
   ],
   "source": [
    "logmodel = LogisticRegression()\n",
    "logmodel.fit(X_train,y_train)"
   ]
  },
  {
   "cell_type": "code",
   "execution_count": 208,
   "metadata": {
    "collapsed": true
   },
   "outputs": [],
   "source": [
    "predictions = logmodel.predict(X_test)"
   ]
  },
  {
   "cell_type": "code",
   "execution_count": 209,
   "metadata": {
    "collapsed": false,
    "scrolled": false
   },
   "outputs": [
    {
     "name": "stdout",
     "output_type": "stream",
     "text": [
      "             precision    recall  f1-score   support\n",
      "\n",
      "          0       0.70      1.00      0.82      4591\n",
      "          1       0.80      0.01      0.02      1971\n",
      "\n",
      "avg / total       0.73      0.70      0.58      6562\n",
      "\n"
     ]
    }
   ],
   "source": [
    "print(classification_report(y_test,predictions))"
   ]
  },
  {
   "cell_type": "code",
   "execution_count": 210,
   "metadata": {
    "collapsed": false
   },
   "outputs": [
    {
     "name": "stdout",
     "output_type": "stream",
     "text": [
      "0.5054348276539997\n"
     ]
    }
   ],
   "source": [
    "print(roc_auc_score(y_test, predictions))"
   ]
  },
  {
   "cell_type": "markdown",
   "metadata": {},
   "source": [
    "### use Over Sampling to correct class imbalance\n",
    "- code taken from http://contrib.scikit-learn.org/imbalanced-learn/stable/over_sampling.html"
   ]
  },
  {
   "cell_type": "code",
   "execution_count": 211,
   "metadata": {
    "collapsed": true
   },
   "outputs": [],
   "source": [
    "ros = RandomOverSampler(random_state=0, ratio='minority')\n",
    "X_resampled, y_resampled = ros.fit_sample(X_train, y_train)"
   ]
  },
  {
   "cell_type": "code",
   "execution_count": 212,
   "metadata": {
    "collapsed": false
   },
   "outputs": [
    {
     "data": {
      "text/plain": [
       "LogisticRegression(C=1.0, class_weight=None, dual=False, fit_intercept=True,\n",
       "          intercept_scaling=1, max_iter=100, multi_class='ovr', n_jobs=1,\n",
       "          penalty='l2', random_state=None, solver='liblinear', tol=0.0001,\n",
       "          verbose=0, warm_start=False)"
      ]
     },
     "execution_count": 212,
     "metadata": {},
     "output_type": "execute_result"
    }
   ],
   "source": [
    "logmodel = LogisticRegression()\n",
    "logmodel.fit(X_resampled,y_resampled)"
   ]
  },
  {
   "cell_type": "code",
   "execution_count": 213,
   "metadata": {
    "collapsed": true
   },
   "outputs": [],
   "source": [
    "predictions = logmodel.predict(X_test)"
   ]
  },
  {
   "cell_type": "code",
   "execution_count": 214,
   "metadata": {
    "collapsed": false
   },
   "outputs": [
    {
     "name": "stdout",
     "output_type": "stream",
     "text": [
      "             precision    recall  f1-score   support\n",
      "\n",
      "          0       0.80      0.79      0.79      4591\n",
      "          1       0.52      0.54      0.53      1971\n",
      "\n",
      "avg / total       0.72      0.71      0.71      6562\n",
      "\n"
     ]
    }
   ],
   "source": [
    "print(classification_report(y_test,predictions))"
   ]
  },
  {
   "cell_type": "code",
   "execution_count": 215,
   "metadata": {
    "collapsed": false
   },
   "outputs": [
    {
     "name": "stdout",
     "output_type": "stream",
     "text": [
      "0.6643054855191167\n"
     ]
    }
   ],
   "source": [
    "print(roc_auc_score(y_test, predictions))"
   ]
  },
  {
   "cell_type": "markdown",
   "metadata": {},
   "source": [
    "### Use SMOTE to correct class imbalance\n",
    "- code taken from http://contrib.scikit-learn.org/imbalanced-learn/stable/over_sampling.html"
   ]
  },
  {
   "cell_type": "code",
   "execution_count": 216,
   "metadata": {
    "collapsed": true
   },
   "outputs": [],
   "source": [
    "X_resampled, y_resampled = SMOTE().fit_sample(X_train, y_train)"
   ]
  },
  {
   "cell_type": "markdown",
   "metadata": {},
   "source": [
    "### Random Forest"
   ]
  },
  {
   "cell_type": "code",
   "execution_count": 217,
   "metadata": {
    "collapsed": true
   },
   "outputs": [],
   "source": [
    "r_tree = RFC()"
   ]
  },
  {
   "cell_type": "code",
   "execution_count": 218,
   "metadata": {
    "collapsed": false
   },
   "outputs": [
    {
     "data": {
      "text/plain": [
       "GridSearchCV(cv=None, error_score='raise',\n",
       "       estimator=RandomForestClassifier(bootstrap=True, class_weight=None, criterion='gini',\n",
       "            max_depth=None, max_features='auto', max_leaf_nodes=None,\n",
       "            min_impurity_decrease=0.0, min_impurity_split=None,\n",
       "            min_samples_leaf=1, min_samples_split=2,\n",
       "            min_weight_fraction_leaf=0.0, n_estimators=10, n_jobs=1,\n",
       "            oob_score=False, random_state=None, verbose=0,\n",
       "            warm_start=False),\n",
       "       fit_params=None, iid=True, n_jobs=1,\n",
       "       param_grid={'n_estimators': array([  1, 101, 201, 301, 401, 501, 601]), 'max_depth': [9, 11, 13, 15, 17]},\n",
       "       pre_dispatch='2*n_jobs', refit=True, return_train_score='warn',\n",
       "       scoring=None, verbose=0)"
      ]
     },
     "execution_count": 218,
     "metadata": {},
     "output_type": "execute_result"
    }
   ],
   "source": [
    "param_grid = {'max_depth': [9, 11, 13, 15, 17], 'n_estimators': np.arange(1,602,100)}\n",
    "r_tree_tuned = GridSearchCV(r_tree, param_grid)\n",
    "r_tree_tuned.fit(X_resampled, y_resampled)"
   ]
  },
  {
   "cell_type": "code",
   "execution_count": 219,
   "metadata": {
    "collapsed": true
   },
   "outputs": [],
   "source": [
    "feature_importance = r_tree_tuned.best_estimator_.fit(X_resampled, y_resampled).feature_importances_"
   ]
  },
  {
   "cell_type": "code",
   "execution_count": 220,
   "metadata": {
    "collapsed": false
   },
   "outputs": [],
   "source": [
    "Feature_importance_df = pd.DataFrame([list(X_train.columns), list(feature_importance)]).T\n",
    "Feature_importance_df.columns = [\"variables\", \"importance\"]\n",
    "Feature_importance_df.sort_values(by=\"importance\", ascending=False, inplace=True)\n",
    "Feature_importance_df.reset_index(inplace=True)\n",
    "Feature_importance_df.drop(u'index', axis=1, inplace=True)"
   ]
  },
  {
   "cell_type": "code",
   "execution_count": 221,
   "metadata": {
    "collapsed": false
   },
   "outputs": [
    {
     "data": {
      "text/html": [
       "<div>\n",
       "<style scoped>\n",
       "    .dataframe tbody tr th:only-of-type {\n",
       "        vertical-align: middle;\n",
       "    }\n",
       "\n",
       "    .dataframe tbody tr th {\n",
       "        vertical-align: top;\n",
       "    }\n",
       "\n",
       "    .dataframe thead th {\n",
       "        text-align: right;\n",
       "    }\n",
       "</style>\n",
       "<table border=\"1\" class=\"dataframe\">\n",
       "  <thead>\n",
       "    <tr style=\"text-align: right;\">\n",
       "      <th></th>\n",
       "      <th>variables</th>\n",
       "      <th>importance</th>\n",
       "    </tr>\n",
       "  </thead>\n",
       "  <tbody>\n",
       "    <tr>\n",
       "      <th>0</th>\n",
       "      <td>usps_occupied_dummy</td>\n",
       "      <td>0.226972</td>\n",
       "    </tr>\n",
       "    <tr>\n",
       "      <th>1</th>\n",
       "      <td>vote_dummy</td>\n",
       "      <td>0.178311</td>\n",
       "    </tr>\n",
       "    <tr>\n",
       "      <th>2</th>\n",
       "      <td>electric_dummy</td>\n",
       "      <td>0.102446</td>\n",
       "    </tr>\n",
       "    <tr>\n",
       "      <th>3</th>\n",
       "      <td>violation__Excessive weeds or plant growth one...</td>\n",
       "      <td>0.0566924</td>\n",
       "    </tr>\n",
       "    <tr>\n",
       "      <th>4</th>\n",
       "      <td>SqFt</td>\n",
       "      <td>0.0545483</td>\n",
       "    </tr>\n",
       "    <tr>\n",
       "      <th>5</th>\n",
       "      <td>LandValue</td>\n",
       "      <td>0.054462</td>\n",
       "    </tr>\n",
       "    <tr>\n",
       "      <th>6</th>\n",
       "      <td>SalePrice</td>\n",
       "      <td>0.0502649</td>\n",
       "    </tr>\n",
       "    <tr>\n",
       "      <th>7</th>\n",
       "      <td>fine_amount</td>\n",
       "      <td>0.0413132</td>\n",
       "    </tr>\n",
       "    <tr>\n",
       "      <th>8</th>\n",
       "      <td>fire_occured_dummy</td>\n",
       "      <td>0.0367833</td>\n",
       "    </tr>\n",
       "    <tr>\n",
       "      <th>9</th>\n",
       "      <td>violation__Allowing bulk solid waste to lie or...</td>\n",
       "      <td>0.0355431</td>\n",
       "    </tr>\n",
       "    <tr>\n",
       "      <th>10</th>\n",
       "      <td>violation__Failure of owner to obtain certific...</td>\n",
       "      <td>0.0312255</td>\n",
       "    </tr>\n",
       "    <tr>\n",
       "      <th>11</th>\n",
       "      <td>year_total</td>\n",
       "      <td>0.0249738</td>\n",
       "    </tr>\n",
       "    <tr>\n",
       "      <th>12</th>\n",
       "      <td>violation__Failure to obtain certificate of re...</td>\n",
       "      <td>0.0224017</td>\n",
       "    </tr>\n",
       "    <tr>\n",
       "      <th>13</th>\n",
       "      <td>violation__Failure of owner to keep property, ...</td>\n",
       "      <td>0.0210613</td>\n",
       "    </tr>\n",
       "    <tr>\n",
       "      <th>14</th>\n",
       "      <td>violation__Violation of time limit for approve...</td>\n",
       "      <td>0.00968729</td>\n",
       "    </tr>\n",
       "    <tr>\n",
       "      <th>15</th>\n",
       "      <td>violation__Inoperable motor vehicle(s) one- or...</td>\n",
       "      <td>0.0057699</td>\n",
       "    </tr>\n",
       "    <tr>\n",
       "      <th>16</th>\n",
       "      <td>violation__Rodent harborage one-or two-family ...</td>\n",
       "      <td>0.00522794</td>\n",
       "    </tr>\n",
       "    <tr>\n",
       "      <th>17</th>\n",
       "      <td>violation__Improper placement of Courville con...</td>\n",
       "      <td>0.00506816</td>\n",
       "    </tr>\n",
       "    <tr>\n",
       "      <th>18</th>\n",
       "      <td>violation__Bulk solid waste deposited more tha...</td>\n",
       "      <td>0.00413452</td>\n",
       "    </tr>\n",
       "    <tr>\n",
       "      <th>19</th>\n",
       "      <td>violation__Failure of owner to keep property, ...</td>\n",
       "      <td>0.00354064</td>\n",
       "    </tr>\n",
       "    <tr>\n",
       "      <th>20</th>\n",
       "      <td>violation__Failure to maintain a vacant buildi...</td>\n",
       "      <td>0.002851</td>\n",
       "    </tr>\n",
       "    <tr>\n",
       "      <th>21</th>\n",
       "      <td>violation__Failure of owner of one- or two-fam...</td>\n",
       "      <td>0.0028437</td>\n",
       "    </tr>\n",
       "    <tr>\n",
       "      <th>22</th>\n",
       "      <td>violation__Unlawful occupation of rental prope...</td>\n",
       "      <td>0.00282248</td>\n",
       "    </tr>\n",
       "    <tr>\n",
       "      <th>23</th>\n",
       "      <td>violation__Fail to comply with an Emergency or...</td>\n",
       "      <td>0.00282066</td>\n",
       "    </tr>\n",
       "    <tr>\n",
       "      <th>24</th>\n",
       "      <td>violation__Improper storage and separation of ...</td>\n",
       "      <td>0.00244423</td>\n",
       "    </tr>\n",
       "    <tr>\n",
       "      <th>25</th>\n",
       "      <td>violation__Failure of owner to comply with an ...</td>\n",
       "      <td>0.00230779</td>\n",
       "    </tr>\n",
       "    <tr>\n",
       "      <th>26</th>\n",
       "      <td>violation__Dumping, storing or depositing soli...</td>\n",
       "      <td>0.00157038</td>\n",
       "    </tr>\n",
       "    <tr>\n",
       "      <th>27</th>\n",
       "      <td>violation__Dumping, storing or depositing soli...</td>\n",
       "      <td>0.00154614</td>\n",
       "    </tr>\n",
       "    <tr>\n",
       "      <th>28</th>\n",
       "      <td>violation__Removal of snow and ice from sidewalks</td>\n",
       "      <td>0.0014722</td>\n",
       "    </tr>\n",
       "    <tr>\n",
       "      <th>29</th>\n",
       "      <td>violation__Open Storage/ Residential/ Inoperab...</td>\n",
       "      <td>0.00122896</td>\n",
       "    </tr>\n",
       "    <tr>\n",
       "      <th>30</th>\n",
       "      <td>violation__Failed to obtain the required Certi...</td>\n",
       "      <td>0.00120629</td>\n",
       "    </tr>\n",
       "    <tr>\n",
       "      <th>31</th>\n",
       "      <td>violation__Defective roof or drainage one- or ...</td>\n",
       "      <td>0.000712416</td>\n",
       "    </tr>\n",
       "    <tr>\n",
       "      <th>32</th>\n",
       "      <td>violation__Dumping,  or deposting solid waste ...</td>\n",
       "      <td>0.000689936</td>\n",
       "    </tr>\n",
       "    <tr>\n",
       "      <th>33</th>\n",
       "      <td>violation__Failure to obtain the certificate o...</td>\n",
       "      <td>0.00056201</td>\n",
       "    </tr>\n",
       "    <tr>\n",
       "      <th>34</th>\n",
       "      <td>violation__Depositing domestic or commercial s...</td>\n",
       "      <td>0.00053818</td>\n",
       "    </tr>\n",
       "    <tr>\n",
       "      <th>35</th>\n",
       "      <td>violation__Failure to maintain balcony, deck, ...</td>\n",
       "      <td>0.000525356</td>\n",
       "    </tr>\n",
       "    <tr>\n",
       "      <th>36</th>\n",
       "      <td>violation__Failure to maintain accessory struc...</td>\n",
       "      <td>0.000471929</td>\n",
       "    </tr>\n",
       "    <tr>\n",
       "      <th>37</th>\n",
       "      <td>violation__Failure to maintain vacant one- or ...</td>\n",
       "      <td>0.000414811</td>\n",
       "    </tr>\n",
       "    <tr>\n",
       "      <th>38</th>\n",
       "      <td>violation__Unlawful accumulation of solid wast...</td>\n",
       "      <td>0.000327505</td>\n",
       "    </tr>\n",
       "    <tr>\n",
       "      <th>39</th>\n",
       "      <td>violation__Failure to maintain exterior of one...</td>\n",
       "      <td>0.000277941</td>\n",
       "    </tr>\n",
       "    <tr>\n",
       "      <th>40</th>\n",
       "      <td>violation__Defective exterior wall(s) one- or ...</td>\n",
       "      <td>0.000267192</td>\n",
       "    </tr>\n",
       "    <tr>\n",
       "      <th>41</th>\n",
       "      <td>violation__Failure to maintain a vacant buildi...</td>\n",
       "      <td>0.000239451</td>\n",
       "    </tr>\n",
       "    <tr>\n",
       "      <th>42</th>\n",
       "      <td>violation__Failure to obtain Certificate of Co...</td>\n",
       "      <td>0.00023734</td>\n",
       "    </tr>\n",
       "    <tr>\n",
       "      <th>43</th>\n",
       "      <td>violation__Failure of owner to remove graffiti...</td>\n",
       "      <td>0.000237268</td>\n",
       "    </tr>\n",
       "    <tr>\n",
       "      <th>44</th>\n",
       "      <td>violation__Failure to obtain a lead clearance ...</td>\n",
       "      <td>0.000232237</td>\n",
       "    </tr>\n",
       "    <tr>\n",
       "      <th>45</th>\n",
       "      <td>violation__Fail to comply with an Emergency or...</td>\n",
       "      <td>0.00019771</td>\n",
       "    </tr>\n",
       "    <tr>\n",
       "      <th>46</th>\n",
       "      <td>violation__Failure to remove animal waste on p...</td>\n",
       "      <td>0.000172442</td>\n",
       "    </tr>\n",
       "    <tr>\n",
       "      <th>47</th>\n",
       "      <td>violation__Failure to secure City or Private s...</td>\n",
       "      <td>0.000145026</td>\n",
       "    </tr>\n",
       "    <tr>\n",
       "      <th>48</th>\n",
       "      <td>violation__Failure of owner of any other struc...</td>\n",
       "      <td>0.000103291</td>\n",
       "    </tr>\n",
       "    <tr>\n",
       "      <th>49</th>\n",
       "      <td>violation__Unlawful change of use of building ...</td>\n",
       "      <td>9.0713e-05</td>\n",
       "    </tr>\n",
       "    <tr>\n",
       "      <th>50</th>\n",
       "      <td>violation__Unlawful occupation of rental prope...</td>\n",
       "      <td>8.77373e-06</td>\n",
       "    </tr>\n",
       "    <tr>\n",
       "      <th>51</th>\n",
       "      <td>violation__Fail to comply with an Emergency or...</td>\n",
       "      <td>3.3011e-06</td>\n",
       "    </tr>\n",
       "    <tr>\n",
       "      <th>52</th>\n",
       "      <td>violation__Failed to comply with other land us...</td>\n",
       "      <td>3.08456e-06</td>\n",
       "    </tr>\n",
       "    <tr>\n",
       "      <th>53</th>\n",
       "      <td>violation__Failure of owner of a building with...</td>\n",
       "      <td>1.23456e-06</td>\n",
       "    </tr>\n",
       "    <tr>\n",
       "      <th>54</th>\n",
       "      <td>violation__Failure to obtain a permit for larg...</td>\n",
       "      <td>0</td>\n",
       "    </tr>\n",
       "    <tr>\n",
       "      <th>55</th>\n",
       "      <td>violation__Failing to secure City or Private s...</td>\n",
       "      <td>0</td>\n",
       "    </tr>\n",
       "  </tbody>\n",
       "</table>\n",
       "</div>"
      ],
      "text/plain": [
       "                                            variables   importance\n",
       "0                                 usps_occupied_dummy     0.226972\n",
       "1                                          vote_dummy     0.178311\n",
       "2                                      electric_dummy     0.102446\n",
       "3   violation__Excessive weeds or plant growth one...    0.0566924\n",
       "4                                                SqFt    0.0545483\n",
       "5                                           LandValue     0.054462\n",
       "6                                           SalePrice    0.0502649\n",
       "7                                         fine_amount    0.0413132\n",
       "8                                  fire_occured_dummy    0.0367833\n",
       "9   violation__Allowing bulk solid waste to lie or...    0.0355431\n",
       "10  violation__Failure of owner to obtain certific...    0.0312255\n",
       "11                                         year_total    0.0249738\n",
       "12  violation__Failure to obtain certificate of re...    0.0224017\n",
       "13  violation__Failure of owner to keep property, ...    0.0210613\n",
       "14  violation__Violation of time limit for approve...   0.00968729\n",
       "15  violation__Inoperable motor vehicle(s) one- or...    0.0057699\n",
       "16  violation__Rodent harborage one-or two-family ...   0.00522794\n",
       "17  violation__Improper placement of Courville con...   0.00506816\n",
       "18  violation__Bulk solid waste deposited more tha...   0.00413452\n",
       "19  violation__Failure of owner to keep property, ...   0.00354064\n",
       "20  violation__Failure to maintain a vacant buildi...     0.002851\n",
       "21  violation__Failure of owner of one- or two-fam...    0.0028437\n",
       "22  violation__Unlawful occupation of rental prope...   0.00282248\n",
       "23  violation__Fail to comply with an Emergency or...   0.00282066\n",
       "24  violation__Improper storage and separation of ...   0.00244423\n",
       "25  violation__Failure of owner to comply with an ...   0.00230779\n",
       "26  violation__Dumping, storing or depositing soli...   0.00157038\n",
       "27  violation__Dumping, storing or depositing soli...   0.00154614\n",
       "28  violation__Removal of snow and ice from sidewalks    0.0014722\n",
       "29  violation__Open Storage/ Residential/ Inoperab...   0.00122896\n",
       "30  violation__Failed to obtain the required Certi...   0.00120629\n",
       "31  violation__Defective roof or drainage one- or ...  0.000712416\n",
       "32  violation__Dumping,  or deposting solid waste ...  0.000689936\n",
       "33  violation__Failure to obtain the certificate o...   0.00056201\n",
       "34  violation__Depositing domestic or commercial s...   0.00053818\n",
       "35  violation__Failure to maintain balcony, deck, ...  0.000525356\n",
       "36  violation__Failure to maintain accessory struc...  0.000471929\n",
       "37  violation__Failure to maintain vacant one- or ...  0.000414811\n",
       "38  violation__Unlawful accumulation of solid wast...  0.000327505\n",
       "39  violation__Failure to maintain exterior of one...  0.000277941\n",
       "40  violation__Defective exterior wall(s) one- or ...  0.000267192\n",
       "41  violation__Failure to maintain a vacant buildi...  0.000239451\n",
       "42  violation__Failure to obtain Certificate of Co...   0.00023734\n",
       "43  violation__Failure of owner to remove graffiti...  0.000237268\n",
       "44  violation__Failure to obtain a lead clearance ...  0.000232237\n",
       "45  violation__Fail to comply with an Emergency or...   0.00019771\n",
       "46  violation__Failure to remove animal waste on p...  0.000172442\n",
       "47  violation__Failure to secure City or Private s...  0.000145026\n",
       "48  violation__Failure of owner of any other struc...  0.000103291\n",
       "49  violation__Unlawful change of use of building ...   9.0713e-05\n",
       "50  violation__Unlawful occupation of rental prope...  8.77373e-06\n",
       "51  violation__Fail to comply with an Emergency or...   3.3011e-06\n",
       "52  violation__Failed to comply with other land us...  3.08456e-06\n",
       "53  violation__Failure of owner of a building with...  1.23456e-06\n",
       "54  violation__Failure to obtain a permit for larg...            0\n",
       "55  violation__Failing to secure City or Private s...            0"
      ]
     },
     "execution_count": 221,
     "metadata": {},
     "output_type": "execute_result"
    }
   ],
   "source": [
    "Feature_importance_df"
   ]
  },
  {
   "cell_type": "code",
   "execution_count": 222,
   "metadata": {
    "collapsed": false
   },
   "outputs": [
    {
     "data": {
      "text/plain": [
       "{'max_depth': 17, 'n_estimators': 301}"
      ]
     },
     "execution_count": 222,
     "metadata": {},
     "output_type": "execute_result"
    }
   ],
   "source": [
    "r_tree_tuned.best_params_"
   ]
  },
  {
   "cell_type": "markdown",
   "metadata": {},
   "source": [
    "### Final Model Evaluation"
   ]
  },
  {
   "cell_type": "markdown",
   "metadata": {},
   "source": [
    "### Model Evaluation:\n",
    "\n",
    "- we want to minimize homes being misclassified as unoccupied when they are really occupied\n",
    "- this means we want to maximize the precision of 0 (unoccupied) as that minimizes the statement above\n",
    "- False Negative of 0 means a home is classified as being occupied but is really unoccupied"
   ]
  },
  {
   "cell_type": "markdown",
   "metadata": {},
   "source": [
    "<img src=\"Precisionrecall.png\",width=300,height=300>"
   ]
  },
  {
   "cell_type": "code",
   "execution_count": 223,
   "metadata": {
    "collapsed": true
   },
   "outputs": [],
   "source": [
    "predictions = r_tree_tuned.predict(X_test)\n",
    "predict_probability = r_tree_tuned.predict_proba(X_test)[:,1]"
   ]
  },
  {
   "cell_type": "code",
   "execution_count": 224,
   "metadata": {
    "collapsed": false
   },
   "outputs": [
    {
     "data": {
      "text/plain": [
       "0.7581530021334959"
      ]
     },
     "execution_count": 224,
     "metadata": {},
     "output_type": "execute_result"
    }
   ],
   "source": [
    "accuracy(y_test, predictions)"
   ]
  },
  {
   "cell_type": "code",
   "execution_count": 225,
   "metadata": {
    "collapsed": true
   },
   "outputs": [],
   "source": [
    "def bool_to_num(v):\n",
    "    if v == 'True':\n",
    "        return '1'\n",
    "    elif v == 'False':\n",
    "        return '0'\n",
    "    else:\n",
    "        return v"
   ]
  },
  {
   "cell_type": "code",
   "execution_count": 228,
   "metadata": {
    "collapsed": false
   },
   "outputs": [
    {
     "name": "stdout",
     "output_type": "stream",
     "text": [
      "0.6475027630549303\n"
     ]
    }
   ],
   "source": [
    "print(roc_auc_score(y_test, predictions))"
   ]
  },
  {
   "cell_type": "code",
   "execution_count": 230,
   "metadata": {
    "collapsed": false
   },
   "outputs": [
    {
     "name": "stdout",
     "output_type": "stream",
     "text": [
      "             precision    recall  f1-score   support\n",
      "\n",
      "          0       0.77      0.92      0.84      4591\n",
      "          1       0.68      0.37      0.48      1971\n",
      "\n",
      "avg / total       0.75      0.76      0.73      6562\n",
      "\n"
     ]
    }
   ],
   "source": [
    "print(classification_report(y_test,predictions))"
   ]
  },
  {
   "cell_type": "markdown",
   "metadata": {},
   "source": [
    "## Read in full data"
   ]
  },
  {
   "cell_type": "code",
   "execution_count": null,
   "metadata": {
    "collapsed": true
   },
   "outputs": [],
   "source": [
    "data_full = '../data/OccModel_FittingFullData_20170922/'"
   ]
  },
  {
   "cell_type": "markdown",
   "metadata": {},
   "source": [
    "#### DTE data"
   ]
  },
  {
   "cell_type": "code",
   "execution_count": null,
   "metadata": {
    "collapsed": false
   },
   "outputs": [],
   "source": [
    "dte_full_df = pd.read_csv(data_full + 'DTE_ActiveGasElectric_GeocoderMatches_20170920.txt')"
   ]
  },
  {
   "cell_type": "code",
   "execution_count": null,
   "metadata": {
    "collapsed": false
   },
   "outputs": [],
   "source": [
    "dte_full_df = dte_full_df[['Ref_ID', 'DS_SER_PRODUCT_TYPE']]"
   ]
  },
  {
   "cell_type": "code",
   "execution_count": null,
   "metadata": {
    "collapsed": true
   },
   "outputs": [],
   "source": [
    "### Deduplicate data\n",
    "dte_full_df = dte_full_df.drop_duplicates()"
   ]
  },
  {
   "cell_type": "code",
   "execution_count": null,
   "metadata": {
    "collapsed": false
   },
   "outputs": [],
   "source": [
    "### long to wide reshape on DS_SER_PRODUCT_TYPE\n",
    "dte_full_df['gas_dummy'] = [1 if x=='GAS' else 0 for x in dte_full_df['DS_SER_PRODUCT_TYPE']]\n",
    "dte_full_df['electric_dummy'] = [1 if x=='ELC' else 0 for x in dte_full_df['DS_SER_PRODUCT_TYPE']]\n",
    "dte_full_df = dte_full_df.groupby(['Ref_ID'], as_index=False)['gas_dummy', 'electric_dummy'].sum()"
   ]
  },
  {
   "cell_type": "code",
   "execution_count": null,
   "metadata": {
    "collapsed": false
   },
   "outputs": [],
   "source": [
    "len(dte_full_df)"
   ]
  },
  {
   "cell_type": "markdown",
   "metadata": {},
   "source": [
    "#### DWSD (Water Department) data"
   ]
  },
  {
   "cell_type": "code",
   "execution_count": null,
   "metadata": {
    "collapsed": true
   },
   "outputs": [],
   "source": [
    "dwsd_full_df = pd.read_csv(data_full + 'DWSD_12Mo_20170825.csv')"
   ]
  },
  {
   "cell_type": "code",
   "execution_count": null,
   "metadata": {
    "collapsed": false
   },
   "outputs": [],
   "source": [
    "dwsd_full_df[[u'NINE', u'TEN', u'ELEVEN', u'TWELVE', u'ONE', u'TWO', u'THREE', \\\n",
    "              u'FOUR', u'FIVE', u'SIX', u'SEVEN',u'EIGHT']] \\\n",
    "            = dwsd_full_df[[u'NINE', u'TEN', u'ELEVEN', u'TWELVE', u'ONE', \\\n",
    "                            u'TWO', u'THREE', u'FOUR', u'FIVE', u'SIX', u'SEVEN',\\\n",
    "                            u'EIGHT']].apply(pandas_to_numeric)"
   ]
  },
  {
   "cell_type": "code",
   "execution_count": null,
   "metadata": {
    "collapsed": false
   },
   "outputs": [],
   "source": [
    "dwsd_full_df['year_total'] = dwsd_full_df.NINE + dwsd_full_df.TEN + dwsd_full_df.ELEVEN + \\\n",
    "                             dwsd_full_df.TWELVE + dwsd_full_df.ONE + dwsd_full_df.TWO + \\\n",
    "                             dwsd_full_df.THREE + dwsd_full_df.FOUR + dwsd_full_df.FIVE + \\\n",
    "                             dwsd_full_df.SIX + dwsd_full_df.SEVEN + dwsd_full_df.EIGHT"
   ]
  },
  {
   "cell_type": "code",
   "execution_count": null,
   "metadata": {
    "collapsed": false
   },
   "outputs": [],
   "source": [
    "dwsd_full_df = dwsd_full_df[['REPAIREDPARCELID', u'year_total']]"
   ]
  },
  {
   "cell_type": "code",
   "execution_count": null,
   "metadata": {
    "collapsed": true
   },
   "outputs": [],
   "source": [
    "dwsd_full_df.columns = ['Ref_ID', 'year_total']"
   ]
  },
  {
   "cell_type": "code",
   "execution_count": null,
   "metadata": {
    "collapsed": false
   },
   "outputs": [],
   "source": [
    "### sum water amounts of duplicate properties \n",
    "dwsd_full_df = dwsd_full_df.groupby(['Ref_ID'], as_index=False)[ u'year_total'].sum()"
   ]
  },
  {
   "cell_type": "markdown",
   "metadata": {},
   "source": [
    "#### USPS / DFD (Fire Department) data"
   ]
  },
  {
   "cell_type": "code",
   "execution_count": null,
   "metadata": {
    "collapsed": false
   },
   "outputs": [],
   "source": [
    "usps_full_df = pd.read_csv(data_full + 'DFD_USPS_20170829.csv')"
   ]
  },
  {
   "cell_type": "code",
   "execution_count": null,
   "metadata": {
    "collapsed": false
   },
   "outputs": [],
   "source": [
    "usps_full_df.head()"
   ]
  },
  {
   "cell_type": "code",
   "execution_count": null,
   "metadata": {
    "collapsed": false
   },
   "outputs": [],
   "source": [
    "usps_full_df.columns = [u'Account Name', u'Ref_ID', u'Property Class', u'USPS: Last Update',\n",
    "       u'USPS: Vacancy Indicated', u'DFD Fire: Occurrence Date',]"
   ]
  },
  {
   "cell_type": "code",
   "execution_count": null,
   "metadata": {
    "collapsed": false
   },
   "outputs": [],
   "source": [
    "### subset to residential data\n",
    "usps_full_df = usps_full_df[usps_full_df['Property Class'] == 'Residential-Structure']"
   ]
  },
  {
   "cell_type": "code",
   "execution_count": null,
   "metadata": {
    "collapsed": false
   },
   "outputs": [],
   "source": [
    "### create DFD fire dummy\n",
    "usps_full_df['fire_occured_dummy'] = [0 if pd.isnull(x) else 1 for x in usps_full_df['DFD Fire: Occurrence Date']]"
   ]
  },
  {
   "cell_type": "code",
   "execution_count": null,
   "metadata": {
    "collapsed": true
   },
   "outputs": [],
   "source": [
    "### create USPS occupied dummy\n",
    "usps_full_df['usps_occupied_dummy'] = [1 if x == \"No\" else 0 for x in usps_full_df['USPS: Vacancy Indicated']]"
   ]
  },
  {
   "cell_type": "code",
   "execution_count": null,
   "metadata": {
    "collapsed": true
   },
   "outputs": [],
   "source": [
    "### Just keep variables we need\n",
    "usps_full_df = usps_full_df[[u'Ref_ID', u'fire_occured_dummy',\n",
    "                   u'usps_occupied_dummy']]"
   ]
  },
  {
   "cell_type": "markdown",
   "metadata": {},
   "source": [
    "#### QVF (voter registration) data"
   ]
  },
  {
   "cell_type": "code",
   "execution_count": null,
   "metadata": {
    "collapsed": false
   },
   "outputs": [],
   "source": [
    "vote_full_df = pd.read_csv(data_full + 'QVF_Detroit_Geo_20170717.txt')"
   ]
  },
  {
   "cell_type": "code",
   "execution_count": null,
   "metadata": {
    "collapsed": false
   },
   "outputs": [],
   "source": [
    "vote_full_df = vote_full_df[['Ref_ID']]\n",
    "vote_full_df['vote_dummy'] = 1"
   ]
  },
  {
   "cell_type": "code",
   "execution_count": null,
   "metadata": {
    "collapsed": true
   },
   "outputs": [],
   "source": [
    "vote_full_df = vote_full_df.drop_duplicates()"
   ]
  },
  {
   "cell_type": "markdown",
   "metadata": {},
   "source": [
    "#### Address Data"
   ]
  },
  {
   "cell_type": "code",
   "execution_count": null,
   "metadata": {
    "collapsed": true
   },
   "outputs": [],
   "source": [
    "addy_full_df = pd.read_csv(data_full + 'ResStructureParcelsAccountIDs_20170920.csv')"
   ]
  },
  {
   "cell_type": "code",
   "execution_count": null,
   "metadata": {
    "collapsed": false
   },
   "outputs": [],
   "source": [
    "addy_full_df.head()"
   ]
  },
  {
   "cell_type": "code",
   "execution_count": null,
   "metadata": {
    "collapsed": true
   },
   "outputs": [],
   "source": []
  },
  {
   "cell_type": "code",
   "execution_count": null,
   "metadata": {
    "collapsed": true
   },
   "outputs": [],
   "source": [
    "### subset to residential data\n",
    "addy_full_df = addy_full_df[addy_full_df['Property Class'] == 'Residential-Structure']"
   ]
  },
  {
   "cell_type": "code",
   "execution_count": null,
   "metadata": {
    "collapsed": true
   },
   "outputs": [],
   "source": [
    "addy_full_df.columns = ['Account_ID', 'Ref_ID', 'Account_Name', 'Property_Ownership', 'Property_Class']"
   ]
  },
  {
   "cell_type": "code",
   "execution_count": null,
   "metadata": {
    "collapsed": false
   },
   "outputs": [],
   "source": [
    "len(addy_full_df)"
   ]
  },
  {
   "cell_type": "markdown",
   "metadata": {},
   "source": [
    "### Merge Datasets together"
   ]
  },
  {
   "cell_type": "code",
   "execution_count": null,
   "metadata": {
    "collapsed": true
   },
   "outputs": [],
   "source": [
    "# merge mcm data with usps / dfd data\n",
    "merged_full = addy_full_df.merge(usps_full_df, how='left', on='Ref_ID')"
   ]
  },
  {
   "cell_type": "code",
   "execution_count": null,
   "metadata": {
    "collapsed": false
   },
   "outputs": [],
   "source": [
    "#merge on voter (qvf) data\n",
    "merged_full2 = merged_full.merge(vote_full_df, how='left', on='Ref_ID')"
   ]
  },
  {
   "cell_type": "code",
   "execution_count": null,
   "metadata": {
    "collapsed": true
   },
   "outputs": [],
   "source": [
    "#fill in NaNs for vote_dummy\n",
    "merged_full2['vote_dummy'] = [0 if pd.isnull(x) else 1 for x in merged_full2['vote_dummy']]"
   ]
  },
  {
   "cell_type": "code",
   "execution_count": null,
   "metadata": {
    "collapsed": false,
    "scrolled": false
   },
   "outputs": [],
   "source": [
    "#merge on dwsd data\n",
    "merged_full3 = merged_full2.merge(dwsd_full_df, how='left', on='Ref_ID')\n",
    "#fill in 0s for properties w/ no water\n",
    "merged_full3.fillna(value=0,inplace=True)"
   ]
  },
  {
   "cell_type": "code",
   "execution_count": null,
   "metadata": {
    "collapsed": false
   },
   "outputs": [],
   "source": [
    "#merge on dte data\n",
    "merged_full_final = merged_full3.merge(dte_full_df, how='left', on='Ref_ID')\n",
    "merged_full_final.fillna(value=0,inplace=True)"
   ]
  },
  {
   "cell_type": "code",
   "execution_count": null,
   "metadata": {
    "collapsed": false
   },
   "outputs": [],
   "source": [
    "merged_full_final.head()"
   ]
  },
  {
   "cell_type": "code",
   "execution_count": null,
   "metadata": {
    "collapsed": false
   },
   "outputs": [],
   "source": [
    "merged_full_final.columns"
   ]
  },
  {
   "cell_type": "markdown",
   "metadata": {},
   "source": [
    "## Applying Predictions to full dataset"
   ]
  },
  {
   "cell_type": "code",
   "execution_count": null,
   "metadata": {
    "collapsed": false
   },
   "outputs": [],
   "source": [
    "X.columns"
   ]
  },
  {
   "cell_type": "code",
   "execution_count": null,
   "metadata": {
    "collapsed": false
   },
   "outputs": [],
   "source": [
    "merged_full_final.copy()[['fire_occured_dummy', u'usps_occupied_dummy', u'vote_dummy',\n",
    "                u'year_total', u'electric_dummy']].head()"
   ]
  },
  {
   "cell_type": "code",
   "execution_count": null,
   "metadata": {
    "collapsed": false
   },
   "outputs": [],
   "source": [
    "predictions_df = merged_full_final.copy()[['fire_occured_dummy', u'usps_occupied_dummy', u'vote_dummy',\n",
    "                u'year_total', u'electric_dummy']]"
   ]
  },
  {
   "cell_type": "code",
   "execution_count": null,
   "metadata": {
    "collapsed": false
   },
   "outputs": [],
   "source": [
    "merged_full_final['prediction_occupancy'] = r_tree_tuned.predict(predictions_df)\n",
    "merged_full_final['prediction_occupancy_proba'] = r_tree_tuned.predict_proba(predictions_df)[:,1]"
   ]
  },
  {
   "cell_type": "code",
   "execution_count": null,
   "metadata": {
    "collapsed": false
   },
   "outputs": [],
   "source": [
    "merged_full_final.head()"
   ]
  },
  {
   "cell_type": "markdown",
   "metadata": {},
   "source": [
    "### Investigating Final Housing Statistics"
   ]
  },
  {
   "cell_type": "markdown",
   "metadata": {},
   "source": [
    "#### Number of occupied homes in Detroit"
   ]
  },
  {
   "cell_type": "code",
   "execution_count": null,
   "metadata": {
    "collapsed": false
   },
   "outputs": [],
   "source": [
    "len(merged_full_final)"
   ]
  },
  {
   "cell_type": "code",
   "execution_count": null,
   "metadata": {
    "collapsed": false
   },
   "outputs": [],
   "source": [
    "sum(merged_full_final.prediction_occupancy)"
   ]
  },
  {
   "cell_type": "code",
   "execution_count": null,
   "metadata": {
    "collapsed": false
   },
   "outputs": [],
   "source": [
    "sum(merged_full_final.prediction_occupancy) * 1.0 / len(merged_full_final)"
   ]
  },
  {
   "cell_type": "markdown",
   "metadata": {},
   "source": [
    "#### Number of occupied homes owned by DLBA"
   ]
  },
  {
   "cell_type": "code",
   "execution_count": null,
   "metadata": {
    "collapsed": false
   },
   "outputs": [],
   "source": [
    "merged_full_final.groupby(['Property_Ownership'])['prediction_occupancy'].sum()"
   ]
  },
  {
   "cell_type": "code",
   "execution_count": null,
   "metadata": {
    "collapsed": false
   },
   "outputs": [],
   "source": [
    "merged_full_final.groupby(['Property_Ownership'])['prediction_occupancy'].count()"
   ]
  },
  {
   "cell_type": "code",
   "execution_count": null,
   "metadata": {
    "collapsed": false
   },
   "outputs": [],
   "source": [
    "3293*1.0 / 31146"
   ]
  },
  {
   "cell_type": "markdown",
   "metadata": {},
   "source": [
    "## Export Final Data"
   ]
  },
  {
   "cell_type": "code",
   "execution_count": null,
   "metadata": {
    "collapsed": true
   },
   "outputs": [],
   "source": [
    "# to .csv\n",
    "#merged_full_final.to_csv('OPM_output_final.csv', sep='\\t')"
   ]
  },
  {
   "cell_type": "code",
   "execution_count": null,
   "metadata": {
    "collapsed": false
   },
   "outputs": [],
   "source": [
    "merged_full_final.head()"
   ]
  },
  {
   "cell_type": "code",
   "execution_count": null,
   "metadata": {
    "collapsed": true
   },
   "outputs": [],
   "source": [
    "### export just DLBA properties\n",
    "DLBA_final = merged_full_final[merged_full_final.Property_Ownership=='DLBA Owned']"
   ]
  },
  {
   "cell_type": "code",
   "execution_count": null,
   "metadata": {
    "collapsed": false
   },
   "outputs": [],
   "source": [
    "DLBA_final.head()"
   ]
  },
  {
   "cell_type": "code",
   "execution_count": null,
   "metadata": {
    "collapsed": true
   },
   "outputs": [],
   "source": [
    "#DLBA_final.to_csv('OPM_output_final_DLBA.csv', sep='\\t')"
   ]
  },
  {
   "cell_type": "code",
   "execution_count": null,
   "metadata": {
    "collapsed": true
   },
   "outputs": [],
   "source": []
  }
 ],
 "metadata": {
  "anaconda-cloud": {},
  "kernelspec": {
   "display_name": "Python [Root]",
   "language": "python",
   "name": "Python [Root]"
  },
  "language_info": {
   "codemirror_mode": {
    "name": "ipython",
    "version": 2
   },
   "file_extension": ".py",
   "mimetype": "text/x-python",
   "name": "python",
   "nbconvert_exporter": "python",
   "pygments_lexer": "ipython2",
   "version": "2.7.12"
  }
 },
 "nbformat": 4,
 "nbformat_minor": 2
}
